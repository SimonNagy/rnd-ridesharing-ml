{
 "cells": [
  {
   "cell_type": "code",
   "execution_count": 28,
   "metadata": {
    "collapsed": true
   },
   "outputs": [],
   "source": [
    "import pandas as pd\n",
    "from geopandas. tools import geocode"
   ]
  },
  {
   "cell_type": "code",
   "execution_count": 5,
   "outputs": [],
   "source": [
    "df = pd.read_csv('../data/data_preprocessed_v02_geocoding')"
   ],
   "metadata": {
    "collapsed": false
   }
  },
  {
   "cell_type": "code",
   "execution_count": 6,
   "outputs": [],
   "source": [
    "all_origins = df['origin_city']"
   ],
   "metadata": {
    "collapsed": false
   }
  },
  {
   "cell_type": "code",
   "execution_count": 13,
   "outputs": [
    {
     "data": {
      "text/plain": "array(['Miskolc', 'Budapest', 'Kecskemét', ..., 'Hajmáskér', 'Trento',\n       'Gemzse'], dtype=object)"
     },
     "execution_count": 13,
     "metadata": {},
     "output_type": "execute_result"
    }
   ],
   "source": [
    "all_origins.unique()"
   ],
   "metadata": {
    "collapsed": false
   }
  },
  {
   "cell_type": "code",
   "execution_count": 25,
   "outputs": [],
   "source": [
    "origins = all_origins.unique()"
   ],
   "metadata": {
    "collapsed": false
   }
  },
  {
   "cell_type": "code",
   "execution_count": 30,
   "outputs": [],
   "source": [
    "origins_df = pd.DataFrame(origins)\n",
    "# converting numpy array to pandas dataframe"
   ],
   "metadata": {
    "collapsed": false
   }
  },
  {
   "cell_type": "code",
   "execution_count": 32,
   "outputs": [
    {
     "name": "stdout",
     "output_type": "stream",
     "text": [
      "Miskolc\n"
     ]
    },
    {
     "ename": "ConfigurationError",
     "evalue": "Using Nominatim with default or sample `user_agent` \"geopy/2.3.0\" is strongly discouraged, as it violates Nominatim's ToS https://operations.osmfoundation.org/policies/nominatim/ and may possibly cause 403 and 429 HTTP errors. Please specify a custom `user_agent` with `Nominatim(user_agent=\"my-application\")` or by overriding the default `user_agent`: `geopy.geocoders.options.default_user_agent = \"my-application\"`.",
     "output_type": "error",
     "traceback": [
      "\u001B[1;31m---------------------------------------------------------------------------\u001B[0m",
      "\u001B[1;31mConfigurationError\u001B[0m                        Traceback (most recent call last)",
      "Cell \u001B[1;32mIn[32], line 5\u001B[0m\n\u001B[0;32m      3\u001B[0m \u001B[38;5;28;01mfor\u001B[39;00m index, row \u001B[38;5;129;01min\u001B[39;00m origins_df\u001B[38;5;241m.\u001B[39miterrows():\n\u001B[0;32m      4\u001B[0m     \u001B[38;5;28mprint\u001B[39m(row[\u001B[38;5;241m0\u001B[39m])\n\u001B[1;32m----> 5\u001B[0m     info \u001B[38;5;241m=\u001B[39m \u001B[43mgeocode\u001B[49m\u001B[43m(\u001B[49m\u001B[43mrow\u001B[49m\u001B[43m[\u001B[49m\u001B[38;5;241;43m0\u001B[39;49m\u001B[43m]\u001B[49m\u001B[43m,\u001B[49m\u001B[43mprovider\u001B[49m\u001B[38;5;241;43m=\u001B[39;49m\u001B[38;5;124;43m'\u001B[39;49m\u001B[38;5;124;43mnominatim\u001B[39;49m\u001B[38;5;124;43m'\u001B[39;49m\u001B[43m)\u001B[49m\n",
      "File \u001B[1;32m~\\Documents\\GitHub\\rnd-ridesharing-ml\\rndenv\\lib\\site-packages\\geopandas\\tools\\geocoding.py:67\u001B[0m, in \u001B[0;36mgeocode\u001B[1;34m(strings, provider, **kwargs)\u001B[0m\n\u001B[0;32m     64\u001B[0m     provider \u001B[38;5;241m=\u001B[39m \u001B[38;5;124m\"\u001B[39m\u001B[38;5;124mphoton\u001B[39m\u001B[38;5;124m\"\u001B[39m\n\u001B[0;32m     65\u001B[0m throttle_time \u001B[38;5;241m=\u001B[39m _get_throttle_time(provider)\n\u001B[1;32m---> 67\u001B[0m \u001B[38;5;28;01mreturn\u001B[39;00m _query(strings, \u001B[38;5;28;01mTrue\u001B[39;00m, provider, throttle_time, \u001B[38;5;241m*\u001B[39m\u001B[38;5;241m*\u001B[39mkwargs)\n",
      "File \u001B[1;32m~\\Documents\\GitHub\\rnd-ridesharing-ml\\rndenv\\lib\\site-packages\\geopandas\\tools\\geocoding.py:136\u001B[0m, in \u001B[0;36m_query\u001B[1;34m(data, forward, provider, throttle_time, **kwargs)\u001B[0m\n\u001B[0;32m    133\u001B[0m \u001B[38;5;28;01mif\u001B[39;00m \u001B[38;5;28misinstance\u001B[39m(provider, \u001B[38;5;28mstr\u001B[39m):\n\u001B[0;32m    134\u001B[0m     provider \u001B[38;5;241m=\u001B[39m get_geocoder_for_service(provider)\n\u001B[1;32m--> 136\u001B[0m coder \u001B[38;5;241m=\u001B[39m provider(\u001B[38;5;241m*\u001B[39m\u001B[38;5;241m*\u001B[39mkwargs)\n\u001B[0;32m    137\u001B[0m results \u001B[38;5;241m=\u001B[39m {}\n\u001B[0;32m    138\u001B[0m \u001B[38;5;28;01mfor\u001B[39;00m i, s \u001B[38;5;129;01min\u001B[39;00m data\u001B[38;5;241m.\u001B[39mitems():\n",
      "File \u001B[1;32m~\\Documents\\GitHub\\rnd-ridesharing-ml\\rndenv\\lib\\site-packages\\geopy\\geocoders\\nominatim.py:105\u001B[0m, in \u001B[0;36mNominatim.__init__\u001B[1;34m(self, timeout, proxies, domain, scheme, user_agent, ssl_context, adapter_factory)\u001B[0m\n\u001B[0;32m    101\u001B[0m \u001B[38;5;28mself\u001B[39m\u001B[38;5;241m.\u001B[39mdomain \u001B[38;5;241m=\u001B[39m domain\u001B[38;5;241m.\u001B[39mstrip(\u001B[38;5;124m'\u001B[39m\u001B[38;5;124m/\u001B[39m\u001B[38;5;124m'\u001B[39m)\n\u001B[0;32m    103\u001B[0m \u001B[38;5;28;01mif\u001B[39;00m (\u001B[38;5;28mself\u001B[39m\u001B[38;5;241m.\u001B[39mdomain \u001B[38;5;241m==\u001B[39m _DEFAULT_NOMINATIM_DOMAIN\n\u001B[0;32m    104\u001B[0m         \u001B[38;5;129;01mand\u001B[39;00m \u001B[38;5;28mself\u001B[39m\u001B[38;5;241m.\u001B[39mheaders[\u001B[38;5;124m'\u001B[39m\u001B[38;5;124mUser-Agent\u001B[39m\u001B[38;5;124m'\u001B[39m] \u001B[38;5;129;01min\u001B[39;00m _REJECTED_USER_AGENTS):\n\u001B[1;32m--> 105\u001B[0m     \u001B[38;5;28;01mraise\u001B[39;00m ConfigurationError(\n\u001B[0;32m    106\u001B[0m         \u001B[38;5;124m'\u001B[39m\u001B[38;5;124mUsing Nominatim with default or sample `user_agent` \u001B[39m\u001B[38;5;124m\"\u001B[39m\u001B[38;5;132;01m%s\u001B[39;00m\u001B[38;5;124m\"\u001B[39m\u001B[38;5;124m is \u001B[39m\u001B[38;5;124m'\u001B[39m\n\u001B[0;32m    107\u001B[0m         \u001B[38;5;124m'\u001B[39m\u001B[38;5;124mstrongly discouraged, as it violates Nominatim\u001B[39m\u001B[38;5;130;01m\\'\u001B[39;00m\u001B[38;5;124ms ToS \u001B[39m\u001B[38;5;124m'\u001B[39m\n\u001B[0;32m    108\u001B[0m         \u001B[38;5;124m'\u001B[39m\u001B[38;5;124mhttps://operations.osmfoundation.org/policies/nominatim/ \u001B[39m\u001B[38;5;124m'\u001B[39m\n\u001B[0;32m    109\u001B[0m         \u001B[38;5;124m'\u001B[39m\u001B[38;5;124mand may possibly cause 403 and 429 HTTP errors. \u001B[39m\u001B[38;5;124m'\u001B[39m\n\u001B[0;32m    110\u001B[0m         \u001B[38;5;124m'\u001B[39m\u001B[38;5;124mPlease specify a custom `user_agent` with \u001B[39m\u001B[38;5;124m'\u001B[39m\n\u001B[0;32m    111\u001B[0m         \u001B[38;5;124m'\u001B[39m\u001B[38;5;124m`Nominatim(user_agent=\u001B[39m\u001B[38;5;124m\"\u001B[39m\u001B[38;5;124mmy-application\u001B[39m\u001B[38;5;124m\"\u001B[39m\u001B[38;5;124m)` or by \u001B[39m\u001B[38;5;124m'\u001B[39m\n\u001B[0;32m    112\u001B[0m         \u001B[38;5;124m'\u001B[39m\u001B[38;5;124moverriding the default `user_agent`: \u001B[39m\u001B[38;5;124m'\u001B[39m\n\u001B[0;32m    113\u001B[0m         \u001B[38;5;124m'\u001B[39m\u001B[38;5;124m`geopy.geocoders.options.default_user_agent = \u001B[39m\u001B[38;5;124m\"\u001B[39m\u001B[38;5;124mmy-application\u001B[39m\u001B[38;5;124m\"\u001B[39m\u001B[38;5;124m`.\u001B[39m\u001B[38;5;124m'\u001B[39m\n\u001B[0;32m    114\u001B[0m         \u001B[38;5;241m%\u001B[39m \u001B[38;5;28mself\u001B[39m\u001B[38;5;241m.\u001B[39mheaders[\u001B[38;5;124m'\u001B[39m\u001B[38;5;124mUser-Agent\u001B[39m\u001B[38;5;124m'\u001B[39m]\n\u001B[0;32m    115\u001B[0m     )\n\u001B[0;32m    117\u001B[0m \u001B[38;5;28mself\u001B[39m\u001B[38;5;241m.\u001B[39mapi \u001B[38;5;241m=\u001B[39m \u001B[38;5;124m\"\u001B[39m\u001B[38;5;132;01m%s\u001B[39;00m\u001B[38;5;124m://\u001B[39m\u001B[38;5;132;01m%s\u001B[39;00m\u001B[38;5;132;01m%s\u001B[39;00m\u001B[38;5;124m\"\u001B[39m \u001B[38;5;241m%\u001B[39m (\u001B[38;5;28mself\u001B[39m\u001B[38;5;241m.\u001B[39mscheme, \u001B[38;5;28mself\u001B[39m\u001B[38;5;241m.\u001B[39mdomain, \u001B[38;5;28mself\u001B[39m\u001B[38;5;241m.\u001B[39mgeocode_path)\n\u001B[0;32m    118\u001B[0m \u001B[38;5;28mself\u001B[39m\u001B[38;5;241m.\u001B[39mreverse_api \u001B[38;5;241m=\u001B[39m \u001B[38;5;124m\"\u001B[39m\u001B[38;5;132;01m%s\u001B[39;00m\u001B[38;5;124m://\u001B[39m\u001B[38;5;132;01m%s\u001B[39;00m\u001B[38;5;132;01m%s\u001B[39;00m\u001B[38;5;124m\"\u001B[39m \u001B[38;5;241m%\u001B[39m (\u001B[38;5;28mself\u001B[39m\u001B[38;5;241m.\u001B[39mscheme, \u001B[38;5;28mself\u001B[39m\u001B[38;5;241m.\u001B[39mdomain, \u001B[38;5;28mself\u001B[39m\u001B[38;5;241m.\u001B[39mreverse_path)\n",
      "\u001B[1;31mConfigurationError\u001B[0m: Using Nominatim with default or sample `user_agent` \"geopy/2.3.0\" is strongly discouraged, as it violates Nominatim's ToS https://operations.osmfoundation.org/policies/nominatim/ and may possibly cause 403 and 429 HTTP errors. Please specify a custom `user_agent` with `Nominatim(user_agent=\"my-application\")` or by overriding the default `user_agent`: `geopy.geocoders.options.default_user_agent = \"my-application\"`."
     ]
    }
   ],
   "source": [
    "# geocoding the origin dataframe using OpenStreetMaps\n",
    "# first, iterate through the origin dataframe\n",
    "for index, row in origins_df.iterrows():\n",
    "    print(row[0])\n",
    "    info = geocode(row[0],provider='nominatim')"
   ],
   "metadata": {
    "collapsed": false
   }
  },
  {
   "cell_type": "code",
   "execution_count": null,
   "outputs": [],
   "source": [],
   "metadata": {
    "collapsed": false
   }
  }
 ],
 "metadata": {
  "kernelspec": {
   "display_name": "Python 3",
   "language": "python",
   "name": "python3"
  },
  "language_info": {
   "codemirror_mode": {
    "name": "ipython",
    "version": 2
   },
   "file_extension": ".py",
   "mimetype": "text/x-python",
   "name": "python",
   "nbconvert_exporter": "python",
   "pygments_lexer": "ipython2",
   "version": "2.7.6"
  }
 },
 "nbformat": 4,
 "nbformat_minor": 0
}
