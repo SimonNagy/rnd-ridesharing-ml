{
 "cells": [
  {
   "cell_type": "code",
   "execution_count": 1,
   "metadata": {
    "collapsed": true
   },
   "outputs": [],
   "source": [
    "import pandas as pd\n",
    "import numpy as np\n",
    "import seaborn as sns\n",
    "import matplotlib.pyplot as plt"
   ]
  },
  {
   "cell_type": "code",
   "execution_count": 7,
   "outputs": [],
   "source": [
    "df = pd.read_csv('../data/data_preprocessed_v02_working')"
   ],
   "metadata": {
    "collapsed": false
   }
  },
  {
   "cell_type": "code",
   "execution_count": 8,
   "outputs": [],
   "source": [
    "df = df.drop('Azonosito',axis=1)"
   ],
   "metadata": {
    "collapsed": false
   }
  },
  {
   "cell_type": "code",
   "execution_count": 9,
   "outputs": [],
   "source": [
    "df = df.drop('segedID',axis=1)"
   ],
   "metadata": {
    "collapsed": false
   }
  },
  {
   "cell_type": "code",
   "execution_count": 12,
   "outputs": [],
   "source": [
    "df = df.drop('autosajanlatID',axis=1)"
   ],
   "metadata": {
    "collapsed": false
   }
  },
  {
   "cell_type": "code",
   "execution_count": 13,
   "outputs": [
    {
     "name": "stdout",
     "output_type": "stream",
     "text": [
      "<class 'pandas.core.frame.DataFrame'>\n",
      "RangeIndex: 863638 entries, 0 to 863637\n",
      "Data columns (total 26 columns):\n",
      " #   Column                       Non-Null Count   Dtype \n",
      "---  ------                       --------------   ----- \n",
      " 0   Unnamed: 0                   863638 non-null  int64 \n",
      " 1   no_reserver_seats            863638 non-null  int64 \n",
      " 2   passenger_gender             863638 non-null  object\n",
      " 3   passenger_registration_date  858840 non-null  object\n",
      " 4   passenger_age                863638 non-null  int64 \n",
      " 5   passenger_job                215863 non-null  object\n",
      " 6   year_of_trip                 863638 non-null  int64 \n",
      " 7   origin_city                  863638 non-null  object\n",
      " 8   origin_country               863638 non-null  object\n",
      " 9   erkezesi ido                 863638 non-null  object\n",
      " 10  destination_city             863638 non-null  object\n",
      " 11  destination_country          863638 non-null  object\n",
      " 12  trip_fee                     863638 non-null  int64 \n",
      " 13  currency                     863638 non-null  object\n",
      " 14  national_or_international    863638 non-null  object\n",
      " 15  booking_interval             863638 non-null  int64 \n",
      " 16  business_or_non_business     863638 non-null  object\n",
      " 17  car_year_of_production       863638 non-null  int64 \n",
      " 18  car_age                      863638 non-null  int64 \n",
      " 19  driver_gender                863638 non-null  object\n",
      " 20  date_of_offer                863638 non-null  object\n",
      " 21  max_no_of_passengers         863638 non-null  int64 \n",
      " 22  driver_registration_date     832029 non-null  object\n",
      " 23  reservation_time             863638 non-null  object\n",
      " 24  journey_start_time           863638 non-null  object\n",
      " 25  passenger_birth_date         420203 non-null  object\n",
      "dtypes: int64(9), object(17)\n",
      "memory usage: 171.3+ MB\n"
     ]
    }
   ],
   "source": [
    "df.info()"
   ],
   "metadata": {
    "collapsed": false
   }
  },
  {
   "cell_type": "code",
   "execution_count": 14,
   "outputs": [
    {
     "data": {
      "text/plain": "                           count           mean            std     min  \\\nUnnamed: 0              863638.0  431828.643300  249315.352538     0.0   \nno_reserver_seats       863638.0       1.147034       0.410242     0.0   \npassenger_age           863638.0      77.596164      42.031594    14.0   \nyear_of_trip            863638.0    2014.229108       1.001627  2008.0   \ntrip_fee                863638.0    2555.828748    3296.921032     0.0   \nbooking_interval        863638.0       1.948201       3.196444     0.0   \ncar_year_of_production  863638.0    2004.673453       6.589830     0.0   \ncar_age                 863638.0      13.326547       6.589830     2.0   \nmax_no_of_passengers    863638.0       3.562831       1.653172    -1.0   \n\n                              25%       50%        75%       max  \nUnnamed: 0              215916.25  431832.5  647741.75  863651.0  \nno_reserver_seats            1.00       1.0       1.00      12.0  \npassenger_age               32.00     118.0     118.00     118.0  \nyear_of_trip              2014.00    2015.0    2015.00    2015.0  \ntrip_fee                  1800.00    2000.0    2500.00  391500.0  \nbooking_interval             1.00       1.0       2.00     384.0  \ncar_year_of_production    2002.00    2005.0    2008.00    2016.0  \ncar_age                     10.00      13.0      16.00    2018.0  \nmax_no_of_passengers         3.00       3.0       4.00      52.0  ",
      "text/html": "<div>\n<style scoped>\n    .dataframe tbody tr th:only-of-type {\n        vertical-align: middle;\n    }\n\n    .dataframe tbody tr th {\n        vertical-align: top;\n    }\n\n    .dataframe thead th {\n        text-align: right;\n    }\n</style>\n<table border=\"1\" class=\"dataframe\">\n  <thead>\n    <tr style=\"text-align: right;\">\n      <th></th>\n      <th>count</th>\n      <th>mean</th>\n      <th>std</th>\n      <th>min</th>\n      <th>25%</th>\n      <th>50%</th>\n      <th>75%</th>\n      <th>max</th>\n    </tr>\n  </thead>\n  <tbody>\n    <tr>\n      <th>Unnamed: 0</th>\n      <td>863638.0</td>\n      <td>431828.643300</td>\n      <td>249315.352538</td>\n      <td>0.0</td>\n      <td>215916.25</td>\n      <td>431832.5</td>\n      <td>647741.75</td>\n      <td>863651.0</td>\n    </tr>\n    <tr>\n      <th>no_reserver_seats</th>\n      <td>863638.0</td>\n      <td>1.147034</td>\n      <td>0.410242</td>\n      <td>0.0</td>\n      <td>1.00</td>\n      <td>1.0</td>\n      <td>1.00</td>\n      <td>12.0</td>\n    </tr>\n    <tr>\n      <th>passenger_age</th>\n      <td>863638.0</td>\n      <td>77.596164</td>\n      <td>42.031594</td>\n      <td>14.0</td>\n      <td>32.00</td>\n      <td>118.0</td>\n      <td>118.00</td>\n      <td>118.0</td>\n    </tr>\n    <tr>\n      <th>year_of_trip</th>\n      <td>863638.0</td>\n      <td>2014.229108</td>\n      <td>1.001627</td>\n      <td>2008.0</td>\n      <td>2014.00</td>\n      <td>2015.0</td>\n      <td>2015.00</td>\n      <td>2015.0</td>\n    </tr>\n    <tr>\n      <th>trip_fee</th>\n      <td>863638.0</td>\n      <td>2555.828748</td>\n      <td>3296.921032</td>\n      <td>0.0</td>\n      <td>1800.00</td>\n      <td>2000.0</td>\n      <td>2500.00</td>\n      <td>391500.0</td>\n    </tr>\n    <tr>\n      <th>booking_interval</th>\n      <td>863638.0</td>\n      <td>1.948201</td>\n      <td>3.196444</td>\n      <td>0.0</td>\n      <td>1.00</td>\n      <td>1.0</td>\n      <td>2.00</td>\n      <td>384.0</td>\n    </tr>\n    <tr>\n      <th>car_year_of_production</th>\n      <td>863638.0</td>\n      <td>2004.673453</td>\n      <td>6.589830</td>\n      <td>0.0</td>\n      <td>2002.00</td>\n      <td>2005.0</td>\n      <td>2008.00</td>\n      <td>2016.0</td>\n    </tr>\n    <tr>\n      <th>car_age</th>\n      <td>863638.0</td>\n      <td>13.326547</td>\n      <td>6.589830</td>\n      <td>2.0</td>\n      <td>10.00</td>\n      <td>13.0</td>\n      <td>16.00</td>\n      <td>2018.0</td>\n    </tr>\n    <tr>\n      <th>max_no_of_passengers</th>\n      <td>863638.0</td>\n      <td>3.562831</td>\n      <td>1.653172</td>\n      <td>-1.0</td>\n      <td>3.00</td>\n      <td>3.0</td>\n      <td>4.00</td>\n      <td>52.0</td>\n    </tr>\n  </tbody>\n</table>\n</div>"
     },
     "execution_count": 14,
     "metadata": {},
     "output_type": "execute_result"
    }
   ],
   "source": [
    "df.describe().transpose()"
   ],
   "metadata": {
    "collapsed": false
   }
  },
  {
   "cell_type": "code",
   "execution_count": null,
   "outputs": [],
   "source": [],
   "metadata": {
    "collapsed": false
   }
  }
 ],
 "metadata": {
  "kernelspec": {
   "display_name": "Python 3",
   "language": "python",
   "name": "python3"
  },
  "language_info": {
   "codemirror_mode": {
    "name": "ipython",
    "version": 2
   },
   "file_extension": ".py",
   "mimetype": "text/x-python",
   "name": "python",
   "nbconvert_exporter": "python",
   "pygments_lexer": "ipython2",
   "version": "2.7.6"
  }
 },
 "nbformat": 4,
 "nbformat_minor": 0
}
