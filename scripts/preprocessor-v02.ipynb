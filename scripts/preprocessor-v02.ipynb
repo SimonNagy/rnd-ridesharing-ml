{
 "cells": [
  {
   "cell_type": "code",
   "execution_count": 1,
   "metadata": {
    "collapsed": true
   },
   "outputs": [],
   "source": [
    "import pandas as pd\n",
    "import numpy as np\n",
    "import seaborn as sns\n",
    "import matplotlib.pyplot as plt"
   ]
  },
  {
   "cell_type": "code",
   "execution_count": 2,
   "outputs": [],
   "source": [
    "df = pd.read_csv('../data/raw_data_2.csv',encoding='ISO-8859-1', on_bad_lines='skip',delimiter=';',low_memory=False)"
   ],
   "metadata": {
    "collapsed": false
   }
  },
  {
   "cell_type": "code",
   "execution_count": 60,
   "outputs": [
    {
     "name": "stdout",
     "output_type": "stream",
     "text": [
      "<class 'pandas.core.frame.DataFrame'>\n",
      "RangeIndex: 863652 entries, 0 to 863651\n",
      "Data columns (total 29 columns):\n",
      " #   Column                                         Non-Null Count   Dtype         \n",
      "---  ------                                         --------------   -----         \n",
      " 0   Azonosito                                      863652 non-null  int64         \n",
      " 1   autosajanlatID                                 863652 non-null  int64         \n",
      " 2   no_reserver_seats                              863652 non-null  int64         \n",
      " 3   passenger_gender                               863652 non-null  object        \n",
      " 4   passenger_registration_date                    858854 non-null  datetime64[ns]\n",
      " 5   passenger_age                                  863652 non-null  int64         \n",
      " 6   passenger_job                                  215865 non-null  object        \n",
      " 7   segedID                                        863652 non-null  int64         \n",
      " 8   year_of_trip                                   863652 non-null  int64         \n",
      " 9   origin_city                                    863652 non-null  object        \n",
      " 10  origin_country                                 863652 non-null  object        \n",
      " 11  erkezesi ido                                   863652 non-null  object        \n",
      " 12  destination_city                               863652 non-null  object        \n",
      " 13  destination_country                            863652 non-null  object        \n",
      " 14  trip_fee                                       863652 non-null  int64         \n",
      " 15  currency                                       863652 non-null  object        \n",
      " 16  hazai vagy nemzetkozi                          863652 non-null  object        \n",
      " 17  foglalási napok (utazas napja-foglalas napja)  863652 non-null  int64         \n",
      " 18  magan vagy uzleti                              863652 non-null  object        \n",
      " 19  autok gyartasi eve                             863652 non-null  object        \n",
      " 20  autok életkora                                 863652 non-null  object        \n",
      " 21  sofor neme                                     863652 non-null  object        \n",
      " 22  sofõr szuletesi ideje                          489253 non-null  object        \n",
      " 23  date_of_offer                                  863652 non-null  datetime64[ns]\n",
      " 24  max utasszám                                   863652 non-null  int64         \n",
      " 25  sofor reg datuma                               832042 non-null  object        \n",
      " 26  reservation_time                               863652 non-null  object        \n",
      " 27  journey_start_time                             863652 non-null  object        \n",
      " 28  passenger_birth_date                           420208 non-null  datetime64[ns]\n",
      "dtypes: datetime64[ns](3), int64(9), object(17)\n",
      "memory usage: 191.1+ MB\n"
     ]
    }
   ],
   "source": [
    "df.info()"
   ],
   "metadata": {
    "collapsed": false
   }
  },
  {
   "cell_type": "code",
   "execution_count": 61,
   "outputs": [
    {
     "data": {
      "text/plain": "   Azonosito  autosajanlatID  no_reserver_seats passenger_gender  \\\n0          3             293                  1               no   \n1          7             405                  1              ffi   \n2          8             440                  1              ffi   \n3          9             442                  1               no   \n4         10             442                  1              ffi   \n\n  passenger_registration_date  passenger_age passenger_job  segedID  \\\n0                  2007-12-29             36           NaN      121   \n1                  2007-11-28             34  Gépészmérnök      164   \n2                  2008-01-02             33           NaN      180   \n3                  2007-11-27             36         árazó      180   \n4                  2007-11-26             34        mérnök      180   \n\n   year_of_trip origin_city  ... autok gyartasi eve autok életkora sofor neme  \\\n0          2008     Miskolc  ...               2007             11         no   \n1          2008    Budapest  ...               2007             11        ffi   \n2          2008    Budapest  ...               2006             12        ffi   \n3          2008    Budapest  ...               2006             12        ffi   \n4          2008    Budapest  ...               2006             12        ffi   \n\n  sofõr szuletesi ideje  date_of_offer max utasszám sofor reg datuma  \\\n0            1979.07.04     2008-01-04            3       2008-01-04   \n1            1976.06.19     2008-01-11            3       2007-12-21   \n2            1985.03.27     2008-01-15            4       2007-11-26   \n3            1985.03.27     2008-01-15            4       2007-11-26   \n4            1985.03.27     2008-01-15            4       2007-11-26   \n\n          reservation_time           journey_start_time passenger_birth_date  \n0  2008.01.05 22:17:59.000  2008.01.06 17:30:00.0000000           1982-10-01  \n1  2008.01.11 19:00:16.000  2008.01.16 07:00:00.0000000           1984-08-16  \n2  2008.01.16 00:01:00.000  2008.01.17 21:30:00.0000000           1985-01-11  \n3  2008.01.16 09:34:21.000  2008.01.17 21:30:00.0000000           1982-09-04  \n4  2008.01.16 09:46:36.000  2008.01.17 21:30:00.0000000           1984-07-17  \n\n[5 rows x 29 columns]",
      "text/html": "<div>\n<style scoped>\n    .dataframe tbody tr th:only-of-type {\n        vertical-align: middle;\n    }\n\n    .dataframe tbody tr th {\n        vertical-align: top;\n    }\n\n    .dataframe thead th {\n        text-align: right;\n    }\n</style>\n<table border=\"1\" class=\"dataframe\">\n  <thead>\n    <tr style=\"text-align: right;\">\n      <th></th>\n      <th>Azonosito</th>\n      <th>autosajanlatID</th>\n      <th>no_reserver_seats</th>\n      <th>passenger_gender</th>\n      <th>passenger_registration_date</th>\n      <th>passenger_age</th>\n      <th>passenger_job</th>\n      <th>segedID</th>\n      <th>year_of_trip</th>\n      <th>origin_city</th>\n      <th>...</th>\n      <th>autok gyartasi eve</th>\n      <th>autok életkora</th>\n      <th>sofor neme</th>\n      <th>sofõr szuletesi ideje</th>\n      <th>date_of_offer</th>\n      <th>max utasszám</th>\n      <th>sofor reg datuma</th>\n      <th>reservation_time</th>\n      <th>journey_start_time</th>\n      <th>passenger_birth_date</th>\n    </tr>\n  </thead>\n  <tbody>\n    <tr>\n      <th>0</th>\n      <td>3</td>\n      <td>293</td>\n      <td>1</td>\n      <td>no</td>\n      <td>2007-12-29</td>\n      <td>36</td>\n      <td>NaN</td>\n      <td>121</td>\n      <td>2008</td>\n      <td>Miskolc</td>\n      <td>...</td>\n      <td>2007</td>\n      <td>11</td>\n      <td>no</td>\n      <td>1979.07.04</td>\n      <td>2008-01-04</td>\n      <td>3</td>\n      <td>2008-01-04</td>\n      <td>2008.01.05 22:17:59.000</td>\n      <td>2008.01.06 17:30:00.0000000</td>\n      <td>1982-10-01</td>\n    </tr>\n    <tr>\n      <th>1</th>\n      <td>7</td>\n      <td>405</td>\n      <td>1</td>\n      <td>ffi</td>\n      <td>2007-11-28</td>\n      <td>34</td>\n      <td>Gépészmérnök</td>\n      <td>164</td>\n      <td>2008</td>\n      <td>Budapest</td>\n      <td>...</td>\n      <td>2007</td>\n      <td>11</td>\n      <td>ffi</td>\n      <td>1976.06.19</td>\n      <td>2008-01-11</td>\n      <td>3</td>\n      <td>2007-12-21</td>\n      <td>2008.01.11 19:00:16.000</td>\n      <td>2008.01.16 07:00:00.0000000</td>\n      <td>1984-08-16</td>\n    </tr>\n    <tr>\n      <th>2</th>\n      <td>8</td>\n      <td>440</td>\n      <td>1</td>\n      <td>ffi</td>\n      <td>2008-01-02</td>\n      <td>33</td>\n      <td>NaN</td>\n      <td>180</td>\n      <td>2008</td>\n      <td>Budapest</td>\n      <td>...</td>\n      <td>2006</td>\n      <td>12</td>\n      <td>ffi</td>\n      <td>1985.03.27</td>\n      <td>2008-01-15</td>\n      <td>4</td>\n      <td>2007-11-26</td>\n      <td>2008.01.16 00:01:00.000</td>\n      <td>2008.01.17 21:30:00.0000000</td>\n      <td>1985-01-11</td>\n    </tr>\n    <tr>\n      <th>3</th>\n      <td>9</td>\n      <td>442</td>\n      <td>1</td>\n      <td>no</td>\n      <td>2007-11-27</td>\n      <td>36</td>\n      <td>árazó</td>\n      <td>180</td>\n      <td>2008</td>\n      <td>Budapest</td>\n      <td>...</td>\n      <td>2006</td>\n      <td>12</td>\n      <td>ffi</td>\n      <td>1985.03.27</td>\n      <td>2008-01-15</td>\n      <td>4</td>\n      <td>2007-11-26</td>\n      <td>2008.01.16 09:34:21.000</td>\n      <td>2008.01.17 21:30:00.0000000</td>\n      <td>1982-09-04</td>\n    </tr>\n    <tr>\n      <th>4</th>\n      <td>10</td>\n      <td>442</td>\n      <td>1</td>\n      <td>ffi</td>\n      <td>2007-11-26</td>\n      <td>34</td>\n      <td>mérnök</td>\n      <td>180</td>\n      <td>2008</td>\n      <td>Budapest</td>\n      <td>...</td>\n      <td>2006</td>\n      <td>12</td>\n      <td>ffi</td>\n      <td>1985.03.27</td>\n      <td>2008-01-15</td>\n      <td>4</td>\n      <td>2007-11-26</td>\n      <td>2008.01.16 09:46:36.000</td>\n      <td>2008.01.17 21:30:00.0000000</td>\n      <td>1984-07-17</td>\n    </tr>\n  </tbody>\n</table>\n<p>5 rows × 29 columns</p>\n</div>"
     },
     "execution_count": 61,
     "metadata": {},
     "output_type": "execute_result"
    }
   ],
   "source": [
    "df.head()"
   ],
   "metadata": {
    "collapsed": false
   }
  },
  {
   "cell_type": "code",
   "execution_count": 5,
   "outputs": [],
   "source": [
    "df['reservation_time'] = df[['foglalas napja','foglalas ideje_oraperc']].apply(' '.join,axis=1)"
   ],
   "metadata": {
    "collapsed": false
   }
  },
  {
   "cell_type": "code",
   "execution_count": 15,
   "outputs": [],
   "source": [
    "df['journey_start_time'] = df[['indulas napja','indulasi ido']].apply(' '.join,axis=1)"
   ],
   "metadata": {
    "collapsed": false
   }
  },
  {
   "cell_type": "code",
   "execution_count": 17,
   "outputs": [],
   "source": [
    "df['ajanlat datuma'] = pd.to_datetime(df['ajanlat datuma'])"
   ],
   "metadata": {
    "collapsed": false
   }
  },
  {
   "cell_type": "code",
   "execution_count": 18,
   "outputs": [],
   "source": [
    "df.rename(columns={'ajanlat datuma':'date_of_offer'},inplace=True)"
   ],
   "metadata": {
    "collapsed": false
   }
  },
  {
   "cell_type": "code",
   "execution_count": 20,
   "outputs": [],
   "source": [
    "df = df.drop('foglalas napja',axis=1)"
   ],
   "metadata": {
    "collapsed": false
   }
  },
  {
   "cell_type": "code",
   "execution_count": 22,
   "outputs": [],
   "source": [
    "df = df.drop('foglalas ideje_oraperc',axis=1)"
   ],
   "metadata": {
    "collapsed": false
   }
  },
  {
   "cell_type": "code",
   "execution_count": 23,
   "outputs": [],
   "source": [
    "df = df.drop('indulas napja',axis=1)"
   ],
   "metadata": {
    "collapsed": false
   }
  },
  {
   "cell_type": "code",
   "execution_count": 24,
   "outputs": [],
   "source": [
    "df = df.drop('indulasi ido',axis=1)"
   ],
   "metadata": {
    "collapsed": false
   }
  },
  {
   "cell_type": "code",
   "execution_count": 26,
   "outputs": [],
   "source": [
    "df['utas regisztracios datuma'] = pd.to_datetime(df['utas regisztracios datuma'])"
   ],
   "metadata": {
    "collapsed": false
   }
  },
  {
   "cell_type": "code",
   "execution_count": 27,
   "outputs": [],
   "source": [
    "df.rename(columns={'utas regisztracios datuma':'passenger_registration_date'},inplace=True)"
   ],
   "metadata": {
    "collapsed": false
   }
  },
  {
   "cell_type": "code",
   "execution_count": 30,
   "outputs": [],
   "source": [
    "df['passenger_birth_date'] = pd.to_datetime(df['utas szuletesi datuma'])"
   ],
   "metadata": {
    "collapsed": false
   }
  },
  {
   "cell_type": "code",
   "execution_count": 33,
   "outputs": [],
   "source": [
    "df = df.drop('utas szuletesi datuma',axis=1)"
   ],
   "metadata": {
    "collapsed": false
   }
  },
  {
   "cell_type": "code",
   "execution_count": 36,
   "outputs": [],
   "source": [
    "df.rename(columns={'foglalt helyek szama':'no_reserver_seats'},inplace=True)"
   ],
   "metadata": {
    "collapsed": false
   }
  },
  {
   "cell_type": "code",
   "execution_count": 38,
   "outputs": [],
   "source": [
    "df.rename(columns={'utas neme':'passenger_gender'},inplace=True)"
   ],
   "metadata": {
    "collapsed": false
   }
  },
  {
   "cell_type": "code",
   "execution_count": 39,
   "outputs": [
    {
     "data": {
      "text/plain": "        Azonosito  autosajanlatID  no_reserver_seats  \\\n0               3             293                  1   \n1               7             405                  1   \n2               8             440                  1   \n3               9             442                  1   \n4              10             442                  1   \n...           ...             ...                ...   \n863647     868218        23063266                  1   \n863648     868219        23063266                  1   \n863649     868220        23066932                  1   \n863650     868221        23068405                  1   \n863651     868222        23074756                  1   \n\n       passenger_registration_date  utas kora utas foglalkozasa utazas tipusa  \\\n0                       2007-12-29         36               NaN        utazas   \n1                       2007-11-28         34      Gépészmérnök        utazas   \n2                       2008-01-02         33               NaN        utazas   \n3                       2007-11-27         36             árazó        utazas   \n4                       2007-11-26         34            mérnök        utazas   \n...                            ...        ...               ...           ...   \n863647                  2013-12-04        118               NaN        utazas   \n863648                  2015-10-29        118               NaN        utazas   \n863649                  2015-09-27         30               NaN        utazas   \n863650                  2015-03-04        118               NaN        utazas   \n863651                  2015-12-31        118               NaN        utazas   \n\n        segedID  utazas eve indulas varosa  ... sofor neme  \\\n0           121        2008        Miskolc  ...         no   \n1           164        2008       Budapest  ...        ffi   \n2           180        2008       Budapest  ...        ffi   \n3           180        2008       Budapest  ...        ffi   \n4           180        2008       Budapest  ...        ffi   \n...         ...         ...            ...  ...        ...   \n863647  2820073        2015         Szeged  ...        ffi   \n863648  2820073        2015         Szeged  ...        ffi   \n863649  2820193        2015        Miskolc  ...        ffi   \n863650  2820337        2015      Szekszárd  ...        ffi   \n863651  2820961        2015       Budapest  ...        ffi   \n\n       sofõr szuletesi ideje date_of_offer max utasszám  sofor reg datuma  \\\n0                 1979.07.04    2008-01-04            3        2008-01-04   \n1                 1976.06.19    2008-01-11            3        2007-12-21   \n2                 1985.03.27    2008-01-15            4        2007-11-26   \n3                 1985.03.27    2008-01-15            4        2007-11-26   \n4                 1985.03.27    2008-01-15            4        2007-11-26   \n...                      ...           ...          ...               ...   \n863647            1985-03-07    2015-12-31            4        2012-08-01   \n863648            1985-03-07    2015-12-31            4        2012-08-01   \n863649            1992-01-20    2015-12-31            3        2015-11-22   \n863650                   NaN    2015-12-31            4        2015-08-07   \n863651            1986-06-30    2015-12-31            3        2015-10-02   \n\n               reservation_time           journey_start_time  \\\n0       2008.01.05 22:17:59.000  2008.01.06 17:30:00.0000000   \n1       2008.01.11 19:00:16.000  2008.01.16 07:00:00.0000000   \n2       2008.01.16 00:01:00.000  2008.01.17 21:30:00.0000000   \n3       2008.01.16 09:34:21.000  2008.01.17 21:30:00.0000000   \n4       2008.01.16 09:46:36.000  2008.01.17 21:30:00.0000000   \n...                         ...                          ...   \n863647  2015.12.30 21:18:21.000  2015.12.31 19:30:00.0000000   \n863648  2015.12.31 17:53:36.000  2015.12.31 19:30:00.0000000   \n863649  2015.12.31 17:02:36.000  2015.12.31 19:37:00.0000000   \n863650  2015.12.31 19:09:49.000  2015.12.31 19:45:00.0000000   \n863651  2015.12.31 12:19:34.000  2015.12.31 23:15:00.0000000   \n\n        passenger_birth_date passenger_gender_ffi passenger_gender_no  \n0                 1982-10-01                    0                   1  \n1                 1984-08-16                    1                   0  \n2                 1985-01-11                    1                   0  \n3                 1982-09-04                    0                   1  \n4                 1984-07-17                    1                   0  \n...                      ...                  ...                 ...  \n863647                   NaT                    1                   0  \n863648                   NaT                    1                   0  \n863649            1988-01-14                    0                   1  \n863650                   NaT                    0                   1  \n863651                   NaT                    0                   1  \n\n[863652 rows x 31 columns]",
      "text/html": "<div>\n<style scoped>\n    .dataframe tbody tr th:only-of-type {\n        vertical-align: middle;\n    }\n\n    .dataframe tbody tr th {\n        vertical-align: top;\n    }\n\n    .dataframe thead th {\n        text-align: right;\n    }\n</style>\n<table border=\"1\" class=\"dataframe\">\n  <thead>\n    <tr style=\"text-align: right;\">\n      <th></th>\n      <th>Azonosito</th>\n      <th>autosajanlatID</th>\n      <th>no_reserver_seats</th>\n      <th>passenger_registration_date</th>\n      <th>utas kora</th>\n      <th>utas foglalkozasa</th>\n      <th>utazas tipusa</th>\n      <th>segedID</th>\n      <th>utazas eve</th>\n      <th>indulas varosa</th>\n      <th>...</th>\n      <th>sofor neme</th>\n      <th>sofõr szuletesi ideje</th>\n      <th>date_of_offer</th>\n      <th>max utasszám</th>\n      <th>sofor reg datuma</th>\n      <th>reservation_time</th>\n      <th>journey_start_time</th>\n      <th>passenger_birth_date</th>\n      <th>passenger_gender_ffi</th>\n      <th>passenger_gender_no</th>\n    </tr>\n  </thead>\n  <tbody>\n    <tr>\n      <th>0</th>\n      <td>3</td>\n      <td>293</td>\n      <td>1</td>\n      <td>2007-12-29</td>\n      <td>36</td>\n      <td>NaN</td>\n      <td>utazas</td>\n      <td>121</td>\n      <td>2008</td>\n      <td>Miskolc</td>\n      <td>...</td>\n      <td>no</td>\n      <td>1979.07.04</td>\n      <td>2008-01-04</td>\n      <td>3</td>\n      <td>2008-01-04</td>\n      <td>2008.01.05 22:17:59.000</td>\n      <td>2008.01.06 17:30:00.0000000</td>\n      <td>1982-10-01</td>\n      <td>0</td>\n      <td>1</td>\n    </tr>\n    <tr>\n      <th>1</th>\n      <td>7</td>\n      <td>405</td>\n      <td>1</td>\n      <td>2007-11-28</td>\n      <td>34</td>\n      <td>Gépészmérnök</td>\n      <td>utazas</td>\n      <td>164</td>\n      <td>2008</td>\n      <td>Budapest</td>\n      <td>...</td>\n      <td>ffi</td>\n      <td>1976.06.19</td>\n      <td>2008-01-11</td>\n      <td>3</td>\n      <td>2007-12-21</td>\n      <td>2008.01.11 19:00:16.000</td>\n      <td>2008.01.16 07:00:00.0000000</td>\n      <td>1984-08-16</td>\n      <td>1</td>\n      <td>0</td>\n    </tr>\n    <tr>\n      <th>2</th>\n      <td>8</td>\n      <td>440</td>\n      <td>1</td>\n      <td>2008-01-02</td>\n      <td>33</td>\n      <td>NaN</td>\n      <td>utazas</td>\n      <td>180</td>\n      <td>2008</td>\n      <td>Budapest</td>\n      <td>...</td>\n      <td>ffi</td>\n      <td>1985.03.27</td>\n      <td>2008-01-15</td>\n      <td>4</td>\n      <td>2007-11-26</td>\n      <td>2008.01.16 00:01:00.000</td>\n      <td>2008.01.17 21:30:00.0000000</td>\n      <td>1985-01-11</td>\n      <td>1</td>\n      <td>0</td>\n    </tr>\n    <tr>\n      <th>3</th>\n      <td>9</td>\n      <td>442</td>\n      <td>1</td>\n      <td>2007-11-27</td>\n      <td>36</td>\n      <td>árazó</td>\n      <td>utazas</td>\n      <td>180</td>\n      <td>2008</td>\n      <td>Budapest</td>\n      <td>...</td>\n      <td>ffi</td>\n      <td>1985.03.27</td>\n      <td>2008-01-15</td>\n      <td>4</td>\n      <td>2007-11-26</td>\n      <td>2008.01.16 09:34:21.000</td>\n      <td>2008.01.17 21:30:00.0000000</td>\n      <td>1982-09-04</td>\n      <td>0</td>\n      <td>1</td>\n    </tr>\n    <tr>\n      <th>4</th>\n      <td>10</td>\n      <td>442</td>\n      <td>1</td>\n      <td>2007-11-26</td>\n      <td>34</td>\n      <td>mérnök</td>\n      <td>utazas</td>\n      <td>180</td>\n      <td>2008</td>\n      <td>Budapest</td>\n      <td>...</td>\n      <td>ffi</td>\n      <td>1985.03.27</td>\n      <td>2008-01-15</td>\n      <td>4</td>\n      <td>2007-11-26</td>\n      <td>2008.01.16 09:46:36.000</td>\n      <td>2008.01.17 21:30:00.0000000</td>\n      <td>1984-07-17</td>\n      <td>1</td>\n      <td>0</td>\n    </tr>\n    <tr>\n      <th>...</th>\n      <td>...</td>\n      <td>...</td>\n      <td>...</td>\n      <td>...</td>\n      <td>...</td>\n      <td>...</td>\n      <td>...</td>\n      <td>...</td>\n      <td>...</td>\n      <td>...</td>\n      <td>...</td>\n      <td>...</td>\n      <td>...</td>\n      <td>...</td>\n      <td>...</td>\n      <td>...</td>\n      <td>...</td>\n      <td>...</td>\n      <td>...</td>\n      <td>...</td>\n      <td>...</td>\n    </tr>\n    <tr>\n      <th>863647</th>\n      <td>868218</td>\n      <td>23063266</td>\n      <td>1</td>\n      <td>2013-12-04</td>\n      <td>118</td>\n      <td>NaN</td>\n      <td>utazas</td>\n      <td>2820073</td>\n      <td>2015</td>\n      <td>Szeged</td>\n      <td>...</td>\n      <td>ffi</td>\n      <td>1985-03-07</td>\n      <td>2015-12-31</td>\n      <td>4</td>\n      <td>2012-08-01</td>\n      <td>2015.12.30 21:18:21.000</td>\n      <td>2015.12.31 19:30:00.0000000</td>\n      <td>NaT</td>\n      <td>1</td>\n      <td>0</td>\n    </tr>\n    <tr>\n      <th>863648</th>\n      <td>868219</td>\n      <td>23063266</td>\n      <td>1</td>\n      <td>2015-10-29</td>\n      <td>118</td>\n      <td>NaN</td>\n      <td>utazas</td>\n      <td>2820073</td>\n      <td>2015</td>\n      <td>Szeged</td>\n      <td>...</td>\n      <td>ffi</td>\n      <td>1985-03-07</td>\n      <td>2015-12-31</td>\n      <td>4</td>\n      <td>2012-08-01</td>\n      <td>2015.12.31 17:53:36.000</td>\n      <td>2015.12.31 19:30:00.0000000</td>\n      <td>NaT</td>\n      <td>1</td>\n      <td>0</td>\n    </tr>\n    <tr>\n      <th>863649</th>\n      <td>868220</td>\n      <td>23066932</td>\n      <td>1</td>\n      <td>2015-09-27</td>\n      <td>30</td>\n      <td>NaN</td>\n      <td>utazas</td>\n      <td>2820193</td>\n      <td>2015</td>\n      <td>Miskolc</td>\n      <td>...</td>\n      <td>ffi</td>\n      <td>1992-01-20</td>\n      <td>2015-12-31</td>\n      <td>3</td>\n      <td>2015-11-22</td>\n      <td>2015.12.31 17:02:36.000</td>\n      <td>2015.12.31 19:37:00.0000000</td>\n      <td>1988-01-14</td>\n      <td>0</td>\n      <td>1</td>\n    </tr>\n    <tr>\n      <th>863650</th>\n      <td>868221</td>\n      <td>23068405</td>\n      <td>1</td>\n      <td>2015-03-04</td>\n      <td>118</td>\n      <td>NaN</td>\n      <td>utazas</td>\n      <td>2820337</td>\n      <td>2015</td>\n      <td>Szekszárd</td>\n      <td>...</td>\n      <td>ffi</td>\n      <td>NaN</td>\n      <td>2015-12-31</td>\n      <td>4</td>\n      <td>2015-08-07</td>\n      <td>2015.12.31 19:09:49.000</td>\n      <td>2015.12.31 19:45:00.0000000</td>\n      <td>NaT</td>\n      <td>0</td>\n      <td>1</td>\n    </tr>\n    <tr>\n      <th>863651</th>\n      <td>868222</td>\n      <td>23074756</td>\n      <td>1</td>\n      <td>2015-12-31</td>\n      <td>118</td>\n      <td>NaN</td>\n      <td>utazas</td>\n      <td>2820961</td>\n      <td>2015</td>\n      <td>Budapest</td>\n      <td>...</td>\n      <td>ffi</td>\n      <td>1986-06-30</td>\n      <td>2015-12-31</td>\n      <td>3</td>\n      <td>2015-10-02</td>\n      <td>2015.12.31 12:19:34.000</td>\n      <td>2015.12.31 23:15:00.0000000</td>\n      <td>NaT</td>\n      <td>0</td>\n      <td>1</td>\n    </tr>\n  </tbody>\n</table>\n<p>863652 rows × 31 columns</p>\n</div>"
     },
     "execution_count": 39,
     "metadata": {},
     "output_type": "execute_result"
    }
   ],
   "source": [
    "pd.get_dummies(df,columns=['passenger_gender'])"
   ],
   "metadata": {
    "collapsed": false
   }
  },
  {
   "cell_type": "code",
   "execution_count": 42,
   "outputs": [],
   "source": [
    "df.rename(columns={'utas kora':'passenger_age'},inplace=True)"
   ],
   "metadata": {
    "collapsed": false
   }
  },
  {
   "cell_type": "code",
   "execution_count": 44,
   "outputs": [],
   "source": [
    "df.rename(columns={'utas foglalkozasa':'passenger_job'},inplace=True)"
   ],
   "metadata": {
    "collapsed": false
   }
  },
  {
   "cell_type": "code",
   "execution_count": 46,
   "outputs": [],
   "source": [
    "df = df.drop('utazas tipusa',axis=1)"
   ],
   "metadata": {
    "collapsed": false
   }
  },
  {
   "cell_type": "code",
   "execution_count": 48,
   "outputs": [],
   "source": [
    "df.rename(columns={'indulas orszaga':'origin_country'},inplace=True)"
   ],
   "metadata": {
    "collapsed": false
   }
  },
  {
   "cell_type": "code",
   "execution_count": 49,
   "outputs": [],
   "source": [
    "df.rename(columns={'indulas varosa':'origin_city'},inplace=True)"
   ],
   "metadata": {
    "collapsed": false
   }
  },
  {
   "cell_type": "code",
   "execution_count": 50,
   "outputs": [],
   "source": [
    "df.rename(columns={'erkezes orszaga':'destination_country'},inplace=True)"
   ],
   "metadata": {
    "collapsed": false
   }
  },
  {
   "cell_type": "code",
   "execution_count": 54,
   "outputs": [],
   "source": [
    "df.rename(columns={'utazas eve':'year_of_trip'},inplace=True)"
   ],
   "metadata": {
    "collapsed": false
   }
  },
  {
   "cell_type": "code",
   "execution_count": 55,
   "outputs": [],
   "source": [
    "df.rename(columns={'erkezes varosa':'destination_city'},inplace=True)"
   ],
   "metadata": {
    "collapsed": false
   }
  },
  {
   "cell_type": "code",
   "execution_count": 57,
   "outputs": [],
   "source": [
    "df.rename(columns={'utdij':'trip_fee'},inplace=True)"
   ],
   "metadata": {
    "collapsed": false
   }
  },
  {
   "cell_type": "code",
   "execution_count": 59,
   "outputs": [],
   "source": [
    "df.rename(columns={'pénznem':'currency'},inplace=True)"
   ],
   "metadata": {
    "collapsed": false
   }
  },
  {
   "cell_type": "code",
   "execution_count": 62,
   "outputs": [],
   "source": [
    "df.rename(columns={'hazai vagy nemzetkozi':'national_or_international'},inplace=True)"
   ],
   "metadata": {
    "collapsed": false
   }
  },
  {
   "cell_type": "code",
   "execution_count": 63,
   "outputs": [],
   "source": [
    "df.rename(columns={'foglalási napok (utazas napja-foglalas napja)':'booking_interval'},inplace=True)"
   ],
   "metadata": {
    "collapsed": false
   }
  },
  {
   "cell_type": "code",
   "execution_count": 64,
   "outputs": [],
   "source": [
    "df.rename(columns={'magan vagy uzleti':'business_or_non_business'},inplace=True)"
   ],
   "metadata": {
    "collapsed": false
   }
  },
  {
   "cell_type": "code",
   "execution_count": 65,
   "outputs": [],
   "source": [
    "df.rename(columns={'autok gyartasi eve':'car_year_of_production'},inplace=True)"
   ],
   "metadata": {
    "collapsed": false
   }
  },
  {
   "cell_type": "code",
   "execution_count": 66,
   "outputs": [],
   "source": [
    "df.rename(columns={'autok életkora':'car_age'},inplace=True)"
   ],
   "metadata": {
    "collapsed": false
   }
  },
  {
   "cell_type": "code",
   "execution_count": 67,
   "outputs": [
    {
     "ename": "ValueError",
     "evalue": "Unable to parse string \"#ÉRTÉK!\" at position 68209",
     "output_type": "error",
     "traceback": [
      "\u001B[1;31m---------------------------------------------------------------------------\u001B[0m",
      "\u001B[1;31mValueError\u001B[0m                                Traceback (most recent call last)",
      "File \u001B[1;32m~\\Documents\\GitHub\\rnd-ridesharing-ml\\rndenv\\lib\\site-packages\\pandas\\_libs\\lib.pyx:2369\u001B[0m, in \u001B[0;36mpandas._libs.lib.maybe_convert_numeric\u001B[1;34m()\u001B[0m\n",
      "\u001B[1;31mValueError\u001B[0m: Unable to parse string \"#ÉRTÉK!\"",
      "\nDuring handling of the above exception, another exception occurred:\n",
      "\u001B[1;31mValueError\u001B[0m                                Traceback (most recent call last)",
      "Cell \u001B[1;32mIn[67], line 1\u001B[0m\n\u001B[1;32m----> 1\u001B[0m df[\u001B[38;5;124m'\u001B[39m\u001B[38;5;124mcar_age\u001B[39m\u001B[38;5;124m'\u001B[39m] \u001B[38;5;241m=\u001B[39m \u001B[43mpd\u001B[49m\u001B[38;5;241;43m.\u001B[39;49m\u001B[43mto_numeric\u001B[49m\u001B[43m(\u001B[49m\u001B[43mdf\u001B[49m\u001B[43m[\u001B[49m\u001B[38;5;124;43m'\u001B[39;49m\u001B[38;5;124;43mcar_age\u001B[39;49m\u001B[38;5;124;43m'\u001B[39;49m\u001B[43m]\u001B[49m\u001B[43m)\u001B[49m\n",
      "File \u001B[1;32m~\\Documents\\GitHub\\rnd-ridesharing-ml\\rndenv\\lib\\site-packages\\pandas\\core\\tools\\numeric.py:185\u001B[0m, in \u001B[0;36mto_numeric\u001B[1;34m(arg, errors, downcast)\u001B[0m\n\u001B[0;32m    183\u001B[0m coerce_numeric \u001B[38;5;241m=\u001B[39m errors \u001B[38;5;129;01mnot\u001B[39;00m \u001B[38;5;129;01min\u001B[39;00m (\u001B[38;5;124m\"\u001B[39m\u001B[38;5;124mignore\u001B[39m\u001B[38;5;124m\"\u001B[39m, \u001B[38;5;124m\"\u001B[39m\u001B[38;5;124mraise\u001B[39m\u001B[38;5;124m\"\u001B[39m)\n\u001B[0;32m    184\u001B[0m \u001B[38;5;28;01mtry\u001B[39;00m:\n\u001B[1;32m--> 185\u001B[0m     values, _ \u001B[38;5;241m=\u001B[39m \u001B[43mlib\u001B[49m\u001B[38;5;241;43m.\u001B[39;49m\u001B[43mmaybe_convert_numeric\u001B[49m\u001B[43m(\u001B[49m\n\u001B[0;32m    186\u001B[0m \u001B[43m        \u001B[49m\u001B[43mvalues\u001B[49m\u001B[43m,\u001B[49m\u001B[43m \u001B[49m\u001B[38;5;28;43mset\u001B[39;49m\u001B[43m(\u001B[49m\u001B[43m)\u001B[49m\u001B[43m,\u001B[49m\u001B[43m \u001B[49m\u001B[43mcoerce_numeric\u001B[49m\u001B[38;5;241;43m=\u001B[39;49m\u001B[43mcoerce_numeric\u001B[49m\n\u001B[0;32m    187\u001B[0m \u001B[43m    \u001B[49m\u001B[43m)\u001B[49m\n\u001B[0;32m    188\u001B[0m \u001B[38;5;28;01mexcept\u001B[39;00m (\u001B[38;5;167;01mValueError\u001B[39;00m, \u001B[38;5;167;01mTypeError\u001B[39;00m):\n\u001B[0;32m    189\u001B[0m     \u001B[38;5;28;01mif\u001B[39;00m errors \u001B[38;5;241m==\u001B[39m \u001B[38;5;124m\"\u001B[39m\u001B[38;5;124mraise\u001B[39m\u001B[38;5;124m\"\u001B[39m:\n",
      "File \u001B[1;32m~\\Documents\\GitHub\\rnd-ridesharing-ml\\rndenv\\lib\\site-packages\\pandas\\_libs\\lib.pyx:2411\u001B[0m, in \u001B[0;36mpandas._libs.lib.maybe_convert_numeric\u001B[1;34m()\u001B[0m\n",
      "\u001B[1;31mValueError\u001B[0m: Unable to parse string \"#ÉRTÉK!\" at position 68209"
     ]
    }
   ],
   "source": [
    "df['car_age'] = pd.to_numeric(df['car_age'])\n",
    "# itt van olyan köre az adatoknak, ami nem értelmezhető <= TODO: megnézni mennyi rekordot érint"
   ],
   "metadata": {
    "collapsed": false
   }
  },
  {
   "cell_type": "code",
   "execution_count": null,
   "outputs": [],
   "source": [],
   "metadata": {
    "collapsed": false
   }
  }
 ],
 "metadata": {
  "kernelspec": {
   "display_name": "Python 3",
   "language": "python",
   "name": "python3"
  },
  "language_info": {
   "codemirror_mode": {
    "name": "ipython",
    "version": 2
   },
   "file_extension": ".py",
   "mimetype": "text/x-python",
   "name": "python",
   "nbconvert_exporter": "python",
   "pygments_lexer": "ipython2",
   "version": "2.7.6"
  }
 },
 "nbformat": 4,
 "nbformat_minor": 0
}
