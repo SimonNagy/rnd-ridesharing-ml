{
 "cells": [
  {
   "cell_type": "code",
   "execution_count": 1,
   "metadata": {
    "collapsed": true
   },
   "outputs": [],
   "source": [
    "import pandas as pd\n",
    "import numpy as np\n",
    "import seaborn as sns\n",
    "import matplotlib.pyplot as plt"
   ]
  },
  {
   "cell_type": "code",
   "execution_count": 2,
   "outputs": [],
   "source": [
    "df = pd.read_csv('../data/raw_data_2.csv',encoding='ISO-8859-1', on_bad_lines='skip',delimiter=';',low_memory=False)"
   ],
   "metadata": {
    "collapsed": false
   }
  },
  {
   "cell_type": "code",
   "execution_count": 32,
   "outputs": [
    {
     "name": "stdout",
     "output_type": "stream",
     "text": [
      "<class 'pandas.core.frame.DataFrame'>\n",
      "RangeIndex: 863652 entries, 0 to 863651\n",
      "Data columns (total 31 columns):\n",
      " #   Column                                         Non-Null Count   Dtype         \n",
      "---  ------                                         --------------   -----         \n",
      " 0   Azonosito                                      863652 non-null  int64         \n",
      " 1   autosajanlatID                                 863652 non-null  int64         \n",
      " 2   foglalt helyek szama                           863652 non-null  int64         \n",
      " 3   utas neme                                      863652 non-null  object        \n",
      " 4   passenger_registration_date                    858854 non-null  datetime64[ns]\n",
      " 5   utas szuletesi datuma                          420208 non-null  object        \n",
      " 6   utas kora                                      863652 non-null  int64         \n",
      " 7   utas foglalkozasa                              215865 non-null  object        \n",
      " 8   utazas tipusa                                  863652 non-null  object        \n",
      " 9   segedID                                        863652 non-null  int64         \n",
      " 10  utazas eve                                     863652 non-null  int64         \n",
      " 11  indulas varosa                                 863652 non-null  object        \n",
      " 12  indulas orszaga                                863652 non-null  object        \n",
      " 13  erkezesi ido                                   863652 non-null  object        \n",
      " 14  erkezes varosa                                 863652 non-null  object        \n",
      " 15  erkezes orszaga                                863652 non-null  object        \n",
      " 16  utdij                                          863652 non-null  int64         \n",
      " 17  pénznem                                        863652 non-null  object        \n",
      " 18  hazai vagy nemzetkozi                          863652 non-null  object        \n",
      " 19  foglalási napok (utazas napja-foglalas napja)  863652 non-null  int64         \n",
      " 20  magan vagy uzleti                              863652 non-null  object        \n",
      " 21  autok gyartasi eve                             863652 non-null  object        \n",
      " 22  autok életkora                                 863652 non-null  object        \n",
      " 23  sofor neme                                     863652 non-null  object        \n",
      " 24  sofõr szuletesi ideje                          489253 non-null  object        \n",
      " 25  date_of_offer                                  863652 non-null  datetime64[ns]\n",
      " 26  max utasszám                                   863652 non-null  int64         \n",
      " 27  sofor reg datuma                               832042 non-null  object        \n",
      " 28  reservation_time                               863652 non-null  object        \n",
      " 29  journey_start_time                             863652 non-null  object        \n",
      " 30  passenger_birth_date                           420208 non-null  datetime64[ns]\n",
      "dtypes: datetime64[ns](3), int64(9), object(19)\n",
      "memory usage: 204.3+ MB\n"
     ]
    }
   ],
   "source": [
    "df.info()"
   ],
   "metadata": {
    "collapsed": false
   }
  },
  {
   "cell_type": "code",
   "execution_count": 34,
   "outputs": [
    {
     "data": {
      "text/plain": "   Azonosito  autosajanlatID  foglalt helyek szama utas neme  \\\n0          3             293                     1        no   \n1          7             405                     1       ffi   \n2          8             440                     1       ffi   \n3          9             442                     1        no   \n4         10             442                     1       ffi   \n\n  passenger_registration_date  utas kora utas foglalkozasa utazas tipusa  \\\n0                  2007-12-29         36               NaN        utazas   \n1                  2007-11-28         34      Gépészmérnök        utazas   \n2                  2008-01-02         33               NaN        utazas   \n3                  2007-11-27         36             árazó        utazas   \n4                  2007-11-26         34            mérnök        utazas   \n\n   segedID  utazas eve  ... autok gyartasi eve autok életkora sofor neme  \\\n0      121        2008  ...               2007             11         no   \n1      164        2008  ...               2007             11        ffi   \n2      180        2008  ...               2006             12        ffi   \n3      180        2008  ...               2006             12        ffi   \n4      180        2008  ...               2006             12        ffi   \n\n  sofõr szuletesi ideje date_of_offer  max utasszám sofor reg datuma  \\\n0            1979.07.04    2008-01-04             3       2008-01-04   \n1            1976.06.19    2008-01-11             3       2007-12-21   \n2            1985.03.27    2008-01-15             4       2007-11-26   \n3            1985.03.27    2008-01-15             4       2007-11-26   \n4            1985.03.27    2008-01-15             4       2007-11-26   \n\n          reservation_time           journey_start_time passenger_birth_date  \n0  2008.01.05 22:17:59.000  2008.01.06 17:30:00.0000000           1982-10-01  \n1  2008.01.11 19:00:16.000  2008.01.16 07:00:00.0000000           1984-08-16  \n2  2008.01.16 00:01:00.000  2008.01.17 21:30:00.0000000           1985-01-11  \n3  2008.01.16 09:34:21.000  2008.01.17 21:30:00.0000000           1982-09-04  \n4  2008.01.16 09:46:36.000  2008.01.17 21:30:00.0000000           1984-07-17  \n\n[5 rows x 30 columns]",
      "text/html": "<div>\n<style scoped>\n    .dataframe tbody tr th:only-of-type {\n        vertical-align: middle;\n    }\n\n    .dataframe tbody tr th {\n        vertical-align: top;\n    }\n\n    .dataframe thead th {\n        text-align: right;\n    }\n</style>\n<table border=\"1\" class=\"dataframe\">\n  <thead>\n    <tr style=\"text-align: right;\">\n      <th></th>\n      <th>Azonosito</th>\n      <th>autosajanlatID</th>\n      <th>foglalt helyek szama</th>\n      <th>utas neme</th>\n      <th>passenger_registration_date</th>\n      <th>utas kora</th>\n      <th>utas foglalkozasa</th>\n      <th>utazas tipusa</th>\n      <th>segedID</th>\n      <th>utazas eve</th>\n      <th>...</th>\n      <th>autok gyartasi eve</th>\n      <th>autok életkora</th>\n      <th>sofor neme</th>\n      <th>sofõr szuletesi ideje</th>\n      <th>date_of_offer</th>\n      <th>max utasszám</th>\n      <th>sofor reg datuma</th>\n      <th>reservation_time</th>\n      <th>journey_start_time</th>\n      <th>passenger_birth_date</th>\n    </tr>\n  </thead>\n  <tbody>\n    <tr>\n      <th>0</th>\n      <td>3</td>\n      <td>293</td>\n      <td>1</td>\n      <td>no</td>\n      <td>2007-12-29</td>\n      <td>36</td>\n      <td>NaN</td>\n      <td>utazas</td>\n      <td>121</td>\n      <td>2008</td>\n      <td>...</td>\n      <td>2007</td>\n      <td>11</td>\n      <td>no</td>\n      <td>1979.07.04</td>\n      <td>2008-01-04</td>\n      <td>3</td>\n      <td>2008-01-04</td>\n      <td>2008.01.05 22:17:59.000</td>\n      <td>2008.01.06 17:30:00.0000000</td>\n      <td>1982-10-01</td>\n    </tr>\n    <tr>\n      <th>1</th>\n      <td>7</td>\n      <td>405</td>\n      <td>1</td>\n      <td>ffi</td>\n      <td>2007-11-28</td>\n      <td>34</td>\n      <td>Gépészmérnök</td>\n      <td>utazas</td>\n      <td>164</td>\n      <td>2008</td>\n      <td>...</td>\n      <td>2007</td>\n      <td>11</td>\n      <td>ffi</td>\n      <td>1976.06.19</td>\n      <td>2008-01-11</td>\n      <td>3</td>\n      <td>2007-12-21</td>\n      <td>2008.01.11 19:00:16.000</td>\n      <td>2008.01.16 07:00:00.0000000</td>\n      <td>1984-08-16</td>\n    </tr>\n    <tr>\n      <th>2</th>\n      <td>8</td>\n      <td>440</td>\n      <td>1</td>\n      <td>ffi</td>\n      <td>2008-01-02</td>\n      <td>33</td>\n      <td>NaN</td>\n      <td>utazas</td>\n      <td>180</td>\n      <td>2008</td>\n      <td>...</td>\n      <td>2006</td>\n      <td>12</td>\n      <td>ffi</td>\n      <td>1985.03.27</td>\n      <td>2008-01-15</td>\n      <td>4</td>\n      <td>2007-11-26</td>\n      <td>2008.01.16 00:01:00.000</td>\n      <td>2008.01.17 21:30:00.0000000</td>\n      <td>1985-01-11</td>\n    </tr>\n    <tr>\n      <th>3</th>\n      <td>9</td>\n      <td>442</td>\n      <td>1</td>\n      <td>no</td>\n      <td>2007-11-27</td>\n      <td>36</td>\n      <td>árazó</td>\n      <td>utazas</td>\n      <td>180</td>\n      <td>2008</td>\n      <td>...</td>\n      <td>2006</td>\n      <td>12</td>\n      <td>ffi</td>\n      <td>1985.03.27</td>\n      <td>2008-01-15</td>\n      <td>4</td>\n      <td>2007-11-26</td>\n      <td>2008.01.16 09:34:21.000</td>\n      <td>2008.01.17 21:30:00.0000000</td>\n      <td>1982-09-04</td>\n    </tr>\n    <tr>\n      <th>4</th>\n      <td>10</td>\n      <td>442</td>\n      <td>1</td>\n      <td>ffi</td>\n      <td>2007-11-26</td>\n      <td>34</td>\n      <td>mérnök</td>\n      <td>utazas</td>\n      <td>180</td>\n      <td>2008</td>\n      <td>...</td>\n      <td>2006</td>\n      <td>12</td>\n      <td>ffi</td>\n      <td>1985.03.27</td>\n      <td>2008-01-15</td>\n      <td>4</td>\n      <td>2007-11-26</td>\n      <td>2008.01.16 09:46:36.000</td>\n      <td>2008.01.17 21:30:00.0000000</td>\n      <td>1984-07-17</td>\n    </tr>\n  </tbody>\n</table>\n<p>5 rows × 30 columns</p>\n</div>"
     },
     "execution_count": 34,
     "metadata": {},
     "output_type": "execute_result"
    }
   ],
   "source": [
    "df.head()"
   ],
   "metadata": {
    "collapsed": false
   }
  },
  {
   "cell_type": "code",
   "execution_count": 5,
   "outputs": [],
   "source": [
    "df['reservation_time'] = df[['foglalas napja','foglalas ideje_oraperc']].apply(' '.join,axis=1)"
   ],
   "metadata": {
    "collapsed": false
   }
  },
  {
   "cell_type": "code",
   "execution_count": 15,
   "outputs": [],
   "source": [
    "df['journey_start_time'] = df[['indulas napja','indulasi ido']].apply(' '.join,axis=1)"
   ],
   "metadata": {
    "collapsed": false
   }
  },
  {
   "cell_type": "code",
   "execution_count": 17,
   "outputs": [],
   "source": [
    "df['ajanlat datuma'] = pd.to_datetime(df['ajanlat datuma'])"
   ],
   "metadata": {
    "collapsed": false
   }
  },
  {
   "cell_type": "code",
   "execution_count": 18,
   "outputs": [],
   "source": [
    "df.rename(columns={'ajanlat datuma':'date_of_offer'},inplace=True)"
   ],
   "metadata": {
    "collapsed": false
   }
  },
  {
   "cell_type": "code",
   "execution_count": 20,
   "outputs": [],
   "source": [
    "df = df.drop('foglalas napja',axis=1)"
   ],
   "metadata": {
    "collapsed": false
   }
  },
  {
   "cell_type": "code",
   "execution_count": 22,
   "outputs": [],
   "source": [
    "df = df.drop('foglalas ideje_oraperc',axis=1)"
   ],
   "metadata": {
    "collapsed": false
   }
  },
  {
   "cell_type": "code",
   "execution_count": 23,
   "outputs": [],
   "source": [
    "df = df.drop('indulas napja',axis=1)"
   ],
   "metadata": {
    "collapsed": false
   }
  },
  {
   "cell_type": "code",
   "execution_count": 24,
   "outputs": [],
   "source": [
    "df = df.drop('indulasi ido',axis=1)"
   ],
   "metadata": {
    "collapsed": false
   }
  },
  {
   "cell_type": "code",
   "execution_count": 26,
   "outputs": [],
   "source": [
    "df['utas regisztracios datuma'] = pd.to_datetime(df['utas regisztracios datuma'])"
   ],
   "metadata": {
    "collapsed": false
   }
  },
  {
   "cell_type": "code",
   "execution_count": 27,
   "outputs": [],
   "source": [
    "df.rename(columns={'utas regisztracios datuma':'passenger_registration_date'},inplace=True)"
   ],
   "metadata": {
    "collapsed": false
   }
  },
  {
   "cell_type": "code",
   "execution_count": 30,
   "outputs": [],
   "source": [
    "df['passenger_birth_date'] = pd.to_datetime(df['utas szuletesi datuma'])"
   ],
   "metadata": {
    "collapsed": false
   }
  },
  {
   "cell_type": "code",
   "execution_count": 33,
   "outputs": [],
   "source": [
    "df = df.drop('utas szuletesi datuma',axis=1)"
   ],
   "metadata": {
    "collapsed": false
   }
  },
  {
   "cell_type": "code",
   "execution_count": null,
   "outputs": [],
   "source": [],
   "metadata": {
    "collapsed": false
   }
  }
 ],
 "metadata": {
  "kernelspec": {
   "display_name": "Python 3",
   "language": "python",
   "name": "python3"
  },
  "language_info": {
   "codemirror_mode": {
    "name": "ipython",
    "version": 2
   },
   "file_extension": ".py",
   "mimetype": "text/x-python",
   "name": "python",
   "nbconvert_exporter": "python",
   "pygments_lexer": "ipython2",
   "version": "2.7.6"
  }
 },
 "nbformat": 4,
 "nbformat_minor": 0
}
