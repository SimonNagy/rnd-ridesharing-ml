{
 "cells": [
  {
   "cell_type": "code",
   "execution_count": 1,
   "metadata": {
    "collapsed": true
   },
   "outputs": [],
   "source": [
    "import pandas as pd\n",
    "import numpy as np\n",
    "import seaborn as sns\n",
    "import matplotlib.pyplot as plt"
   ]
  },
  {
   "cell_type": "code",
   "execution_count": 2,
   "outputs": [],
   "source": [
    "df = pd.read_csv('../data/raw_data_2.csv',encoding='ISO-8859-1', on_bad_lines='skip',delimiter=';',low_memory=False)"
   ],
   "metadata": {
    "collapsed": false
   }
  },
  {
   "cell_type": "code",
   "execution_count": 104,
   "outputs": [
    {
     "name": "stdout",
     "output_type": "stream",
     "text": [
      "<class 'pandas.core.frame.DataFrame'>\n",
      "Int64Index: 863638 entries, 0 to 863651\n",
      "Data columns (total 28 columns):\n",
      " #   Column                       Non-Null Count   Dtype         \n",
      "---  ------                       --------------   -----         \n",
      " 0   Azonosito                    863638 non-null  int64         \n",
      " 1   autosajanlatID               863638 non-null  int64         \n",
      " 2   no_reserver_seats            863638 non-null  int64         \n",
      " 3   passenger_gender             863638 non-null  object        \n",
      " 4   passenger_registration_date  858840 non-null  datetime64[ns]\n",
      " 5   passenger_age                863638 non-null  int64         \n",
      " 6   passenger_job                215863 non-null  object        \n",
      " 7   segedID                      863638 non-null  int64         \n",
      " 8   year_of_trip                 863638 non-null  int64         \n",
      " 9   origin_city                  863638 non-null  object        \n",
      " 10  origin_country               863638 non-null  object        \n",
      " 11  erkezesi ido                 863638 non-null  object        \n",
      " 12  destination_city             863638 non-null  object        \n",
      " 13  destination_country          863638 non-null  object        \n",
      " 14  trip_fee                     863638 non-null  int64         \n",
      " 15  currency                     863638 non-null  object        \n",
      " 16  national_or_international    863638 non-null  object        \n",
      " 17  booking_interval             863638 non-null  int64         \n",
      " 18  business_or_non_business     863638 non-null  object        \n",
      " 19  car_year_of_production       863638 non-null  object        \n",
      " 20  car_age                      863638 non-null  int64         \n",
      " 21  driver_gender                863638 non-null  object        \n",
      " 22  date_of_offer                863638 non-null  datetime64[ns]\n",
      " 23  max_no_of_passengers         863638 non-null  int64         \n",
      " 24  driver_registration_date     832029 non-null  object        \n",
      " 25  reservation_time             863638 non-null  object        \n",
      " 26  journey_start_time           863638 non-null  object        \n",
      " 27  passenger_birth_date         420203 non-null  datetime64[ns]\n",
      "dtypes: datetime64[ns](3), int64(10), object(15)\n",
      "memory usage: 191.1+ MB\n"
     ]
    }
   ],
   "source": [
    "df.info()"
   ],
   "metadata": {
    "collapsed": false
   }
  },
  {
   "cell_type": "code",
   "execution_count": 103,
   "outputs": [
    {
     "data": {
      "text/plain": "   Azonosito  autosajanlatID  no_reserver_seats passenger_gender  \\\n0          3             293                  1               no   \n1          7             405                  1              ffi   \n2          8             440                  1              ffi   \n3          9             442                  1               no   \n4         10             442                  1              ffi   \n\n  passenger_registration_date  passenger_age passenger_job  segedID  \\\n0                  2007-12-29             36           NaN      121   \n1                  2007-11-28             34  Gépészmérnök      164   \n2                  2008-01-02             33           NaN      180   \n3                  2007-11-27             36         árazó      180   \n4                  2007-11-26             34        mérnök      180   \n\n   year_of_trip origin_city  ... business_or_non_business  \\\n0          2008     Miskolc  ...                    magan   \n1          2008    Budapest  ...                    magan   \n2          2008    Budapest  ...                    magan   \n3          2008    Budapest  ...                    magan   \n4          2008    Budapest  ...                    magan   \n\n  car_year_of_production car_age driver_gender  date_of_offer  \\\n0                   2007      11            no     2008-01-04   \n1                   2007      11           ffi     2008-01-11   \n2                   2006      12           ffi     2008-01-15   \n3                   2006      12           ffi     2008-01-15   \n4                   2006      12           ffi     2008-01-15   \n\n  max_no_of_passengers driver_registration_date         reservation_time  \\\n0                    3               2008-01-04  2008.01.05 22:17:59.000   \n1                    3               2007-12-21  2008.01.11 19:00:16.000   \n2                    4               2007-11-26  2008.01.16 00:01:00.000   \n3                    4               2007-11-26  2008.01.16 09:34:21.000   \n4                    4               2007-11-26  2008.01.16 09:46:36.000   \n\n            journey_start_time passenger_birth_date  \n0  2008.01.06 17:30:00.0000000           1982-10-01  \n1  2008.01.16 07:00:00.0000000           1984-08-16  \n2  2008.01.17 21:30:00.0000000           1985-01-11  \n3  2008.01.17 21:30:00.0000000           1982-09-04  \n4  2008.01.17 21:30:00.0000000           1984-07-17  \n\n[5 rows x 28 columns]",
      "text/html": "<div>\n<style scoped>\n    .dataframe tbody tr th:only-of-type {\n        vertical-align: middle;\n    }\n\n    .dataframe tbody tr th {\n        vertical-align: top;\n    }\n\n    .dataframe thead th {\n        text-align: right;\n    }\n</style>\n<table border=\"1\" class=\"dataframe\">\n  <thead>\n    <tr style=\"text-align: right;\">\n      <th></th>\n      <th>Azonosito</th>\n      <th>autosajanlatID</th>\n      <th>no_reserver_seats</th>\n      <th>passenger_gender</th>\n      <th>passenger_registration_date</th>\n      <th>passenger_age</th>\n      <th>passenger_job</th>\n      <th>segedID</th>\n      <th>year_of_trip</th>\n      <th>origin_city</th>\n      <th>...</th>\n      <th>business_or_non_business</th>\n      <th>car_year_of_production</th>\n      <th>car_age</th>\n      <th>driver_gender</th>\n      <th>date_of_offer</th>\n      <th>max_no_of_passengers</th>\n      <th>driver_registration_date</th>\n      <th>reservation_time</th>\n      <th>journey_start_time</th>\n      <th>passenger_birth_date</th>\n    </tr>\n  </thead>\n  <tbody>\n    <tr>\n      <th>0</th>\n      <td>3</td>\n      <td>293</td>\n      <td>1</td>\n      <td>no</td>\n      <td>2007-12-29</td>\n      <td>36</td>\n      <td>NaN</td>\n      <td>121</td>\n      <td>2008</td>\n      <td>Miskolc</td>\n      <td>...</td>\n      <td>magan</td>\n      <td>2007</td>\n      <td>11</td>\n      <td>no</td>\n      <td>2008-01-04</td>\n      <td>3</td>\n      <td>2008-01-04</td>\n      <td>2008.01.05 22:17:59.000</td>\n      <td>2008.01.06 17:30:00.0000000</td>\n      <td>1982-10-01</td>\n    </tr>\n    <tr>\n      <th>1</th>\n      <td>7</td>\n      <td>405</td>\n      <td>1</td>\n      <td>ffi</td>\n      <td>2007-11-28</td>\n      <td>34</td>\n      <td>Gépészmérnök</td>\n      <td>164</td>\n      <td>2008</td>\n      <td>Budapest</td>\n      <td>...</td>\n      <td>magan</td>\n      <td>2007</td>\n      <td>11</td>\n      <td>ffi</td>\n      <td>2008-01-11</td>\n      <td>3</td>\n      <td>2007-12-21</td>\n      <td>2008.01.11 19:00:16.000</td>\n      <td>2008.01.16 07:00:00.0000000</td>\n      <td>1984-08-16</td>\n    </tr>\n    <tr>\n      <th>2</th>\n      <td>8</td>\n      <td>440</td>\n      <td>1</td>\n      <td>ffi</td>\n      <td>2008-01-02</td>\n      <td>33</td>\n      <td>NaN</td>\n      <td>180</td>\n      <td>2008</td>\n      <td>Budapest</td>\n      <td>...</td>\n      <td>magan</td>\n      <td>2006</td>\n      <td>12</td>\n      <td>ffi</td>\n      <td>2008-01-15</td>\n      <td>4</td>\n      <td>2007-11-26</td>\n      <td>2008.01.16 00:01:00.000</td>\n      <td>2008.01.17 21:30:00.0000000</td>\n      <td>1985-01-11</td>\n    </tr>\n    <tr>\n      <th>3</th>\n      <td>9</td>\n      <td>442</td>\n      <td>1</td>\n      <td>no</td>\n      <td>2007-11-27</td>\n      <td>36</td>\n      <td>árazó</td>\n      <td>180</td>\n      <td>2008</td>\n      <td>Budapest</td>\n      <td>...</td>\n      <td>magan</td>\n      <td>2006</td>\n      <td>12</td>\n      <td>ffi</td>\n      <td>2008-01-15</td>\n      <td>4</td>\n      <td>2007-11-26</td>\n      <td>2008.01.16 09:34:21.000</td>\n      <td>2008.01.17 21:30:00.0000000</td>\n      <td>1982-09-04</td>\n    </tr>\n    <tr>\n      <th>4</th>\n      <td>10</td>\n      <td>442</td>\n      <td>1</td>\n      <td>ffi</td>\n      <td>2007-11-26</td>\n      <td>34</td>\n      <td>mérnök</td>\n      <td>180</td>\n      <td>2008</td>\n      <td>Budapest</td>\n      <td>...</td>\n      <td>magan</td>\n      <td>2006</td>\n      <td>12</td>\n      <td>ffi</td>\n      <td>2008-01-15</td>\n      <td>4</td>\n      <td>2007-11-26</td>\n      <td>2008.01.16 09:46:36.000</td>\n      <td>2008.01.17 21:30:00.0000000</td>\n      <td>1984-07-17</td>\n    </tr>\n  </tbody>\n</table>\n<p>5 rows × 28 columns</p>\n</div>"
     },
     "execution_count": 103,
     "metadata": {},
     "output_type": "execute_result"
    }
   ],
   "source": [
    "df.head()"
   ],
   "metadata": {
    "collapsed": false
   }
  },
  {
   "cell_type": "code",
   "execution_count": 5,
   "outputs": [],
   "source": [
    "df['reservation_time'] = df[['foglalas napja','foglalas ideje_oraperc']].apply(' '.join,axis=1)"
   ],
   "metadata": {
    "collapsed": false
   }
  },
  {
   "cell_type": "code",
   "execution_count": 15,
   "outputs": [],
   "source": [
    "df['journey_start_time'] = df[['indulas napja','indulasi ido']].apply(' '.join,axis=1)"
   ],
   "metadata": {
    "collapsed": false
   }
  },
  {
   "cell_type": "code",
   "execution_count": 17,
   "outputs": [],
   "source": [
    "df['ajanlat datuma'] = pd.to_datetime(df['ajanlat datuma'])"
   ],
   "metadata": {
    "collapsed": false
   }
  },
  {
   "cell_type": "code",
   "execution_count": 18,
   "outputs": [],
   "source": [
    "df.rename(columns={'ajanlat datuma':'date_of_offer'},inplace=True)"
   ],
   "metadata": {
    "collapsed": false
   }
  },
  {
   "cell_type": "code",
   "execution_count": 20,
   "outputs": [],
   "source": [
    "df = df.drop('foglalas napja',axis=1)"
   ],
   "metadata": {
    "collapsed": false
   }
  },
  {
   "cell_type": "code",
   "execution_count": 22,
   "outputs": [],
   "source": [
    "df = df.drop('foglalas ideje_oraperc',axis=1)"
   ],
   "metadata": {
    "collapsed": false
   }
  },
  {
   "cell_type": "code",
   "execution_count": 23,
   "outputs": [],
   "source": [
    "df = df.drop('indulas napja',axis=1)"
   ],
   "metadata": {
    "collapsed": false
   }
  },
  {
   "cell_type": "code",
   "execution_count": 24,
   "outputs": [],
   "source": [
    "df = df.drop('indulasi ido',axis=1)"
   ],
   "metadata": {
    "collapsed": false
   }
  },
  {
   "cell_type": "code",
   "execution_count": 26,
   "outputs": [],
   "source": [
    "df['utas regisztracios datuma'] = pd.to_datetime(df['utas regisztracios datuma'])"
   ],
   "metadata": {
    "collapsed": false
   }
  },
  {
   "cell_type": "code",
   "execution_count": 27,
   "outputs": [],
   "source": [
    "df.rename(columns={'utas regisztracios datuma':'passenger_registration_date'},inplace=True)"
   ],
   "metadata": {
    "collapsed": false
   }
  },
  {
   "cell_type": "code",
   "execution_count": 30,
   "outputs": [],
   "source": [
    "df['passenger_birth_date'] = pd.to_datetime(df['utas szuletesi datuma'])"
   ],
   "metadata": {
    "collapsed": false
   }
  },
  {
   "cell_type": "code",
   "execution_count": 33,
   "outputs": [],
   "source": [
    "df = df.drop('utas szuletesi datuma',axis=1)"
   ],
   "metadata": {
    "collapsed": false
   }
  },
  {
   "cell_type": "code",
   "execution_count": 36,
   "outputs": [],
   "source": [
    "df.rename(columns={'foglalt helyek szama':'no_reserver_seats'},inplace=True)"
   ],
   "metadata": {
    "collapsed": false
   }
  },
  {
   "cell_type": "code",
   "execution_count": 38,
   "outputs": [],
   "source": [
    "df.rename(columns={'utas neme':'passenger_gender'},inplace=True)"
   ],
   "metadata": {
    "collapsed": false
   }
  },
  {
   "cell_type": "code",
   "execution_count": 39,
   "outputs": [
    {
     "data": {
      "text/plain": "        Azonosito  autosajanlatID  no_reserver_seats  \\\n0               3             293                  1   \n1               7             405                  1   \n2               8             440                  1   \n3               9             442                  1   \n4              10             442                  1   \n...           ...             ...                ...   \n863647     868218        23063266                  1   \n863648     868219        23063266                  1   \n863649     868220        23066932                  1   \n863650     868221        23068405                  1   \n863651     868222        23074756                  1   \n\n       passenger_registration_date  utas kora utas foglalkozasa utazas tipusa  \\\n0                       2007-12-29         36               NaN        utazas   \n1                       2007-11-28         34      Gépészmérnök        utazas   \n2                       2008-01-02         33               NaN        utazas   \n3                       2007-11-27         36             árazó        utazas   \n4                       2007-11-26         34            mérnök        utazas   \n...                            ...        ...               ...           ...   \n863647                  2013-12-04        118               NaN        utazas   \n863648                  2015-10-29        118               NaN        utazas   \n863649                  2015-09-27         30               NaN        utazas   \n863650                  2015-03-04        118               NaN        utazas   \n863651                  2015-12-31        118               NaN        utazas   \n\n        segedID  utazas eve indulas varosa  ... sofor neme  \\\n0           121        2008        Miskolc  ...         no   \n1           164        2008       Budapest  ...        ffi   \n2           180        2008       Budapest  ...        ffi   \n3           180        2008       Budapest  ...        ffi   \n4           180        2008       Budapest  ...        ffi   \n...         ...         ...            ...  ...        ...   \n863647  2820073        2015         Szeged  ...        ffi   \n863648  2820073        2015         Szeged  ...        ffi   \n863649  2820193        2015        Miskolc  ...        ffi   \n863650  2820337        2015      Szekszárd  ...        ffi   \n863651  2820961        2015       Budapest  ...        ffi   \n\n       sofõr szuletesi ideje date_of_offer max utasszám  sofor reg datuma  \\\n0                 1979.07.04    2008-01-04            3        2008-01-04   \n1                 1976.06.19    2008-01-11            3        2007-12-21   \n2                 1985.03.27    2008-01-15            4        2007-11-26   \n3                 1985.03.27    2008-01-15            4        2007-11-26   \n4                 1985.03.27    2008-01-15            4        2007-11-26   \n...                      ...           ...          ...               ...   \n863647            1985-03-07    2015-12-31            4        2012-08-01   \n863648            1985-03-07    2015-12-31            4        2012-08-01   \n863649            1992-01-20    2015-12-31            3        2015-11-22   \n863650                   NaN    2015-12-31            4        2015-08-07   \n863651            1986-06-30    2015-12-31            3        2015-10-02   \n\n               reservation_time           journey_start_time  \\\n0       2008.01.05 22:17:59.000  2008.01.06 17:30:00.0000000   \n1       2008.01.11 19:00:16.000  2008.01.16 07:00:00.0000000   \n2       2008.01.16 00:01:00.000  2008.01.17 21:30:00.0000000   \n3       2008.01.16 09:34:21.000  2008.01.17 21:30:00.0000000   \n4       2008.01.16 09:46:36.000  2008.01.17 21:30:00.0000000   \n...                         ...                          ...   \n863647  2015.12.30 21:18:21.000  2015.12.31 19:30:00.0000000   \n863648  2015.12.31 17:53:36.000  2015.12.31 19:30:00.0000000   \n863649  2015.12.31 17:02:36.000  2015.12.31 19:37:00.0000000   \n863650  2015.12.31 19:09:49.000  2015.12.31 19:45:00.0000000   \n863651  2015.12.31 12:19:34.000  2015.12.31 23:15:00.0000000   \n\n        passenger_birth_date passenger_gender_ffi passenger_gender_no  \n0                 1982-10-01                    0                   1  \n1                 1984-08-16                    1                   0  \n2                 1985-01-11                    1                   0  \n3                 1982-09-04                    0                   1  \n4                 1984-07-17                    1                   0  \n...                      ...                  ...                 ...  \n863647                   NaT                    1                   0  \n863648                   NaT                    1                   0  \n863649            1988-01-14                    0                   1  \n863650                   NaT                    0                   1  \n863651                   NaT                    0                   1  \n\n[863652 rows x 31 columns]",
      "text/html": "<div>\n<style scoped>\n    .dataframe tbody tr th:only-of-type {\n        vertical-align: middle;\n    }\n\n    .dataframe tbody tr th {\n        vertical-align: top;\n    }\n\n    .dataframe thead th {\n        text-align: right;\n    }\n</style>\n<table border=\"1\" class=\"dataframe\">\n  <thead>\n    <tr style=\"text-align: right;\">\n      <th></th>\n      <th>Azonosito</th>\n      <th>autosajanlatID</th>\n      <th>no_reserver_seats</th>\n      <th>passenger_registration_date</th>\n      <th>utas kora</th>\n      <th>utas foglalkozasa</th>\n      <th>utazas tipusa</th>\n      <th>segedID</th>\n      <th>utazas eve</th>\n      <th>indulas varosa</th>\n      <th>...</th>\n      <th>sofor neme</th>\n      <th>sofõr szuletesi ideje</th>\n      <th>date_of_offer</th>\n      <th>max utasszám</th>\n      <th>sofor reg datuma</th>\n      <th>reservation_time</th>\n      <th>journey_start_time</th>\n      <th>passenger_birth_date</th>\n      <th>passenger_gender_ffi</th>\n      <th>passenger_gender_no</th>\n    </tr>\n  </thead>\n  <tbody>\n    <tr>\n      <th>0</th>\n      <td>3</td>\n      <td>293</td>\n      <td>1</td>\n      <td>2007-12-29</td>\n      <td>36</td>\n      <td>NaN</td>\n      <td>utazas</td>\n      <td>121</td>\n      <td>2008</td>\n      <td>Miskolc</td>\n      <td>...</td>\n      <td>no</td>\n      <td>1979.07.04</td>\n      <td>2008-01-04</td>\n      <td>3</td>\n      <td>2008-01-04</td>\n      <td>2008.01.05 22:17:59.000</td>\n      <td>2008.01.06 17:30:00.0000000</td>\n      <td>1982-10-01</td>\n      <td>0</td>\n      <td>1</td>\n    </tr>\n    <tr>\n      <th>1</th>\n      <td>7</td>\n      <td>405</td>\n      <td>1</td>\n      <td>2007-11-28</td>\n      <td>34</td>\n      <td>Gépészmérnök</td>\n      <td>utazas</td>\n      <td>164</td>\n      <td>2008</td>\n      <td>Budapest</td>\n      <td>...</td>\n      <td>ffi</td>\n      <td>1976.06.19</td>\n      <td>2008-01-11</td>\n      <td>3</td>\n      <td>2007-12-21</td>\n      <td>2008.01.11 19:00:16.000</td>\n      <td>2008.01.16 07:00:00.0000000</td>\n      <td>1984-08-16</td>\n      <td>1</td>\n      <td>0</td>\n    </tr>\n    <tr>\n      <th>2</th>\n      <td>8</td>\n      <td>440</td>\n      <td>1</td>\n      <td>2008-01-02</td>\n      <td>33</td>\n      <td>NaN</td>\n      <td>utazas</td>\n      <td>180</td>\n      <td>2008</td>\n      <td>Budapest</td>\n      <td>...</td>\n      <td>ffi</td>\n      <td>1985.03.27</td>\n      <td>2008-01-15</td>\n      <td>4</td>\n      <td>2007-11-26</td>\n      <td>2008.01.16 00:01:00.000</td>\n      <td>2008.01.17 21:30:00.0000000</td>\n      <td>1985-01-11</td>\n      <td>1</td>\n      <td>0</td>\n    </tr>\n    <tr>\n      <th>3</th>\n      <td>9</td>\n      <td>442</td>\n      <td>1</td>\n      <td>2007-11-27</td>\n      <td>36</td>\n      <td>árazó</td>\n      <td>utazas</td>\n      <td>180</td>\n      <td>2008</td>\n      <td>Budapest</td>\n      <td>...</td>\n      <td>ffi</td>\n      <td>1985.03.27</td>\n      <td>2008-01-15</td>\n      <td>4</td>\n      <td>2007-11-26</td>\n      <td>2008.01.16 09:34:21.000</td>\n      <td>2008.01.17 21:30:00.0000000</td>\n      <td>1982-09-04</td>\n      <td>0</td>\n      <td>1</td>\n    </tr>\n    <tr>\n      <th>4</th>\n      <td>10</td>\n      <td>442</td>\n      <td>1</td>\n      <td>2007-11-26</td>\n      <td>34</td>\n      <td>mérnök</td>\n      <td>utazas</td>\n      <td>180</td>\n      <td>2008</td>\n      <td>Budapest</td>\n      <td>...</td>\n      <td>ffi</td>\n      <td>1985.03.27</td>\n      <td>2008-01-15</td>\n      <td>4</td>\n      <td>2007-11-26</td>\n      <td>2008.01.16 09:46:36.000</td>\n      <td>2008.01.17 21:30:00.0000000</td>\n      <td>1984-07-17</td>\n      <td>1</td>\n      <td>0</td>\n    </tr>\n    <tr>\n      <th>...</th>\n      <td>...</td>\n      <td>...</td>\n      <td>...</td>\n      <td>...</td>\n      <td>...</td>\n      <td>...</td>\n      <td>...</td>\n      <td>...</td>\n      <td>...</td>\n      <td>...</td>\n      <td>...</td>\n      <td>...</td>\n      <td>...</td>\n      <td>...</td>\n      <td>...</td>\n      <td>...</td>\n      <td>...</td>\n      <td>...</td>\n      <td>...</td>\n      <td>...</td>\n      <td>...</td>\n    </tr>\n    <tr>\n      <th>863647</th>\n      <td>868218</td>\n      <td>23063266</td>\n      <td>1</td>\n      <td>2013-12-04</td>\n      <td>118</td>\n      <td>NaN</td>\n      <td>utazas</td>\n      <td>2820073</td>\n      <td>2015</td>\n      <td>Szeged</td>\n      <td>...</td>\n      <td>ffi</td>\n      <td>1985-03-07</td>\n      <td>2015-12-31</td>\n      <td>4</td>\n      <td>2012-08-01</td>\n      <td>2015.12.30 21:18:21.000</td>\n      <td>2015.12.31 19:30:00.0000000</td>\n      <td>NaT</td>\n      <td>1</td>\n      <td>0</td>\n    </tr>\n    <tr>\n      <th>863648</th>\n      <td>868219</td>\n      <td>23063266</td>\n      <td>1</td>\n      <td>2015-10-29</td>\n      <td>118</td>\n      <td>NaN</td>\n      <td>utazas</td>\n      <td>2820073</td>\n      <td>2015</td>\n      <td>Szeged</td>\n      <td>...</td>\n      <td>ffi</td>\n      <td>1985-03-07</td>\n      <td>2015-12-31</td>\n      <td>4</td>\n      <td>2012-08-01</td>\n      <td>2015.12.31 17:53:36.000</td>\n      <td>2015.12.31 19:30:00.0000000</td>\n      <td>NaT</td>\n      <td>1</td>\n      <td>0</td>\n    </tr>\n    <tr>\n      <th>863649</th>\n      <td>868220</td>\n      <td>23066932</td>\n      <td>1</td>\n      <td>2015-09-27</td>\n      <td>30</td>\n      <td>NaN</td>\n      <td>utazas</td>\n      <td>2820193</td>\n      <td>2015</td>\n      <td>Miskolc</td>\n      <td>...</td>\n      <td>ffi</td>\n      <td>1992-01-20</td>\n      <td>2015-12-31</td>\n      <td>3</td>\n      <td>2015-11-22</td>\n      <td>2015.12.31 17:02:36.000</td>\n      <td>2015.12.31 19:37:00.0000000</td>\n      <td>1988-01-14</td>\n      <td>0</td>\n      <td>1</td>\n    </tr>\n    <tr>\n      <th>863650</th>\n      <td>868221</td>\n      <td>23068405</td>\n      <td>1</td>\n      <td>2015-03-04</td>\n      <td>118</td>\n      <td>NaN</td>\n      <td>utazas</td>\n      <td>2820337</td>\n      <td>2015</td>\n      <td>Szekszárd</td>\n      <td>...</td>\n      <td>ffi</td>\n      <td>NaN</td>\n      <td>2015-12-31</td>\n      <td>4</td>\n      <td>2015-08-07</td>\n      <td>2015.12.31 19:09:49.000</td>\n      <td>2015.12.31 19:45:00.0000000</td>\n      <td>NaT</td>\n      <td>0</td>\n      <td>1</td>\n    </tr>\n    <tr>\n      <th>863651</th>\n      <td>868222</td>\n      <td>23074756</td>\n      <td>1</td>\n      <td>2015-12-31</td>\n      <td>118</td>\n      <td>NaN</td>\n      <td>utazas</td>\n      <td>2820961</td>\n      <td>2015</td>\n      <td>Budapest</td>\n      <td>...</td>\n      <td>ffi</td>\n      <td>1986-06-30</td>\n      <td>2015-12-31</td>\n      <td>3</td>\n      <td>2015-10-02</td>\n      <td>2015.12.31 12:19:34.000</td>\n      <td>2015.12.31 23:15:00.0000000</td>\n      <td>NaT</td>\n      <td>0</td>\n      <td>1</td>\n    </tr>\n  </tbody>\n</table>\n<p>863652 rows × 31 columns</p>\n</div>"
     },
     "execution_count": 39,
     "metadata": {},
     "output_type": "execute_result"
    }
   ],
   "source": [
    "pd.get_dummies(df,columns=['passenger_gender'])"
   ],
   "metadata": {
    "collapsed": false
   }
  },
  {
   "cell_type": "code",
   "execution_count": 42,
   "outputs": [],
   "source": [
    "df.rename(columns={'utas kora':'passenger_age'},inplace=True)"
   ],
   "metadata": {
    "collapsed": false
   }
  },
  {
   "cell_type": "code",
   "execution_count": 44,
   "outputs": [],
   "source": [
    "df.rename(columns={'utas foglalkozasa':'passenger_job'},inplace=True)"
   ],
   "metadata": {
    "collapsed": false
   }
  },
  {
   "cell_type": "code",
   "execution_count": 46,
   "outputs": [],
   "source": [
    "df = df.drop('utazas tipusa',axis=1)"
   ],
   "metadata": {
    "collapsed": false
   }
  },
  {
   "cell_type": "code",
   "execution_count": 48,
   "outputs": [],
   "source": [
    "df.rename(columns={'indulas orszaga':'origin_country'},inplace=True)"
   ],
   "metadata": {
    "collapsed": false
   }
  },
  {
   "cell_type": "code",
   "execution_count": 49,
   "outputs": [],
   "source": [
    "df.rename(columns={'indulas varosa':'origin_city'},inplace=True)"
   ],
   "metadata": {
    "collapsed": false
   }
  },
  {
   "cell_type": "code",
   "execution_count": 50,
   "outputs": [],
   "source": [
    "df.rename(columns={'erkezes orszaga':'destination_country'},inplace=True)"
   ],
   "metadata": {
    "collapsed": false
   }
  },
  {
   "cell_type": "code",
   "execution_count": 54,
   "outputs": [],
   "source": [
    "df.rename(columns={'utazas eve':'year_of_trip'},inplace=True)"
   ],
   "metadata": {
    "collapsed": false
   }
  },
  {
   "cell_type": "code",
   "execution_count": 55,
   "outputs": [],
   "source": [
    "df.rename(columns={'erkezes varosa':'destination_city'},inplace=True)"
   ],
   "metadata": {
    "collapsed": false
   }
  },
  {
   "cell_type": "code",
   "execution_count": 57,
   "outputs": [],
   "source": [
    "df.rename(columns={'utdij':'trip_fee'},inplace=True)"
   ],
   "metadata": {
    "collapsed": false
   }
  },
  {
   "cell_type": "code",
   "execution_count": 59,
   "outputs": [],
   "source": [
    "df.rename(columns={'pénznem':'currency'},inplace=True)"
   ],
   "metadata": {
    "collapsed": false
   }
  },
  {
   "cell_type": "code",
   "execution_count": 62,
   "outputs": [],
   "source": [
    "df.rename(columns={'hazai vagy nemzetkozi':'national_or_international'},inplace=True)"
   ],
   "metadata": {
    "collapsed": false
   }
  },
  {
   "cell_type": "code",
   "execution_count": 63,
   "outputs": [],
   "source": [
    "df.rename(columns={'foglalási napok (utazas napja-foglalas napja)':'booking_interval'},inplace=True)"
   ],
   "metadata": {
    "collapsed": false
   }
  },
  {
   "cell_type": "code",
   "execution_count": 64,
   "outputs": [],
   "source": [
    "df.rename(columns={'magan vagy uzleti':'business_or_non_business'},inplace=True)"
   ],
   "metadata": {
    "collapsed": false
   }
  },
  {
   "cell_type": "code",
   "execution_count": 65,
   "outputs": [],
   "source": [
    "df.rename(columns={'autok gyartasi eve':'car_year_of_production'},inplace=True)"
   ],
   "metadata": {
    "collapsed": false
   }
  },
  {
   "cell_type": "code",
   "execution_count": 66,
   "outputs": [],
   "source": [
    "df.rename(columns={'autok életkora':'car_age'},inplace=True)"
   ],
   "metadata": {
    "collapsed": false
   }
  },
  {
   "cell_type": "code",
   "execution_count": 67,
   "outputs": [
    {
     "ename": "ValueError",
     "evalue": "Unable to parse string \"#ÉRTÉK!\" at position 68209",
     "output_type": "error",
     "traceback": [
      "\u001B[1;31m---------------------------------------------------------------------------\u001B[0m",
      "\u001B[1;31mValueError\u001B[0m                                Traceback (most recent call last)",
      "File \u001B[1;32m~\\Documents\\GitHub\\rnd-ridesharing-ml\\rndenv\\lib\\site-packages\\pandas\\_libs\\lib.pyx:2369\u001B[0m, in \u001B[0;36mpandas._libs.lib.maybe_convert_numeric\u001B[1;34m()\u001B[0m\n",
      "\u001B[1;31mValueError\u001B[0m: Unable to parse string \"#ÉRTÉK!\"",
      "\nDuring handling of the above exception, another exception occurred:\n",
      "\u001B[1;31mValueError\u001B[0m                                Traceback (most recent call last)",
      "Cell \u001B[1;32mIn[67], line 1\u001B[0m\n\u001B[1;32m----> 1\u001B[0m df[\u001B[38;5;124m'\u001B[39m\u001B[38;5;124mcar_age\u001B[39m\u001B[38;5;124m'\u001B[39m] \u001B[38;5;241m=\u001B[39m \u001B[43mpd\u001B[49m\u001B[38;5;241;43m.\u001B[39;49m\u001B[43mto_numeric\u001B[49m\u001B[43m(\u001B[49m\u001B[43mdf\u001B[49m\u001B[43m[\u001B[49m\u001B[38;5;124;43m'\u001B[39;49m\u001B[38;5;124;43mcar_age\u001B[39;49m\u001B[38;5;124;43m'\u001B[39;49m\u001B[43m]\u001B[49m\u001B[43m)\u001B[49m\n",
      "File \u001B[1;32m~\\Documents\\GitHub\\rnd-ridesharing-ml\\rndenv\\lib\\site-packages\\pandas\\core\\tools\\numeric.py:185\u001B[0m, in \u001B[0;36mto_numeric\u001B[1;34m(arg, errors, downcast)\u001B[0m\n\u001B[0;32m    183\u001B[0m coerce_numeric \u001B[38;5;241m=\u001B[39m errors \u001B[38;5;129;01mnot\u001B[39;00m \u001B[38;5;129;01min\u001B[39;00m (\u001B[38;5;124m\"\u001B[39m\u001B[38;5;124mignore\u001B[39m\u001B[38;5;124m\"\u001B[39m, \u001B[38;5;124m\"\u001B[39m\u001B[38;5;124mraise\u001B[39m\u001B[38;5;124m\"\u001B[39m)\n\u001B[0;32m    184\u001B[0m \u001B[38;5;28;01mtry\u001B[39;00m:\n\u001B[1;32m--> 185\u001B[0m     values, _ \u001B[38;5;241m=\u001B[39m \u001B[43mlib\u001B[49m\u001B[38;5;241;43m.\u001B[39;49m\u001B[43mmaybe_convert_numeric\u001B[49m\u001B[43m(\u001B[49m\n\u001B[0;32m    186\u001B[0m \u001B[43m        \u001B[49m\u001B[43mvalues\u001B[49m\u001B[43m,\u001B[49m\u001B[43m \u001B[49m\u001B[38;5;28;43mset\u001B[39;49m\u001B[43m(\u001B[49m\u001B[43m)\u001B[49m\u001B[43m,\u001B[49m\u001B[43m \u001B[49m\u001B[43mcoerce_numeric\u001B[49m\u001B[38;5;241;43m=\u001B[39;49m\u001B[43mcoerce_numeric\u001B[49m\n\u001B[0;32m    187\u001B[0m \u001B[43m    \u001B[49m\u001B[43m)\u001B[49m\n\u001B[0;32m    188\u001B[0m \u001B[38;5;28;01mexcept\u001B[39;00m (\u001B[38;5;167;01mValueError\u001B[39;00m, \u001B[38;5;167;01mTypeError\u001B[39;00m):\n\u001B[0;32m    189\u001B[0m     \u001B[38;5;28;01mif\u001B[39;00m errors \u001B[38;5;241m==\u001B[39m \u001B[38;5;124m\"\u001B[39m\u001B[38;5;124mraise\u001B[39m\u001B[38;5;124m\"\u001B[39m:\n",
      "File \u001B[1;32m~\\Documents\\GitHub\\rnd-ridesharing-ml\\rndenv\\lib\\site-packages\\pandas\\_libs\\lib.pyx:2411\u001B[0m, in \u001B[0;36mpandas._libs.lib.maybe_convert_numeric\u001B[1;34m()\u001B[0m\n",
      "\u001B[1;31mValueError\u001B[0m: Unable to parse string \"#ÉRTÉK!\" at position 68209"
     ]
    }
   ],
   "source": [
    "#df['car_age'] = pd.to_numeric(df['car_age'])\n",
    "# itt van olyan köre az adatoknak, ami nem értelmezhető <= TODO: megnézni mennyi rekordot érint"
   ],
   "metadata": {
    "collapsed": false
   }
  },
  {
   "cell_type": "code",
   "execution_count": 73,
   "outputs": [],
   "source": [
    "df.rename(columns={'max utasszám':'max_no_of_passengers'},inplace=True)"
   ],
   "metadata": {
    "collapsed": false
   }
  },
  {
   "cell_type": "code",
   "execution_count": 74,
   "outputs": [
    {
     "ename": "ParserError",
     "evalue": "day is out of range for month: 0 present at position 1235",
     "output_type": "error",
     "traceback": [
      "\u001B[1;31m---------------------------------------------------------------------------\u001B[0m",
      "\u001B[1;31mValueError\u001B[0m                                Traceback (most recent call last)",
      "File \u001B[1;32m~\\Documents\\GitHub\\rnd-ridesharing-ml\\rndenv\\lib\\site-packages\\dateutil\\parser\\_parser.py:649\u001B[0m, in \u001B[0;36mparser.parse\u001B[1;34m(self, timestr, default, ignoretz, tzinfos, **kwargs)\u001B[0m\n\u001B[0;32m    648\u001B[0m \u001B[38;5;28;01mtry\u001B[39;00m:\n\u001B[1;32m--> 649\u001B[0m     ret \u001B[38;5;241m=\u001B[39m \u001B[38;5;28;43mself\u001B[39;49m\u001B[38;5;241;43m.\u001B[39;49m\u001B[43m_build_naive\u001B[49m\u001B[43m(\u001B[49m\u001B[43mres\u001B[49m\u001B[43m,\u001B[49m\u001B[43m \u001B[49m\u001B[43mdefault\u001B[49m\u001B[43m)\u001B[49m\n\u001B[0;32m    650\u001B[0m \u001B[38;5;28;01mexcept\u001B[39;00m \u001B[38;5;167;01mValueError\u001B[39;00m \u001B[38;5;28;01mas\u001B[39;00m e:\n",
      "File \u001B[1;32m~\\Documents\\GitHub\\rnd-ridesharing-ml\\rndenv\\lib\\site-packages\\dateutil\\parser\\_parser.py:1235\u001B[0m, in \u001B[0;36mparser._build_naive\u001B[1;34m(self, res, default)\u001B[0m\n\u001B[0;32m   1233\u001B[0m         repl[\u001B[38;5;124m'\u001B[39m\u001B[38;5;124mday\u001B[39m\u001B[38;5;124m'\u001B[39m] \u001B[38;5;241m=\u001B[39m monthrange(cyear, cmonth)[\u001B[38;5;241m1\u001B[39m]\n\u001B[1;32m-> 1235\u001B[0m naive \u001B[38;5;241m=\u001B[39m default\u001B[38;5;241m.\u001B[39mreplace(\u001B[38;5;241m*\u001B[39m\u001B[38;5;241m*\u001B[39mrepl)\n\u001B[0;32m   1237\u001B[0m \u001B[38;5;28;01mif\u001B[39;00m res\u001B[38;5;241m.\u001B[39mweekday \u001B[38;5;129;01mis\u001B[39;00m \u001B[38;5;129;01mnot\u001B[39;00m \u001B[38;5;28;01mNone\u001B[39;00m \u001B[38;5;129;01mand\u001B[39;00m \u001B[38;5;129;01mnot\u001B[39;00m res\u001B[38;5;241m.\u001B[39mday:\n",
      "\u001B[1;31mValueError\u001B[0m: day is out of range for month",
      "\nThe above exception was the direct cause of the following exception:\n",
      "\u001B[1;31mParserError\u001B[0m                               Traceback (most recent call last)",
      "File \u001B[1;32m~\\Documents\\GitHub\\rnd-ridesharing-ml\\rndenv\\lib\\site-packages\\pandas\\_libs\\tslib.pyx:605\u001B[0m, in \u001B[0;36mpandas._libs.tslib.array_to_datetime\u001B[1;34m()\u001B[0m\n",
      "File \u001B[1;32m~\\Documents\\GitHub\\rnd-ridesharing-ml\\rndenv\\lib\\site-packages\\pandas\\_libs\\tslibs\\parsing.pyx:318\u001B[0m, in \u001B[0;36mpandas._libs.tslibs.parsing.parse_datetime_string\u001B[1;34m()\u001B[0m\n",
      "File \u001B[1;32m~\\Documents\\GitHub\\rnd-ridesharing-ml\\rndenv\\lib\\site-packages\\dateutil\\parser\\_parser.py:1368\u001B[0m, in \u001B[0;36mparse\u001B[1;34m(timestr, parserinfo, **kwargs)\u001B[0m\n\u001B[0;32m   1367\u001B[0m \u001B[38;5;28;01melse\u001B[39;00m:\n\u001B[1;32m-> 1368\u001B[0m     \u001B[38;5;28;01mreturn\u001B[39;00m DEFAULTPARSER\u001B[38;5;241m.\u001B[39mparse(timestr, \u001B[38;5;241m*\u001B[39m\u001B[38;5;241m*\u001B[39mkwargs)\n",
      "File \u001B[1;32m~\\Documents\\GitHub\\rnd-ridesharing-ml\\rndenv\\lib\\site-packages\\dateutil\\parser\\_parser.py:651\u001B[0m, in \u001B[0;36mparser.parse\u001B[1;34m(self, timestr, default, ignoretz, tzinfos, **kwargs)\u001B[0m\n\u001B[0;32m    650\u001B[0m \u001B[38;5;28;01mexcept\u001B[39;00m \u001B[38;5;167;01mValueError\u001B[39;00m \u001B[38;5;28;01mas\u001B[39;00m e:\n\u001B[1;32m--> 651\u001B[0m     \u001B[43msix\u001B[49m\u001B[38;5;241;43m.\u001B[39;49m\u001B[43mraise_from\u001B[49m\u001B[43m(\u001B[49m\u001B[43mParserError\u001B[49m\u001B[43m(\u001B[49m\u001B[38;5;28;43mstr\u001B[39;49m\u001B[43m(\u001B[49m\u001B[43me\u001B[49m\u001B[43m)\u001B[49m\u001B[43m \u001B[49m\u001B[38;5;241;43m+\u001B[39;49m\u001B[43m \u001B[49m\u001B[38;5;124;43m\"\u001B[39;49m\u001B[38;5;124;43m: \u001B[39;49m\u001B[38;5;132;43;01m%s\u001B[39;49;00m\u001B[38;5;124;43m\"\u001B[39;49m\u001B[43m,\u001B[49m\u001B[43m \u001B[49m\u001B[43mtimestr\u001B[49m\u001B[43m)\u001B[49m\u001B[43m,\u001B[49m\u001B[43m \u001B[49m\u001B[43me\u001B[49m\u001B[43m)\u001B[49m\n\u001B[0;32m    653\u001B[0m \u001B[38;5;28;01mif\u001B[39;00m \u001B[38;5;129;01mnot\u001B[39;00m ignoretz:\n",
      "File \u001B[1;32m<string>:3\u001B[0m, in \u001B[0;36mraise_from\u001B[1;34m(value, from_value)\u001B[0m\n",
      "\u001B[1;31mParserError\u001B[0m: day is out of range for month: 0",
      "\nDuring handling of the above exception, another exception occurred:\n",
      "\u001B[1;31mTypeError\u001B[0m                                 Traceback (most recent call last)",
      "File \u001B[1;32m~\\Documents\\GitHub\\rnd-ridesharing-ml\\rndenv\\lib\\site-packages\\pandas\\_libs\\tslib.pyx:616\u001B[0m, in \u001B[0;36mpandas._libs.tslib.array_to_datetime\u001B[1;34m()\u001B[0m\n",
      "\u001B[1;31mTypeError\u001B[0m: invalid string coercion to datetime for \"0\" at position 1235",
      "\nDuring handling of the above exception, another exception occurred:\n",
      "\u001B[1;31mValueError\u001B[0m                                Traceback (most recent call last)",
      "File \u001B[1;32m~\\Documents\\GitHub\\rnd-ridesharing-ml\\rndenv\\lib\\site-packages\\dateutil\\parser\\_parser.py:649\u001B[0m, in \u001B[0;36mparser.parse\u001B[1;34m(self, timestr, default, ignoretz, tzinfos, **kwargs)\u001B[0m\n\u001B[0;32m    648\u001B[0m \u001B[38;5;28;01mtry\u001B[39;00m:\n\u001B[1;32m--> 649\u001B[0m     ret \u001B[38;5;241m=\u001B[39m \u001B[38;5;28;43mself\u001B[39;49m\u001B[38;5;241;43m.\u001B[39;49m\u001B[43m_build_naive\u001B[49m\u001B[43m(\u001B[49m\u001B[43mres\u001B[49m\u001B[43m,\u001B[49m\u001B[43m \u001B[49m\u001B[43mdefault\u001B[49m\u001B[43m)\u001B[49m\n\u001B[0;32m    650\u001B[0m \u001B[38;5;28;01mexcept\u001B[39;00m \u001B[38;5;167;01mValueError\u001B[39;00m \u001B[38;5;28;01mas\u001B[39;00m e:\n",
      "File \u001B[1;32m~\\Documents\\GitHub\\rnd-ridesharing-ml\\rndenv\\lib\\site-packages\\dateutil\\parser\\_parser.py:1235\u001B[0m, in \u001B[0;36mparser._build_naive\u001B[1;34m(self, res, default)\u001B[0m\n\u001B[0;32m   1233\u001B[0m         repl[\u001B[38;5;124m'\u001B[39m\u001B[38;5;124mday\u001B[39m\u001B[38;5;124m'\u001B[39m] \u001B[38;5;241m=\u001B[39m monthrange(cyear, cmonth)[\u001B[38;5;241m1\u001B[39m]\n\u001B[1;32m-> 1235\u001B[0m naive \u001B[38;5;241m=\u001B[39m default\u001B[38;5;241m.\u001B[39mreplace(\u001B[38;5;241m*\u001B[39m\u001B[38;5;241m*\u001B[39mrepl)\n\u001B[0;32m   1237\u001B[0m \u001B[38;5;28;01mif\u001B[39;00m res\u001B[38;5;241m.\u001B[39mweekday \u001B[38;5;129;01mis\u001B[39;00m \u001B[38;5;129;01mnot\u001B[39;00m \u001B[38;5;28;01mNone\u001B[39;00m \u001B[38;5;129;01mand\u001B[39;00m \u001B[38;5;129;01mnot\u001B[39;00m res\u001B[38;5;241m.\u001B[39mday:\n",
      "\u001B[1;31mValueError\u001B[0m: day is out of range for month",
      "\nThe above exception was the direct cause of the following exception:\n",
      "\u001B[1;31mParserError\u001B[0m                               Traceback (most recent call last)",
      "Cell \u001B[1;32mIn[74], line 1\u001B[0m\n\u001B[1;32m----> 1\u001B[0m df[\u001B[38;5;124m'\u001B[39m\u001B[38;5;124mdriver_registration_date\u001B[39m\u001B[38;5;124m'\u001B[39m] \u001B[38;5;241m=\u001B[39m \u001B[43mpd\u001B[49m\u001B[38;5;241;43m.\u001B[39;49m\u001B[43mto_datetime\u001B[49m\u001B[43m(\u001B[49m\u001B[43mdf\u001B[49m\u001B[43m[\u001B[49m\u001B[38;5;124;43m'\u001B[39;49m\u001B[38;5;124;43msofor reg datuma\u001B[39;49m\u001B[38;5;124;43m'\u001B[39;49m\u001B[43m]\u001B[49m\u001B[43m)\u001B[49m\n",
      "File \u001B[1;32m~\\Documents\\GitHub\\rnd-ridesharing-ml\\rndenv\\lib\\site-packages\\pandas\\core\\tools\\datetimes.py:1064\u001B[0m, in \u001B[0;36mto_datetime\u001B[1;34m(arg, errors, dayfirst, yearfirst, utc, format, exact, unit, infer_datetime_format, origin, cache)\u001B[0m\n\u001B[0;32m   1062\u001B[0m             result \u001B[38;5;241m=\u001B[39m arg\u001B[38;5;241m.\u001B[39mtz_localize(tz)\n\u001B[0;32m   1063\u001B[0m \u001B[38;5;28;01melif\u001B[39;00m \u001B[38;5;28misinstance\u001B[39m(arg, ABCSeries):\n\u001B[1;32m-> 1064\u001B[0m     cache_array \u001B[38;5;241m=\u001B[39m \u001B[43m_maybe_cache\u001B[49m\u001B[43m(\u001B[49m\u001B[43marg\u001B[49m\u001B[43m,\u001B[49m\u001B[43m \u001B[49m\u001B[38;5;28;43mformat\u001B[39;49m\u001B[43m,\u001B[49m\u001B[43m \u001B[49m\u001B[43mcache\u001B[49m\u001B[43m,\u001B[49m\u001B[43m \u001B[49m\u001B[43mconvert_listlike\u001B[49m\u001B[43m)\u001B[49m\n\u001B[0;32m   1065\u001B[0m     \u001B[38;5;28;01mif\u001B[39;00m \u001B[38;5;129;01mnot\u001B[39;00m cache_array\u001B[38;5;241m.\u001B[39mempty:\n\u001B[0;32m   1066\u001B[0m         result \u001B[38;5;241m=\u001B[39m arg\u001B[38;5;241m.\u001B[39mmap(cache_array)\n",
      "File \u001B[1;32m~\\Documents\\GitHub\\rnd-ridesharing-ml\\rndenv\\lib\\site-packages\\pandas\\core\\tools\\datetimes.py:229\u001B[0m, in \u001B[0;36m_maybe_cache\u001B[1;34m(arg, format, cache, convert_listlike)\u001B[0m\n\u001B[0;32m    227\u001B[0m unique_dates \u001B[38;5;241m=\u001B[39m unique(arg)\n\u001B[0;32m    228\u001B[0m \u001B[38;5;28;01mif\u001B[39;00m \u001B[38;5;28mlen\u001B[39m(unique_dates) \u001B[38;5;241m<\u001B[39m \u001B[38;5;28mlen\u001B[39m(arg):\n\u001B[1;32m--> 229\u001B[0m     cache_dates \u001B[38;5;241m=\u001B[39m \u001B[43mconvert_listlike\u001B[49m\u001B[43m(\u001B[49m\u001B[43munique_dates\u001B[49m\u001B[43m,\u001B[49m\u001B[43m \u001B[49m\u001B[38;5;28;43mformat\u001B[39;49m\u001B[43m)\u001B[49m\n\u001B[0;32m    230\u001B[0m     \u001B[38;5;66;03m# GH#45319\u001B[39;00m\n\u001B[0;32m    231\u001B[0m     \u001B[38;5;28;01mtry\u001B[39;00m:\n",
      "File \u001B[1;32m~\\Documents\\GitHub\\rnd-ridesharing-ml\\rndenv\\lib\\site-packages\\pandas\\core\\tools\\datetimes.py:438\u001B[0m, in \u001B[0;36m_convert_listlike_datetimes\u001B[1;34m(arg, format, name, tz, unit, errors, infer_datetime_format, dayfirst, yearfirst, exact)\u001B[0m\n\u001B[0;32m    436\u001B[0m \u001B[38;5;28;01massert\u001B[39;00m \u001B[38;5;28mformat\u001B[39m \u001B[38;5;129;01mis\u001B[39;00m \u001B[38;5;28;01mNone\u001B[39;00m \u001B[38;5;129;01mor\u001B[39;00m infer_datetime_format\n\u001B[0;32m    437\u001B[0m utc \u001B[38;5;241m=\u001B[39m tz \u001B[38;5;241m==\u001B[39m \u001B[38;5;124m\"\u001B[39m\u001B[38;5;124mutc\u001B[39m\u001B[38;5;124m\"\u001B[39m\n\u001B[1;32m--> 438\u001B[0m result, tz_parsed \u001B[38;5;241m=\u001B[39m \u001B[43mobjects_to_datetime64ns\u001B[49m\u001B[43m(\u001B[49m\n\u001B[0;32m    439\u001B[0m \u001B[43m    \u001B[49m\u001B[43marg\u001B[49m\u001B[43m,\u001B[49m\n\u001B[0;32m    440\u001B[0m \u001B[43m    \u001B[49m\u001B[43mdayfirst\u001B[49m\u001B[38;5;241;43m=\u001B[39;49m\u001B[43mdayfirst\u001B[49m\u001B[43m,\u001B[49m\n\u001B[0;32m    441\u001B[0m \u001B[43m    \u001B[49m\u001B[43myearfirst\u001B[49m\u001B[38;5;241;43m=\u001B[39;49m\u001B[43myearfirst\u001B[49m\u001B[43m,\u001B[49m\n\u001B[0;32m    442\u001B[0m \u001B[43m    \u001B[49m\u001B[43mutc\u001B[49m\u001B[38;5;241;43m=\u001B[39;49m\u001B[43mutc\u001B[49m\u001B[43m,\u001B[49m\n\u001B[0;32m    443\u001B[0m \u001B[43m    \u001B[49m\u001B[43merrors\u001B[49m\u001B[38;5;241;43m=\u001B[39;49m\u001B[43merrors\u001B[49m\u001B[43m,\u001B[49m\n\u001B[0;32m    444\u001B[0m \u001B[43m    \u001B[49m\u001B[43mrequire_iso8601\u001B[49m\u001B[38;5;241;43m=\u001B[39;49m\u001B[43mrequire_iso8601\u001B[49m\u001B[43m,\u001B[49m\n\u001B[0;32m    445\u001B[0m \u001B[43m    \u001B[49m\u001B[43mallow_object\u001B[49m\u001B[38;5;241;43m=\u001B[39;49m\u001B[38;5;28;43;01mTrue\u001B[39;49;00m\u001B[43m,\u001B[49m\n\u001B[0;32m    446\u001B[0m \u001B[43m\u001B[49m\u001B[43m)\u001B[49m\n\u001B[0;32m    448\u001B[0m \u001B[38;5;28;01mif\u001B[39;00m tz_parsed \u001B[38;5;129;01mis\u001B[39;00m \u001B[38;5;129;01mnot\u001B[39;00m \u001B[38;5;28;01mNone\u001B[39;00m:\n\u001B[0;32m    449\u001B[0m     \u001B[38;5;66;03m# We can take a shortcut since the datetime64 numpy array\u001B[39;00m\n\u001B[0;32m    450\u001B[0m     \u001B[38;5;66;03m# is in UTC\u001B[39;00m\n\u001B[0;32m    451\u001B[0m     dta \u001B[38;5;241m=\u001B[39m DatetimeArray(result, dtype\u001B[38;5;241m=\u001B[39mtz_to_dtype(tz_parsed))\n",
      "File \u001B[1;32m~\\Documents\\GitHub\\rnd-ridesharing-ml\\rndenv\\lib\\site-packages\\pandas\\core\\arrays\\datetimes.py:2177\u001B[0m, in \u001B[0;36mobjects_to_datetime64ns\u001B[1;34m(data, dayfirst, yearfirst, utc, errors, require_iso8601, allow_object, allow_mixed)\u001B[0m\n\u001B[0;32m   2175\u001B[0m order: Literal[\u001B[38;5;124m\"\u001B[39m\u001B[38;5;124mF\u001B[39m\u001B[38;5;124m\"\u001B[39m, \u001B[38;5;124m\"\u001B[39m\u001B[38;5;124mC\u001B[39m\u001B[38;5;124m\"\u001B[39m] \u001B[38;5;241m=\u001B[39m \u001B[38;5;124m\"\u001B[39m\u001B[38;5;124mF\u001B[39m\u001B[38;5;124m\"\u001B[39m \u001B[38;5;28;01mif\u001B[39;00m flags\u001B[38;5;241m.\u001B[39mf_contiguous \u001B[38;5;28;01melse\u001B[39;00m \u001B[38;5;124m\"\u001B[39m\u001B[38;5;124mC\u001B[39m\u001B[38;5;124m\"\u001B[39m\n\u001B[0;32m   2176\u001B[0m \u001B[38;5;28;01mtry\u001B[39;00m:\n\u001B[1;32m-> 2177\u001B[0m     result, tz_parsed \u001B[38;5;241m=\u001B[39m \u001B[43mtslib\u001B[49m\u001B[38;5;241;43m.\u001B[39;49m\u001B[43marray_to_datetime\u001B[49m\u001B[43m(\u001B[49m\n\u001B[0;32m   2178\u001B[0m \u001B[43m        \u001B[49m\u001B[43mdata\u001B[49m\u001B[38;5;241;43m.\u001B[39;49m\u001B[43mravel\u001B[49m\u001B[43m(\u001B[49m\u001B[38;5;124;43m\"\u001B[39;49m\u001B[38;5;124;43mK\u001B[39;49m\u001B[38;5;124;43m\"\u001B[39;49m\u001B[43m)\u001B[49m\u001B[43m,\u001B[49m\n\u001B[0;32m   2179\u001B[0m \u001B[43m        \u001B[49m\u001B[43merrors\u001B[49m\u001B[38;5;241;43m=\u001B[39;49m\u001B[43merrors\u001B[49m\u001B[43m,\u001B[49m\n\u001B[0;32m   2180\u001B[0m \u001B[43m        \u001B[49m\u001B[43mutc\u001B[49m\u001B[38;5;241;43m=\u001B[39;49m\u001B[43mutc\u001B[49m\u001B[43m,\u001B[49m\n\u001B[0;32m   2181\u001B[0m \u001B[43m        \u001B[49m\u001B[43mdayfirst\u001B[49m\u001B[38;5;241;43m=\u001B[39;49m\u001B[43mdayfirst\u001B[49m\u001B[43m,\u001B[49m\n\u001B[0;32m   2182\u001B[0m \u001B[43m        \u001B[49m\u001B[43myearfirst\u001B[49m\u001B[38;5;241;43m=\u001B[39;49m\u001B[43myearfirst\u001B[49m\u001B[43m,\u001B[49m\n\u001B[0;32m   2183\u001B[0m \u001B[43m        \u001B[49m\u001B[43mrequire_iso8601\u001B[49m\u001B[38;5;241;43m=\u001B[39;49m\u001B[43mrequire_iso8601\u001B[49m\u001B[43m,\u001B[49m\n\u001B[0;32m   2184\u001B[0m \u001B[43m        \u001B[49m\u001B[43mallow_mixed\u001B[49m\u001B[38;5;241;43m=\u001B[39;49m\u001B[43mallow_mixed\u001B[49m\u001B[43m,\u001B[49m\n\u001B[0;32m   2185\u001B[0m \u001B[43m    \u001B[49m\u001B[43m)\u001B[49m\n\u001B[0;32m   2186\u001B[0m     result \u001B[38;5;241m=\u001B[39m result\u001B[38;5;241m.\u001B[39mreshape(data\u001B[38;5;241m.\u001B[39mshape, order\u001B[38;5;241m=\u001B[39morder)\n\u001B[0;32m   2187\u001B[0m \u001B[38;5;28;01mexcept\u001B[39;00m \u001B[38;5;167;01mOverflowError\u001B[39;00m \u001B[38;5;28;01mas\u001B[39;00m err:\n\u001B[0;32m   2188\u001B[0m     \u001B[38;5;66;03m# Exception is raised when a part of date is greater than 32 bit signed int\u001B[39;00m\n",
      "File \u001B[1;32m~\\Documents\\GitHub\\rnd-ridesharing-ml\\rndenv\\lib\\site-packages\\pandas\\_libs\\tslib.pyx:427\u001B[0m, in \u001B[0;36mpandas._libs.tslib.array_to_datetime\u001B[1;34m()\u001B[0m\n",
      "File \u001B[1;32m~\\Documents\\GitHub\\rnd-ridesharing-ml\\rndenv\\lib\\site-packages\\pandas\\_libs\\tslib.pyx:683\u001B[0m, in \u001B[0;36mpandas._libs.tslib.array_to_datetime\u001B[1;34m()\u001B[0m\n",
      "File \u001B[1;32m~\\Documents\\GitHub\\rnd-ridesharing-ml\\rndenv\\lib\\site-packages\\pandas\\_libs\\tslib.pyx:829\u001B[0m, in \u001B[0;36mpandas._libs.tslib._array_to_datetime_object\u001B[1;34m()\u001B[0m\n",
      "File \u001B[1;32m~\\Documents\\GitHub\\rnd-ridesharing-ml\\rndenv\\lib\\site-packages\\pandas\\_libs\\tslib.pyx:819\u001B[0m, in \u001B[0;36mpandas._libs.tslib._array_to_datetime_object\u001B[1;34m()\u001B[0m\n",
      "File \u001B[1;32m~\\Documents\\GitHub\\rnd-ridesharing-ml\\rndenv\\lib\\site-packages\\pandas\\_libs\\tslibs\\parsing.pyx:318\u001B[0m, in \u001B[0;36mpandas._libs.tslibs.parsing.parse_datetime_string\u001B[1;34m()\u001B[0m\n",
      "File \u001B[1;32m~\\Documents\\GitHub\\rnd-ridesharing-ml\\rndenv\\lib\\site-packages\\dateutil\\parser\\_parser.py:1368\u001B[0m, in \u001B[0;36mparse\u001B[1;34m(timestr, parserinfo, **kwargs)\u001B[0m\n\u001B[0;32m   1366\u001B[0m     \u001B[38;5;28;01mreturn\u001B[39;00m parser(parserinfo)\u001B[38;5;241m.\u001B[39mparse(timestr, \u001B[38;5;241m*\u001B[39m\u001B[38;5;241m*\u001B[39mkwargs)\n\u001B[0;32m   1367\u001B[0m \u001B[38;5;28;01melse\u001B[39;00m:\n\u001B[1;32m-> 1368\u001B[0m     \u001B[38;5;28;01mreturn\u001B[39;00m DEFAULTPARSER\u001B[38;5;241m.\u001B[39mparse(timestr, \u001B[38;5;241m*\u001B[39m\u001B[38;5;241m*\u001B[39mkwargs)\n",
      "File \u001B[1;32m~\\Documents\\GitHub\\rnd-ridesharing-ml\\rndenv\\lib\\site-packages\\dateutil\\parser\\_parser.py:651\u001B[0m, in \u001B[0;36mparser.parse\u001B[1;34m(self, timestr, default, ignoretz, tzinfos, **kwargs)\u001B[0m\n\u001B[0;32m    649\u001B[0m     ret \u001B[38;5;241m=\u001B[39m \u001B[38;5;28mself\u001B[39m\u001B[38;5;241m.\u001B[39m_build_naive(res, default)\n\u001B[0;32m    650\u001B[0m \u001B[38;5;28;01mexcept\u001B[39;00m \u001B[38;5;167;01mValueError\u001B[39;00m \u001B[38;5;28;01mas\u001B[39;00m e:\n\u001B[1;32m--> 651\u001B[0m     \u001B[43msix\u001B[49m\u001B[38;5;241;43m.\u001B[39;49m\u001B[43mraise_from\u001B[49m\u001B[43m(\u001B[49m\u001B[43mParserError\u001B[49m\u001B[43m(\u001B[49m\u001B[38;5;28;43mstr\u001B[39;49m\u001B[43m(\u001B[49m\u001B[43me\u001B[49m\u001B[43m)\u001B[49m\u001B[43m \u001B[49m\u001B[38;5;241;43m+\u001B[39;49m\u001B[43m \u001B[49m\u001B[38;5;124;43m\"\u001B[39;49m\u001B[38;5;124;43m: \u001B[39;49m\u001B[38;5;132;43;01m%s\u001B[39;49;00m\u001B[38;5;124;43m\"\u001B[39;49m\u001B[43m,\u001B[49m\u001B[43m \u001B[49m\u001B[43mtimestr\u001B[49m\u001B[43m)\u001B[49m\u001B[43m,\u001B[49m\u001B[43m \u001B[49m\u001B[43me\u001B[49m\u001B[43m)\u001B[49m\n\u001B[0;32m    653\u001B[0m \u001B[38;5;28;01mif\u001B[39;00m \u001B[38;5;129;01mnot\u001B[39;00m ignoretz:\n\u001B[0;32m    654\u001B[0m     ret \u001B[38;5;241m=\u001B[39m \u001B[38;5;28mself\u001B[39m\u001B[38;5;241m.\u001B[39m_build_tzaware(ret, res, tzinfos)\n",
      "File \u001B[1;32m<string>:3\u001B[0m, in \u001B[0;36mraise_from\u001B[1;34m(value, from_value)\u001B[0m\n",
      "\u001B[1;31mParserError\u001B[0m: day is out of range for month: 0 present at position 1235"
     ]
    }
   ],
   "source": [
    "df['driver_registration_date'] = pd.to_datetime(df['sofor reg datuma'])\n",
    "# TODO: megnézni, hogy itt is mi az isten van"
   ],
   "metadata": {
    "collapsed": false
   }
  },
  {
   "cell_type": "code",
   "execution_count": 75,
   "outputs": [],
   "source": [
    "df.rename(columns={'sofõr szuletesi ideje':'driver_birth_date'},inplace=True)"
   ],
   "metadata": {
    "collapsed": false
   }
  },
  {
   "cell_type": "code",
   "execution_count": 76,
   "outputs": [],
   "source": [
    "df.rename(columns={'sofor reg datuma':'driver_registration_date'},inplace=True)"
   ],
   "metadata": {
    "collapsed": false
   }
  },
  {
   "cell_type": "code",
   "execution_count": 79,
   "outputs": [],
   "source": [
    "df.rename(columns={'sofor neme':'driver_gender'},inplace=True)"
   ],
   "metadata": {
    "collapsed": false
   }
  },
  {
   "cell_type": "code",
   "execution_count": 89,
   "outputs": [
    {
     "data": {
      "text/plain": "False    489253\nTrue     374399\nName: driver_birth_date, dtype: int64"
     },
     "execution_count": 89,
     "metadata": {},
     "output_type": "execute_result"
    }
   ],
   "source": [
    "df['driver_birth_date'].isnull().value_counts()"
   ],
   "metadata": {
    "collapsed": false
   }
  },
  {
   "cell_type": "code",
   "execution_count": 90,
   "outputs": [],
   "source": [
    "# dropping driver birth date, as there are 489,253 missing values\n",
    "df = df.drop('driver_birth_date',axis=1)"
   ],
   "metadata": {
    "collapsed": false
   }
  },
  {
   "cell_type": "markdown",
   "source": [
    "*Data cleaning:*\n",
    "After renaming columns, and setting datatypes, where possible, I will investigate the runtime errors, and clean the database off of NaN and Null values. After the database is clean, I will set the correct datatype for the remaining columns."
   ],
   "metadata": {
    "collapsed": false
   }
  },
  {
   "cell_type": "code",
   "execution_count": 98,
   "outputs": [
    {
     "data": {
      "text/plain": "14"
     },
     "execution_count": 98,
     "metadata": {},
     "output_type": "execute_result"
    }
   ],
   "source": [
    "df['car_age'].value_counts()['#ÉRTÉK!']"
   ],
   "metadata": {
    "collapsed": false
   }
  },
  {
   "cell_type": "code",
   "execution_count": 100,
   "outputs": [],
   "source": [
    "df = df[df.car_age != '#ÉRTÉK!']"
   ],
   "metadata": {
    "collapsed": false
   }
  },
  {
   "cell_type": "code",
   "execution_count": 102,
   "outputs": [
    {
     "name": "stderr",
     "output_type": "stream",
     "text": [
      "C:\\Users\\nagys\\AppData\\Local\\Temp\\ipykernel_3652\\3058783351.py:1: SettingWithCopyWarning: \n",
      "A value is trying to be set on a copy of a slice from a DataFrame.\n",
      "Try using .loc[row_indexer,col_indexer] = value instead\n",
      "\n",
      "See the caveats in the documentation: https://pandas.pydata.org/pandas-docs/stable/user_guide/indexing.html#returning-a-view-versus-a-copy\n",
      "  df['car_age'] = pd.to_numeric(df['car_age'])\n"
     ]
    }
   ],
   "source": [
    "df['car_age'] = pd.to_numeric(df['car_age'])\n",
    "# dropping the 14 rows, which had car_age == '#ÉRTÉK!'"
   ],
   "metadata": {
    "collapsed": false
   }
  },
  {
   "cell_type": "code",
   "execution_count": null,
   "outputs": [],
   "source": [],
   "metadata": {
    "collapsed": false
   }
  }
 ],
 "metadata": {
  "kernelspec": {
   "display_name": "Python 3",
   "language": "python",
   "name": "python3"
  },
  "language_info": {
   "codemirror_mode": {
    "name": "ipython",
    "version": 2
   },
   "file_extension": ".py",
   "mimetype": "text/x-python",
   "name": "python",
   "nbconvert_exporter": "python",
   "pygments_lexer": "ipython2",
   "version": "2.7.6"
  }
 },
 "nbformat": 4,
 "nbformat_minor": 0
}
