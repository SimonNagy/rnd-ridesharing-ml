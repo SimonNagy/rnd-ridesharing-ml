{
 "cells": [
  {
   "cell_type": "code",
   "execution_count": 1,
   "metadata": {
    "collapsed": true
   },
   "outputs": [],
   "source": [
    "import pandas as pd\n",
    "import numpy as np\n",
    "import seaborn as sns\n",
    "import matplotlib.pyplot as plt"
   ]
  },
  {
   "cell_type": "code",
   "execution_count": 2,
   "outputs": [],
   "source": [
    "df = pd.read_csv('../data/raw_data_2.csv',encoding='ISO-8859-1', on_bad_lines='skip',delimiter=';',low_memory=False)"
   ],
   "metadata": {
    "collapsed": false
   }
  },
  {
   "cell_type": "code",
   "execution_count": 3,
   "outputs": [
    {
     "name": "stdout",
     "output_type": "stream",
     "text": [
      "<class 'pandas.core.frame.DataFrame'>\n",
      "RangeIndex: 863652 entries, 0 to 863651\n",
      "Data columns (total 32 columns):\n",
      " #   Column                                         Non-Null Count   Dtype \n",
      "---  ------                                         --------------   ----- \n",
      " 0   Azonosito                                      863652 non-null  int64 \n",
      " 1   autosajanlatID                                 863652 non-null  int64 \n",
      " 2   foglalt helyek szama                           863652 non-null  int64 \n",
      " 3   foglalas napja                                 863652 non-null  object\n",
      " 4   foglalas ideje_oraperc                         863652 non-null  object\n",
      " 5   utas neme                                      863652 non-null  object\n",
      " 6   utas regisztracios datuma                      858854 non-null  object\n",
      " 7   utas szuletesi datuma                          420208 non-null  object\n",
      " 8   utas kora                                      863652 non-null  int64 \n",
      " 9   utas foglalkozasa                              215865 non-null  object\n",
      " 10  utazas tipusa                                  863652 non-null  object\n",
      " 11  segedID                                        863652 non-null  int64 \n",
      " 12  utazas eve                                     863652 non-null  int64 \n",
      " 13  indulas napja                                  863652 non-null  object\n",
      " 14  indulasi ido                                   863652 non-null  object\n",
      " 15  indulas varosa                                 863652 non-null  object\n",
      " 16  indulas orszaga                                863652 non-null  object\n",
      " 17  erkezesi ido                                   863652 non-null  object\n",
      " 18  erkezes varosa                                 863652 non-null  object\n",
      " 19  erkezes orszaga                                863652 non-null  object\n",
      " 20  utdij                                          863652 non-null  int64 \n",
      " 21  pénznem                                        863652 non-null  object\n",
      " 22  hazai vagy nemzetkozi                          863652 non-null  object\n",
      " 23  foglalási napok (utazas napja-foglalas napja)  863652 non-null  int64 \n",
      " 24  magan vagy uzleti                              863652 non-null  object\n",
      " 25  autok gyartasi eve                             863652 non-null  object\n",
      " 26  autok életkora                                 863652 non-null  object\n",
      " 27  sofor neme                                     863652 non-null  object\n",
      " 28  sofõr szuletesi ideje                          489253 non-null  object\n",
      " 29  ajanlat datuma                                 863652 non-null  object\n",
      " 30  max utasszám                                   863652 non-null  int64 \n",
      " 31  sofor reg datuma                               832042 non-null  object\n",
      "dtypes: int64(9), object(23)\n",
      "memory usage: 210.9+ MB\n"
     ]
    }
   ],
   "source": [
    "df.info()"
   ],
   "metadata": {
    "collapsed": false
   }
  },
  {
   "cell_type": "code",
   "execution_count": 16,
   "outputs": [
    {
     "data": {
      "text/plain": "   Azonosito  autosajanlatID  foglalt helyek szama foglalas napja  \\\n0          3             293                     1     2008.01.05   \n1          7             405                     1     2008.01.11   \n2          8             440                     1     2008.01.16   \n3          9             442                     1     2008.01.16   \n4         10             442                     1     2008.01.16   \n\n  foglalas ideje_oraperc utas neme utas regisztracios datuma  \\\n0           22:17:59.000        no                2007.12.29   \n1           19:00:16.000       ffi                2007.11.28   \n2           00:01:00.000       ffi                2008.01.02   \n3           09:34:21.000        no                2007.11.27   \n4           09:46:36.000       ffi                2007.11.26   \n\n  utas szuletesi datuma  utas kora utas foglalkozasa  ... magan vagy uzleti  \\\n0            1982.10.01         36               NaN  ...             magan   \n1            1984.08.16         34      Gépészmérnök  ...             magan   \n2            1985.01.11         33               NaN  ...             magan   \n3            1982.09.04         36             árazó  ...             magan   \n4            1984.07.17         34            mérnök  ...             magan   \n\n   autok gyartasi eve  autok életkora sofor neme sofõr szuletesi ideje  \\\n0                2007              11         no            1979.07.04   \n1                2007              11        ffi            1976.06.19   \n2                2006              12        ffi            1985.03.27   \n3                2006              12        ffi            1985.03.27   \n4                2006              12        ffi            1985.03.27   \n\n  ajanlat datuma max utasszám sofor reg datuma         reservation_time  \\\n0     2008.01.04            3       2008-01-04  2008.01.05 22:17:59.000   \n1     2008.01.11            3       2007-12-21  2008.01.11 19:00:16.000   \n2     2008.01.15            4       2007-11-26  2008.01.16 00:01:00.000   \n3     2008.01.15            4       2007-11-26  2008.01.16 09:34:21.000   \n4     2008.01.15            4       2007-11-26  2008.01.16 09:46:36.000   \n\n            journey_start_time  \n0  2008.01.06 17:30:00.0000000  \n1  2008.01.16 07:00:00.0000000  \n2  2008.01.17 21:30:00.0000000  \n3  2008.01.17 21:30:00.0000000  \n4  2008.01.17 21:30:00.0000000  \n\n[5 rows x 34 columns]",
      "text/html": "<div>\n<style scoped>\n    .dataframe tbody tr th:only-of-type {\n        vertical-align: middle;\n    }\n\n    .dataframe tbody tr th {\n        vertical-align: top;\n    }\n\n    .dataframe thead th {\n        text-align: right;\n    }\n</style>\n<table border=\"1\" class=\"dataframe\">\n  <thead>\n    <tr style=\"text-align: right;\">\n      <th></th>\n      <th>Azonosito</th>\n      <th>autosajanlatID</th>\n      <th>foglalt helyek szama</th>\n      <th>foglalas napja</th>\n      <th>foglalas ideje_oraperc</th>\n      <th>utas neme</th>\n      <th>utas regisztracios datuma</th>\n      <th>utas szuletesi datuma</th>\n      <th>utas kora</th>\n      <th>utas foglalkozasa</th>\n      <th>...</th>\n      <th>magan vagy uzleti</th>\n      <th>autok gyartasi eve</th>\n      <th>autok életkora</th>\n      <th>sofor neme</th>\n      <th>sofõr szuletesi ideje</th>\n      <th>ajanlat datuma</th>\n      <th>max utasszám</th>\n      <th>sofor reg datuma</th>\n      <th>reservation_time</th>\n      <th>journey_start_time</th>\n    </tr>\n  </thead>\n  <tbody>\n    <tr>\n      <th>0</th>\n      <td>3</td>\n      <td>293</td>\n      <td>1</td>\n      <td>2008.01.05</td>\n      <td>22:17:59.000</td>\n      <td>no</td>\n      <td>2007.12.29</td>\n      <td>1982.10.01</td>\n      <td>36</td>\n      <td>NaN</td>\n      <td>...</td>\n      <td>magan</td>\n      <td>2007</td>\n      <td>11</td>\n      <td>no</td>\n      <td>1979.07.04</td>\n      <td>2008.01.04</td>\n      <td>3</td>\n      <td>2008-01-04</td>\n      <td>2008.01.05 22:17:59.000</td>\n      <td>2008.01.06 17:30:00.0000000</td>\n    </tr>\n    <tr>\n      <th>1</th>\n      <td>7</td>\n      <td>405</td>\n      <td>1</td>\n      <td>2008.01.11</td>\n      <td>19:00:16.000</td>\n      <td>ffi</td>\n      <td>2007.11.28</td>\n      <td>1984.08.16</td>\n      <td>34</td>\n      <td>Gépészmérnök</td>\n      <td>...</td>\n      <td>magan</td>\n      <td>2007</td>\n      <td>11</td>\n      <td>ffi</td>\n      <td>1976.06.19</td>\n      <td>2008.01.11</td>\n      <td>3</td>\n      <td>2007-12-21</td>\n      <td>2008.01.11 19:00:16.000</td>\n      <td>2008.01.16 07:00:00.0000000</td>\n    </tr>\n    <tr>\n      <th>2</th>\n      <td>8</td>\n      <td>440</td>\n      <td>1</td>\n      <td>2008.01.16</td>\n      <td>00:01:00.000</td>\n      <td>ffi</td>\n      <td>2008.01.02</td>\n      <td>1985.01.11</td>\n      <td>33</td>\n      <td>NaN</td>\n      <td>...</td>\n      <td>magan</td>\n      <td>2006</td>\n      <td>12</td>\n      <td>ffi</td>\n      <td>1985.03.27</td>\n      <td>2008.01.15</td>\n      <td>4</td>\n      <td>2007-11-26</td>\n      <td>2008.01.16 00:01:00.000</td>\n      <td>2008.01.17 21:30:00.0000000</td>\n    </tr>\n    <tr>\n      <th>3</th>\n      <td>9</td>\n      <td>442</td>\n      <td>1</td>\n      <td>2008.01.16</td>\n      <td>09:34:21.000</td>\n      <td>no</td>\n      <td>2007.11.27</td>\n      <td>1982.09.04</td>\n      <td>36</td>\n      <td>árazó</td>\n      <td>...</td>\n      <td>magan</td>\n      <td>2006</td>\n      <td>12</td>\n      <td>ffi</td>\n      <td>1985.03.27</td>\n      <td>2008.01.15</td>\n      <td>4</td>\n      <td>2007-11-26</td>\n      <td>2008.01.16 09:34:21.000</td>\n      <td>2008.01.17 21:30:00.0000000</td>\n    </tr>\n    <tr>\n      <th>4</th>\n      <td>10</td>\n      <td>442</td>\n      <td>1</td>\n      <td>2008.01.16</td>\n      <td>09:46:36.000</td>\n      <td>ffi</td>\n      <td>2007.11.26</td>\n      <td>1984.07.17</td>\n      <td>34</td>\n      <td>mérnök</td>\n      <td>...</td>\n      <td>magan</td>\n      <td>2006</td>\n      <td>12</td>\n      <td>ffi</td>\n      <td>1985.03.27</td>\n      <td>2008.01.15</td>\n      <td>4</td>\n      <td>2007-11-26</td>\n      <td>2008.01.16 09:46:36.000</td>\n      <td>2008.01.17 21:30:00.0000000</td>\n    </tr>\n  </tbody>\n</table>\n<p>5 rows × 34 columns</p>\n</div>"
     },
     "execution_count": 16,
     "metadata": {},
     "output_type": "execute_result"
    }
   ],
   "source": [
    "df.head()"
   ],
   "metadata": {
    "collapsed": false
   }
  },
  {
   "cell_type": "code",
   "execution_count": 5,
   "outputs": [],
   "source": [
    "df['reservation_time'] = df[['foglalas napja','foglalas ideje_oraperc']].apply(' '.join,axis=1)"
   ],
   "metadata": {
    "collapsed": false
   }
  },
  {
   "cell_type": "code",
   "execution_count": 15,
   "outputs": [],
   "source": [
    "df['journey_start_time'] = df[['indulas napja','indulasi ido']].apply(' '.join,axis=1)"
   ],
   "metadata": {
    "collapsed": false
   }
  },
  {
   "cell_type": "code",
   "execution_count": 17,
   "outputs": [],
   "source": [
    "df['ajanlat datuma'] = pd.to_datetime(df['ajanlat datuma'])"
   ],
   "metadata": {
    "collapsed": false
   }
  },
  {
   "cell_type": "code",
   "execution_count": null,
   "outputs": [],
   "source": [],
   "metadata": {
    "collapsed": false
   }
  }
 ],
 "metadata": {
  "kernelspec": {
   "display_name": "Python 3",
   "language": "python",
   "name": "python3"
  },
  "language_info": {
   "codemirror_mode": {
    "name": "ipython",
    "version": 2
   },
   "file_extension": ".py",
   "mimetype": "text/x-python",
   "name": "python",
   "nbconvert_exporter": "python",
   "pygments_lexer": "ipython2",
   "version": "2.7.6"
  }
 },
 "nbformat": 4,
 "nbformat_minor": 0
}
