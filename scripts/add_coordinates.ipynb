{
 "cells": [
  {
   "cell_type": "code",
   "execution_count": 1,
   "metadata": {
    "collapsed": true
   },
   "outputs": [],
   "source": [
    "import pandas as pd"
   ]
  },
  {
   "cell_type": "code",
   "execution_count": 2,
   "outputs": [],
   "source": [
    "df = pd.read_csv('../data/data_preprocessed_v02_working')\n",
    "origin = pd.read_csv('../results/origins_geocoded.csv')\n",
    "destination = pd.read_csv('../results/destinations_geocoded.csv')"
   ],
   "metadata": {
    "collapsed": false
   }
  },
  {
   "cell_type": "code",
   "execution_count": 15,
   "outputs": [
    {
     "data": {
      "text/plain": "      Unnamed: 0           0  Longitude   Latitude\n0              0     Miskolc  20.790043  48.103064\n1              1    Budapest  19.040359  47.497994\n2              2   Kecskemét  19.692807  46.908079\n3              3    Debrecen  21.625978  47.531399\n4              4        Eger  20.374367  47.898989\n...          ...         ...        ...        ...\n1570        1570       Gelej  20.773319  47.829957\n1571        1571  Nordhausen  10.792532  51.505157\n1572        1572   Hajmáskér  18.014268  47.144469\n1573        1573      Trento  11.129742  46.102954\n1574        1574      Gemzse  22.194257  48.139532\n\n[1575 rows x 4 columns]",
      "text/html": "<div>\n<style scoped>\n    .dataframe tbody tr th:only-of-type {\n        vertical-align: middle;\n    }\n\n    .dataframe tbody tr th {\n        vertical-align: top;\n    }\n\n    .dataframe thead th {\n        text-align: right;\n    }\n</style>\n<table border=\"1\" class=\"dataframe\">\n  <thead>\n    <tr style=\"text-align: right;\">\n      <th></th>\n      <th>Unnamed: 0</th>\n      <th>0</th>\n      <th>Longitude</th>\n      <th>Latitude</th>\n    </tr>\n  </thead>\n  <tbody>\n    <tr>\n      <th>0</th>\n      <td>0</td>\n      <td>Miskolc</td>\n      <td>20.790043</td>\n      <td>48.103064</td>\n    </tr>\n    <tr>\n      <th>1</th>\n      <td>1</td>\n      <td>Budapest</td>\n      <td>19.040359</td>\n      <td>47.497994</td>\n    </tr>\n    <tr>\n      <th>2</th>\n      <td>2</td>\n      <td>Kecskemét</td>\n      <td>19.692807</td>\n      <td>46.908079</td>\n    </tr>\n    <tr>\n      <th>3</th>\n      <td>3</td>\n      <td>Debrecen</td>\n      <td>21.625978</td>\n      <td>47.531399</td>\n    </tr>\n    <tr>\n      <th>4</th>\n      <td>4</td>\n      <td>Eger</td>\n      <td>20.374367</td>\n      <td>47.898989</td>\n    </tr>\n    <tr>\n      <th>...</th>\n      <td>...</td>\n      <td>...</td>\n      <td>...</td>\n      <td>...</td>\n    </tr>\n    <tr>\n      <th>1570</th>\n      <td>1570</td>\n      <td>Gelej</td>\n      <td>20.773319</td>\n      <td>47.829957</td>\n    </tr>\n    <tr>\n      <th>1571</th>\n      <td>1571</td>\n      <td>Nordhausen</td>\n      <td>10.792532</td>\n      <td>51.505157</td>\n    </tr>\n    <tr>\n      <th>1572</th>\n      <td>1572</td>\n      <td>Hajmáskér</td>\n      <td>18.014268</td>\n      <td>47.144469</td>\n    </tr>\n    <tr>\n      <th>1573</th>\n      <td>1573</td>\n      <td>Trento</td>\n      <td>11.129742</td>\n      <td>46.102954</td>\n    </tr>\n    <tr>\n      <th>1574</th>\n      <td>1574</td>\n      <td>Gemzse</td>\n      <td>22.194257</td>\n      <td>48.139532</td>\n    </tr>\n  </tbody>\n</table>\n<p>1575 rows × 4 columns</p>\n</div>"
     },
     "execution_count": 15,
     "metadata": {},
     "output_type": "execute_result"
    }
   ],
   "source": [
    "origin"
   ],
   "metadata": {
    "collapsed": false
   }
  },
  {
   "cell_type": "code",
   "execution_count": 24,
   "outputs": [],
   "source": [
    "origin_lon = origin.drop('Unnamed: 0',axis=1)"
   ],
   "metadata": {
    "collapsed": false
   }
  },
  {
   "cell_type": "code",
   "execution_count": 25,
   "outputs": [],
   "source": [
    "origin_lon = origin_lon.drop('Latitude',axis=1)"
   ],
   "metadata": {
    "collapsed": false
   }
  },
  {
   "cell_type": "code",
   "execution_count": 32,
   "outputs": [],
   "source": [
    "origin_lon_dict = origin_lon.to_dict()"
   ],
   "metadata": {
    "collapsed": false
   }
  },
  {
   "cell_type": "code",
   "execution_count": 34,
   "outputs": [],
   "source": [
    "df['origin_city_lon'] = df['origin_city'].map(origin_lon_dict)"
   ],
   "metadata": {
    "collapsed": false
   }
  },
  {
   "cell_type": "code",
   "execution_count": 35,
   "outputs": [
    {
     "data": {
      "text/plain": "        Unnamed: 0  Azonosito  autosajanlatID  no_reserver_seats  \\\n0                0          3             293                  1   \n1                1          7             405                  1   \n2                2          8             440                  1   \n3                3          9             442                  1   \n4                4         10             442                  1   \n...            ...        ...             ...                ...   \n863633      863647     868218        23063266                  1   \n863634      863648     868219        23063266                  1   \n863635      863649     868220        23066932                  1   \n863636      863650     868221        23068405                  1   \n863637      863651     868222        23074756                  1   \n\n       passenger_gender passenger_registration_date  passenger_age  \\\n0                    no                  2007-12-29             36   \n1                   ffi                  2007-11-28             34   \n2                   ffi                  2008-01-02             33   \n3                    no                  2007-11-27             36   \n4                   ffi                  2007-11-26             34   \n...                 ...                         ...            ...   \n863633              ffi                  2013-12-04            118   \n863634              ffi                  2015-10-29            118   \n863635               no                  2015-09-27             30   \n863636               no                  2015-03-04            118   \n863637               no                  2015-12-31            118   \n\n       passenger_job  segedID  year_of_trip  ... car_year_of_production  \\\n0                NaN      121          2008  ...                   2007   \n1       Gépészmérnök      164          2008  ...                   2007   \n2                NaN      180          2008  ...                   2006   \n3              árazó      180          2008  ...                   2006   \n4             mérnök      180          2008  ...                   2006   \n...              ...      ...           ...  ...                    ...   \n863633           NaN  2820073          2015  ...                   2010   \n863634           NaN  2820073          2015  ...                   2010   \n863635           NaN  2820193          2015  ...                   2000   \n863636           NaN  2820337          2015  ...                   2003   \n863637           NaN  2820961          2015  ...                   2007   \n\n       car_age driver_gender date_of_offer max_no_of_passengers  \\\n0           11            no    2008-01-04                    3   \n1           11           ffi    2008-01-11                    3   \n2           12           ffi    2008-01-15                    4   \n3           12           ffi    2008-01-15                    4   \n4           12           ffi    2008-01-15                    4   \n...        ...           ...           ...                  ...   \n863633       8           ffi    2015-12-31                    4   \n863634       8           ffi    2015-12-31                    4   \n863635      18           ffi    2015-12-31                    3   \n863636      15           ffi    2015-12-31                    4   \n863637      11           ffi    2015-12-31                    3   \n\n        driver_registration_date         reservation_time  \\\n0                     2008-01-04  2008.01.05 22:17:59.000   \n1                     2007-12-21  2008.01.11 19:00:16.000   \n2                     2007-11-26  2008.01.16 00:01:00.000   \n3                     2007-11-26  2008.01.16 09:34:21.000   \n4                     2007-11-26  2008.01.16 09:46:36.000   \n...                          ...                      ...   \n863633                2012-08-01  2015.12.30 21:18:21.000   \n863634                2012-08-01  2015.12.31 17:53:36.000   \n863635                2015-11-22  2015.12.31 17:02:36.000   \n863636                2015-08-07  2015.12.31 19:09:49.000   \n863637                2015-10-02  2015.12.31 12:19:34.000   \n\n                 journey_start_time  passenger_birth_date origin_city_lon  \n0       2008.01.06 17:30:00.0000000            1982-10-01             NaN  \n1       2008.01.16 07:00:00.0000000            1984-08-16             NaN  \n2       2008.01.17 21:30:00.0000000            1985-01-11             NaN  \n3       2008.01.17 21:30:00.0000000            1982-09-04             NaN  \n4       2008.01.17 21:30:00.0000000            1984-07-17             NaN  \n...                             ...                   ...             ...  \n863633  2015.12.31 19:30:00.0000000                   NaN             NaN  \n863634  2015.12.31 19:30:00.0000000                   NaN             NaN  \n863635  2015.12.31 19:37:00.0000000            1988-01-14             NaN  \n863636  2015.12.31 19:45:00.0000000                   NaN             NaN  \n863637  2015.12.31 23:15:00.0000000                   NaN             NaN  \n\n[863638 rows x 30 columns]",
      "text/html": "<div>\n<style scoped>\n    .dataframe tbody tr th:only-of-type {\n        vertical-align: middle;\n    }\n\n    .dataframe tbody tr th {\n        vertical-align: top;\n    }\n\n    .dataframe thead th {\n        text-align: right;\n    }\n</style>\n<table border=\"1\" class=\"dataframe\">\n  <thead>\n    <tr style=\"text-align: right;\">\n      <th></th>\n      <th>Unnamed: 0</th>\n      <th>Azonosito</th>\n      <th>autosajanlatID</th>\n      <th>no_reserver_seats</th>\n      <th>passenger_gender</th>\n      <th>passenger_registration_date</th>\n      <th>passenger_age</th>\n      <th>passenger_job</th>\n      <th>segedID</th>\n      <th>year_of_trip</th>\n      <th>...</th>\n      <th>car_year_of_production</th>\n      <th>car_age</th>\n      <th>driver_gender</th>\n      <th>date_of_offer</th>\n      <th>max_no_of_passengers</th>\n      <th>driver_registration_date</th>\n      <th>reservation_time</th>\n      <th>journey_start_time</th>\n      <th>passenger_birth_date</th>\n      <th>origin_city_lon</th>\n    </tr>\n  </thead>\n  <tbody>\n    <tr>\n      <th>0</th>\n      <td>0</td>\n      <td>3</td>\n      <td>293</td>\n      <td>1</td>\n      <td>no</td>\n      <td>2007-12-29</td>\n      <td>36</td>\n      <td>NaN</td>\n      <td>121</td>\n      <td>2008</td>\n      <td>...</td>\n      <td>2007</td>\n      <td>11</td>\n      <td>no</td>\n      <td>2008-01-04</td>\n      <td>3</td>\n      <td>2008-01-04</td>\n      <td>2008.01.05 22:17:59.000</td>\n      <td>2008.01.06 17:30:00.0000000</td>\n      <td>1982-10-01</td>\n      <td>NaN</td>\n    </tr>\n    <tr>\n      <th>1</th>\n      <td>1</td>\n      <td>7</td>\n      <td>405</td>\n      <td>1</td>\n      <td>ffi</td>\n      <td>2007-11-28</td>\n      <td>34</td>\n      <td>Gépészmérnök</td>\n      <td>164</td>\n      <td>2008</td>\n      <td>...</td>\n      <td>2007</td>\n      <td>11</td>\n      <td>ffi</td>\n      <td>2008-01-11</td>\n      <td>3</td>\n      <td>2007-12-21</td>\n      <td>2008.01.11 19:00:16.000</td>\n      <td>2008.01.16 07:00:00.0000000</td>\n      <td>1984-08-16</td>\n      <td>NaN</td>\n    </tr>\n    <tr>\n      <th>2</th>\n      <td>2</td>\n      <td>8</td>\n      <td>440</td>\n      <td>1</td>\n      <td>ffi</td>\n      <td>2008-01-02</td>\n      <td>33</td>\n      <td>NaN</td>\n      <td>180</td>\n      <td>2008</td>\n      <td>...</td>\n      <td>2006</td>\n      <td>12</td>\n      <td>ffi</td>\n      <td>2008-01-15</td>\n      <td>4</td>\n      <td>2007-11-26</td>\n      <td>2008.01.16 00:01:00.000</td>\n      <td>2008.01.17 21:30:00.0000000</td>\n      <td>1985-01-11</td>\n      <td>NaN</td>\n    </tr>\n    <tr>\n      <th>3</th>\n      <td>3</td>\n      <td>9</td>\n      <td>442</td>\n      <td>1</td>\n      <td>no</td>\n      <td>2007-11-27</td>\n      <td>36</td>\n      <td>árazó</td>\n      <td>180</td>\n      <td>2008</td>\n      <td>...</td>\n      <td>2006</td>\n      <td>12</td>\n      <td>ffi</td>\n      <td>2008-01-15</td>\n      <td>4</td>\n      <td>2007-11-26</td>\n      <td>2008.01.16 09:34:21.000</td>\n      <td>2008.01.17 21:30:00.0000000</td>\n      <td>1982-09-04</td>\n      <td>NaN</td>\n    </tr>\n    <tr>\n      <th>4</th>\n      <td>4</td>\n      <td>10</td>\n      <td>442</td>\n      <td>1</td>\n      <td>ffi</td>\n      <td>2007-11-26</td>\n      <td>34</td>\n      <td>mérnök</td>\n      <td>180</td>\n      <td>2008</td>\n      <td>...</td>\n      <td>2006</td>\n      <td>12</td>\n      <td>ffi</td>\n      <td>2008-01-15</td>\n      <td>4</td>\n      <td>2007-11-26</td>\n      <td>2008.01.16 09:46:36.000</td>\n      <td>2008.01.17 21:30:00.0000000</td>\n      <td>1984-07-17</td>\n      <td>NaN</td>\n    </tr>\n    <tr>\n      <th>...</th>\n      <td>...</td>\n      <td>...</td>\n      <td>...</td>\n      <td>...</td>\n      <td>...</td>\n      <td>...</td>\n      <td>...</td>\n      <td>...</td>\n      <td>...</td>\n      <td>...</td>\n      <td>...</td>\n      <td>...</td>\n      <td>...</td>\n      <td>...</td>\n      <td>...</td>\n      <td>...</td>\n      <td>...</td>\n      <td>...</td>\n      <td>...</td>\n      <td>...</td>\n      <td>...</td>\n    </tr>\n    <tr>\n      <th>863633</th>\n      <td>863647</td>\n      <td>868218</td>\n      <td>23063266</td>\n      <td>1</td>\n      <td>ffi</td>\n      <td>2013-12-04</td>\n      <td>118</td>\n      <td>NaN</td>\n      <td>2820073</td>\n      <td>2015</td>\n      <td>...</td>\n      <td>2010</td>\n      <td>8</td>\n      <td>ffi</td>\n      <td>2015-12-31</td>\n      <td>4</td>\n      <td>2012-08-01</td>\n      <td>2015.12.30 21:18:21.000</td>\n      <td>2015.12.31 19:30:00.0000000</td>\n      <td>NaN</td>\n      <td>NaN</td>\n    </tr>\n    <tr>\n      <th>863634</th>\n      <td>863648</td>\n      <td>868219</td>\n      <td>23063266</td>\n      <td>1</td>\n      <td>ffi</td>\n      <td>2015-10-29</td>\n      <td>118</td>\n      <td>NaN</td>\n      <td>2820073</td>\n      <td>2015</td>\n      <td>...</td>\n      <td>2010</td>\n      <td>8</td>\n      <td>ffi</td>\n      <td>2015-12-31</td>\n      <td>4</td>\n      <td>2012-08-01</td>\n      <td>2015.12.31 17:53:36.000</td>\n      <td>2015.12.31 19:30:00.0000000</td>\n      <td>NaN</td>\n      <td>NaN</td>\n    </tr>\n    <tr>\n      <th>863635</th>\n      <td>863649</td>\n      <td>868220</td>\n      <td>23066932</td>\n      <td>1</td>\n      <td>no</td>\n      <td>2015-09-27</td>\n      <td>30</td>\n      <td>NaN</td>\n      <td>2820193</td>\n      <td>2015</td>\n      <td>...</td>\n      <td>2000</td>\n      <td>18</td>\n      <td>ffi</td>\n      <td>2015-12-31</td>\n      <td>3</td>\n      <td>2015-11-22</td>\n      <td>2015.12.31 17:02:36.000</td>\n      <td>2015.12.31 19:37:00.0000000</td>\n      <td>1988-01-14</td>\n      <td>NaN</td>\n    </tr>\n    <tr>\n      <th>863636</th>\n      <td>863650</td>\n      <td>868221</td>\n      <td>23068405</td>\n      <td>1</td>\n      <td>no</td>\n      <td>2015-03-04</td>\n      <td>118</td>\n      <td>NaN</td>\n      <td>2820337</td>\n      <td>2015</td>\n      <td>...</td>\n      <td>2003</td>\n      <td>15</td>\n      <td>ffi</td>\n      <td>2015-12-31</td>\n      <td>4</td>\n      <td>2015-08-07</td>\n      <td>2015.12.31 19:09:49.000</td>\n      <td>2015.12.31 19:45:00.0000000</td>\n      <td>NaN</td>\n      <td>NaN</td>\n    </tr>\n    <tr>\n      <th>863637</th>\n      <td>863651</td>\n      <td>868222</td>\n      <td>23074756</td>\n      <td>1</td>\n      <td>no</td>\n      <td>2015-12-31</td>\n      <td>118</td>\n      <td>NaN</td>\n      <td>2820961</td>\n      <td>2015</td>\n      <td>...</td>\n      <td>2007</td>\n      <td>11</td>\n      <td>ffi</td>\n      <td>2015-12-31</td>\n      <td>3</td>\n      <td>2015-10-02</td>\n      <td>2015.12.31 12:19:34.000</td>\n      <td>2015.12.31 23:15:00.0000000</td>\n      <td>NaN</td>\n      <td>NaN</td>\n    </tr>\n  </tbody>\n</table>\n<p>863638 rows × 30 columns</p>\n</div>"
     },
     "execution_count": 35,
     "metadata": {},
     "output_type": "execute_result"
    }
   ],
   "source": [
    "df"
   ],
   "metadata": {
    "collapsed": false
   }
  },
  {
   "cell_type": "code",
   "execution_count": 38,
   "outputs": [
    {
     "ename": "KeyError",
     "evalue": "0           Miskolc\n1          Budapest\n2          Budapest\n3          Budapest\n4          Budapest\n            ...    \n863633       Szeged\n863634       Szeged\n863635      Miskolc\n863636    Szekszárd\n863637     Budapest\nName: origin_city, Length: 863638, dtype: object",
     "output_type": "error",
     "traceback": [
      "\u001B[1;31m---------------------------------------------------------------------------\u001B[0m",
      "\u001B[1;31mKeyError\u001B[0m                                  Traceback (most recent call last)",
      "Cell \u001B[1;32mIn[38], line 5\u001B[0m\n\u001B[0;32m      2\u001B[0m geocoded_df \u001B[38;5;241m=\u001B[39m pd\u001B[38;5;241m.\u001B[39mDataFrame({\u001B[38;5;124m'\u001B[39m\u001B[38;5;124morigin_city\u001B[39m\u001B[38;5;124m'\u001B[39m: df[\u001B[38;5;124m'\u001B[39m\u001B[38;5;124morigin_city\u001B[39m\u001B[38;5;124m'\u001B[39m], \u001B[38;5;124m'\u001B[39m\u001B[38;5;124mlongitude\u001B[39m\u001B[38;5;124m'\u001B[39m: origin_lon[\u001B[38;5;124m'\u001B[39m\u001B[38;5;124mLongitude\u001B[39m\u001B[38;5;124m'\u001B[39m]})\n\u001B[0;32m      4\u001B[0m \u001B[38;5;66;03m# Use the Pandas merge() function to join the coords_df with the original dataframe on the 'origin_city' column\u001B[39;00m\n\u001B[1;32m----> 5\u001B[0m merged_df \u001B[38;5;241m=\u001B[39m \u001B[43mpd\u001B[49m\u001B[38;5;241;43m.\u001B[39;49m\u001B[43mmerge\u001B[49m\u001B[43m(\u001B[49m\u001B[43mdf\u001B[49m\u001B[43m,\u001B[49m\u001B[43m \u001B[49m\u001B[43morigin_lon\u001B[49m\u001B[43m,\u001B[49m\u001B[43m \u001B[49m\u001B[43mon\u001B[49m\u001B[38;5;241;43m=\u001B[39;49m\u001B[43mdf\u001B[49m\u001B[43m[\u001B[49m\u001B[38;5;124;43m'\u001B[39;49m\u001B[38;5;124;43morigin_city\u001B[39;49m\u001B[38;5;124;43m'\u001B[39;49m\u001B[43m]\u001B[49m\u001B[43m)\u001B[49m\n",
      "File \u001B[1;32m~\\Documents\\GitHub\\rnd-ridesharing-ml\\rndenv\\lib\\site-packages\\pandas\\core\\reshape\\merge.py:110\u001B[0m, in \u001B[0;36mmerge\u001B[1;34m(left, right, how, on, left_on, right_on, left_index, right_index, sort, suffixes, copy, indicator, validate)\u001B[0m\n\u001B[0;32m     93\u001B[0m \u001B[38;5;129m@Substitution\u001B[39m(\u001B[38;5;124m\"\u001B[39m\u001B[38;5;130;01m\\n\u001B[39;00m\u001B[38;5;124mleft : DataFrame or named Series\u001B[39m\u001B[38;5;124m\"\u001B[39m)\n\u001B[0;32m     94\u001B[0m \u001B[38;5;129m@Appender\u001B[39m(_merge_doc, indents\u001B[38;5;241m=\u001B[39m\u001B[38;5;241m0\u001B[39m)\n\u001B[0;32m     95\u001B[0m \u001B[38;5;28;01mdef\u001B[39;00m \u001B[38;5;21mmerge\u001B[39m(\n\u001B[1;32m   (...)\u001B[0m\n\u001B[0;32m    108\u001B[0m     validate: \u001B[38;5;28mstr\u001B[39m \u001B[38;5;241m|\u001B[39m \u001B[38;5;28;01mNone\u001B[39;00m \u001B[38;5;241m=\u001B[39m \u001B[38;5;28;01mNone\u001B[39;00m,\n\u001B[0;32m    109\u001B[0m ) \u001B[38;5;241m-\u001B[39m\u001B[38;5;241m>\u001B[39m DataFrame:\n\u001B[1;32m--> 110\u001B[0m     op \u001B[38;5;241m=\u001B[39m \u001B[43m_MergeOperation\u001B[49m\u001B[43m(\u001B[49m\n\u001B[0;32m    111\u001B[0m \u001B[43m        \u001B[49m\u001B[43mleft\u001B[49m\u001B[43m,\u001B[49m\n\u001B[0;32m    112\u001B[0m \u001B[43m        \u001B[49m\u001B[43mright\u001B[49m\u001B[43m,\u001B[49m\n\u001B[0;32m    113\u001B[0m \u001B[43m        \u001B[49m\u001B[43mhow\u001B[49m\u001B[38;5;241;43m=\u001B[39;49m\u001B[43mhow\u001B[49m\u001B[43m,\u001B[49m\n\u001B[0;32m    114\u001B[0m \u001B[43m        \u001B[49m\u001B[43mon\u001B[49m\u001B[38;5;241;43m=\u001B[39;49m\u001B[43mon\u001B[49m\u001B[43m,\u001B[49m\n\u001B[0;32m    115\u001B[0m \u001B[43m        \u001B[49m\u001B[43mleft_on\u001B[49m\u001B[38;5;241;43m=\u001B[39;49m\u001B[43mleft_on\u001B[49m\u001B[43m,\u001B[49m\n\u001B[0;32m    116\u001B[0m \u001B[43m        \u001B[49m\u001B[43mright_on\u001B[49m\u001B[38;5;241;43m=\u001B[39;49m\u001B[43mright_on\u001B[49m\u001B[43m,\u001B[49m\n\u001B[0;32m    117\u001B[0m \u001B[43m        \u001B[49m\u001B[43mleft_index\u001B[49m\u001B[38;5;241;43m=\u001B[39;49m\u001B[43mleft_index\u001B[49m\u001B[43m,\u001B[49m\n\u001B[0;32m    118\u001B[0m \u001B[43m        \u001B[49m\u001B[43mright_index\u001B[49m\u001B[38;5;241;43m=\u001B[39;49m\u001B[43mright_index\u001B[49m\u001B[43m,\u001B[49m\n\u001B[0;32m    119\u001B[0m \u001B[43m        \u001B[49m\u001B[43msort\u001B[49m\u001B[38;5;241;43m=\u001B[39;49m\u001B[43msort\u001B[49m\u001B[43m,\u001B[49m\n\u001B[0;32m    120\u001B[0m \u001B[43m        \u001B[49m\u001B[43msuffixes\u001B[49m\u001B[38;5;241;43m=\u001B[39;49m\u001B[43msuffixes\u001B[49m\u001B[43m,\u001B[49m\n\u001B[0;32m    121\u001B[0m \u001B[43m        \u001B[49m\u001B[43mindicator\u001B[49m\u001B[38;5;241;43m=\u001B[39;49m\u001B[43mindicator\u001B[49m\u001B[43m,\u001B[49m\n\u001B[0;32m    122\u001B[0m \u001B[43m        \u001B[49m\u001B[43mvalidate\u001B[49m\u001B[38;5;241;43m=\u001B[39;49m\u001B[43mvalidate\u001B[49m\u001B[43m,\u001B[49m\n\u001B[0;32m    123\u001B[0m \u001B[43m    \u001B[49m\u001B[43m)\u001B[49m\n\u001B[0;32m    124\u001B[0m     \u001B[38;5;28;01mreturn\u001B[39;00m op\u001B[38;5;241m.\u001B[39mget_result(copy\u001B[38;5;241m=\u001B[39mcopy)\n",
      "File \u001B[1;32m~\\Documents\\GitHub\\rnd-ridesharing-ml\\rndenv\\lib\\site-packages\\pandas\\core\\reshape\\merge.py:703\u001B[0m, in \u001B[0;36m_MergeOperation.__init__\u001B[1;34m(self, left, right, how, on, left_on, right_on, axis, left_index, right_index, sort, suffixes, indicator, validate)\u001B[0m\n\u001B[0;32m    696\u001B[0m \u001B[38;5;28mself\u001B[39m\u001B[38;5;241m.\u001B[39m_cross \u001B[38;5;241m=\u001B[39m cross_col\n\u001B[0;32m    698\u001B[0m \u001B[38;5;66;03m# note this function has side effects\u001B[39;00m\n\u001B[0;32m    699\u001B[0m (\n\u001B[0;32m    700\u001B[0m     \u001B[38;5;28mself\u001B[39m\u001B[38;5;241m.\u001B[39mleft_join_keys,\n\u001B[0;32m    701\u001B[0m     \u001B[38;5;28mself\u001B[39m\u001B[38;5;241m.\u001B[39mright_join_keys,\n\u001B[0;32m    702\u001B[0m     \u001B[38;5;28mself\u001B[39m\u001B[38;5;241m.\u001B[39mjoin_names,\n\u001B[1;32m--> 703\u001B[0m ) \u001B[38;5;241m=\u001B[39m \u001B[38;5;28;43mself\u001B[39;49m\u001B[38;5;241;43m.\u001B[39;49m\u001B[43m_get_merge_keys\u001B[49m\u001B[43m(\u001B[49m\u001B[43m)\u001B[49m\n\u001B[0;32m    705\u001B[0m \u001B[38;5;66;03m# validate the merge keys dtypes. We may need to coerce\u001B[39;00m\n\u001B[0;32m    706\u001B[0m \u001B[38;5;66;03m# to avoid incompatible dtypes\u001B[39;00m\n\u001B[0;32m    707\u001B[0m \u001B[38;5;28mself\u001B[39m\u001B[38;5;241m.\u001B[39m_maybe_coerce_merge_keys()\n",
      "File \u001B[1;32m~\\Documents\\GitHub\\rnd-ridesharing-ml\\rndenv\\lib\\site-packages\\pandas\\core\\reshape\\merge.py:1150\u001B[0m, in \u001B[0;36m_MergeOperation._get_merge_keys\u001B[1;34m(self)\u001B[0m\n\u001B[0;32m   1148\u001B[0m rk \u001B[38;5;241m=\u001B[39m cast(Hashable, rk)\n\u001B[0;32m   1149\u001B[0m \u001B[38;5;28;01mif\u001B[39;00m rk \u001B[38;5;129;01mis\u001B[39;00m \u001B[38;5;129;01mnot\u001B[39;00m \u001B[38;5;28;01mNone\u001B[39;00m:\n\u001B[1;32m-> 1150\u001B[0m     right_keys\u001B[38;5;241m.\u001B[39mappend(\u001B[43mright\u001B[49m\u001B[38;5;241;43m.\u001B[39;49m\u001B[43m_get_label_or_level_values\u001B[49m\u001B[43m(\u001B[49m\u001B[43mrk\u001B[49m\u001B[43m)\u001B[49m)\n\u001B[0;32m   1151\u001B[0m     join_names\u001B[38;5;241m.\u001B[39mappend(rk)\n\u001B[0;32m   1152\u001B[0m \u001B[38;5;28;01melse\u001B[39;00m:\n\u001B[0;32m   1153\u001B[0m     \u001B[38;5;66;03m# work-around for merge_asof(right_index=True)\u001B[39;00m\n",
      "File \u001B[1;32m~\\Documents\\GitHub\\rnd-ridesharing-ml\\rndenv\\lib\\site-packages\\pandas\\core\\generic.py:1850\u001B[0m, in \u001B[0;36mNDFrame._get_label_or_level_values\u001B[1;34m(self, key, axis)\u001B[0m\n\u001B[0;32m   1844\u001B[0m     values \u001B[38;5;241m=\u001B[39m (\n\u001B[0;32m   1845\u001B[0m         \u001B[38;5;28mself\u001B[39m\u001B[38;5;241m.\u001B[39maxes[axis]\n\u001B[0;32m   1846\u001B[0m         \u001B[38;5;241m.\u001B[39mget_level_values(key)  \u001B[38;5;66;03m# type: ignore[assignment]\u001B[39;00m\n\u001B[0;32m   1847\u001B[0m         \u001B[38;5;241m.\u001B[39m_values\n\u001B[0;32m   1848\u001B[0m     )\n\u001B[0;32m   1849\u001B[0m \u001B[38;5;28;01melse\u001B[39;00m:\n\u001B[1;32m-> 1850\u001B[0m     \u001B[38;5;28;01mraise\u001B[39;00m \u001B[38;5;167;01mKeyError\u001B[39;00m(key)\n\u001B[0;32m   1852\u001B[0m \u001B[38;5;66;03m# Check for duplicates\u001B[39;00m\n\u001B[0;32m   1853\u001B[0m \u001B[38;5;28;01mif\u001B[39;00m values\u001B[38;5;241m.\u001B[39mndim \u001B[38;5;241m>\u001B[39m \u001B[38;5;241m1\u001B[39m:\n",
      "\u001B[1;31mKeyError\u001B[0m: 0           Miskolc\n1          Budapest\n2          Budapest\n3          Budapest\n4          Budapest\n            ...    \n863633       Szeged\n863634       Szeged\n863635      Miskolc\n863636    Szekszárd\n863637     Budapest\nName: origin_city, Length: 863638, dtype: object"
     ]
    }
   ],
   "source": [
    "# Create a new dataframe with the unique city names and coordinates\n",
    "geocoded_df = pd.DataFrame({'origin_city': df['origin_city'], 'longitude': origin_lon['Longitude']})\n",
    "\n",
    "# Use the Pandas merge() function to join the coords_df with the original dataframe on the 'origin_city' column\n",
    "merged_df = pd.merge(df, origin_lon, on=df['origin_city'])\n"
   ],
   "metadata": {
    "collapsed": false
   }
  },
  {
   "cell_type": "code",
   "execution_count": null,
   "outputs": [],
   "source": [],
   "metadata": {
    "collapsed": false
   }
  }
 ],
 "metadata": {
  "kernelspec": {
   "display_name": "Python 3",
   "language": "python",
   "name": "python3"
  },
  "language_info": {
   "codemirror_mode": {
    "name": "ipython",
    "version": 2
   },
   "file_extension": ".py",
   "mimetype": "text/x-python",
   "name": "python",
   "nbconvert_exporter": "python",
   "pygments_lexer": "ipython2",
   "version": "2.7.6"
  }
 },
 "nbformat": 4,
 "nbformat_minor": 0
}
