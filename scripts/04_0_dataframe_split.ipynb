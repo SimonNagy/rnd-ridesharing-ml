{
 "cells": [
  {
   "cell_type": "code",
   "execution_count": 1,
   "metadata": {
    "collapsed": true
   },
   "outputs": [],
   "source": [
    "import pandas as pd"
   ]
  },
  {
   "cell_type": "code",
   "execution_count": 6,
   "outputs": [],
   "source": [
    "df = pd.read_csv('../data/dataframe_geocoded.csv',low_memory=False,encoding='iso-8859-1',on_bad_lines='skip',sep=';')"
   ],
   "metadata": {
    "collapsed": false
   }
  },
  {
   "cell_type": "code",
   "execution_count": 9,
   "outputs": [
    {
     "name": "stdout",
     "output_type": "stream",
     "text": [
      "<class 'pandas.core.frame.DataFrame'>\n",
      "RangeIndex: 863638 entries, 0 to 863637\n",
      "Data columns (total 38 columns):\n",
      " #   Column                       Non-Null Count   Dtype  \n",
      "---  ------                       --------------   -----  \n",
      " 0   Unnamed: 0.1                 863638 non-null  int64  \n",
      " 1   Unnamed: 0_x                 863638 non-null  int64  \n",
      " 2   Azonosito                    863638 non-null  int64  \n",
      " 3   autosajanlatID               863638 non-null  int64  \n",
      " 4   no_reserver_seats            863638 non-null  int64  \n",
      " 5   passenger_gender             863638 non-null  object \n",
      " 6   passenger_registration_date  858840 non-null  object \n",
      " 7   passenger_age                863638 non-null  int64  \n",
      " 8   passenger_job                215863 non-null  object \n",
      " 9   segedID                      863638 non-null  int64  \n",
      " 10  year_of_trip                 863638 non-null  int64  \n",
      " 11  origin_city                  863638 non-null  object \n",
      " 12  origin_country               863638 non-null  object \n",
      " 13  erkezesi ido                 863638 non-null  object \n",
      " 14  destination_city             863638 non-null  object \n",
      " 15  destination_country          863638 non-null  object \n",
      " 16  trip_fee                     863638 non-null  int64  \n",
      " 17  currency                     863638 non-null  object \n",
      " 18  national_or_international    863638 non-null  object \n",
      " 19  booking_interval             863638 non-null  int64  \n",
      " 20  business_or_non_business     863638 non-null  object \n",
      " 21  car_year_of_production       863638 non-null  int64  \n",
      " 22  car_age                      863638 non-null  int64  \n",
      " 23  driver_gender                863638 non-null  object \n",
      " 24  date_of_offer                863638 non-null  object \n",
      " 25  max_no_of_passengers         863638 non-null  int64  \n",
      " 26  driver_registration_date     832029 non-null  object \n",
      " 27  reservation_time             863638 non-null  object \n",
      " 28  journey_start_time           863638 non-null  object \n",
      " 29  passenger_birth_date         420203 non-null  object \n",
      " 30  Unnamed: 0_y                 863638 non-null  int64  \n",
      " 31  0_x                          863638 non-null  object \n",
      " 32  Longitude_x                  863532 non-null  float64\n",
      " 33  Latitude_x                   863532 non-null  float64\n",
      " 34  Unnamed: 0                   863638 non-null  int64  \n",
      " 35  0_y                          863638 non-null  object \n",
      " 36  Longitude_y                  863462 non-null  float64\n",
      " 37  Latitude_y                   863462 non-null  float64\n",
      "dtypes: float64(4), int64(15), object(19)\n",
      "memory usage: 250.4+ MB\n"
     ]
    }
   ],
   "source": [
    "df.info()"
   ],
   "metadata": {
    "collapsed": false
   }
  },
  {
   "cell_type": "code",
   "execution_count": 10,
   "outputs": [
    {
     "data": {
      "text/plain": "   Unnamed: 0.1  Unnamed: 0_x  Azonosito  autosajanlatID  no_reserver_seats  \\\n0             0             0          3             293                  1   \n1             1            64         82            2030                  1   \n2             2            71         32            1064                  1   \n3             3            74         85            2184                  1   \n4             4            85         75            1886                  1   \n\n  passenger_gender passenger_registration_date  passenger_age  \\\n0               no                  2007-12-29             36   \n1               no                  2008-02-24             44   \n2               no                  2007-12-11             34   \n3               no                  2008-01-28             30   \n4               no                  2008-02-13            118   \n\n          passenger_job  segedID  ...           journey_start_time  \\\n0                   NaN      121  ...  2008.01.06 17:30:00.0000000   \n1              mÃ©rnÃ¶k      906  ...  2008.02.25 14:30:00.0000000   \n2            hitoktatÃ³      427  ...  2008.03.02 19:15:00.0000000   \n3  fÃµiskolai hallgatÃ³      984  ...  2008.03.03 14:00:00.0000000   \n4                   NaN      839  ...  2008.03.09 16:00:00.0000000   \n\n  passenger_birth_date Unnamed: 0_y      0_x Longitude_x Latitude_x  \\\n0           1982-10-01            0  Miskolc   20.790043  48.103064   \n1           1974-08-20            0  Miskolc   20.790043  48.103064   \n2           1984-12-18            0  Miskolc   20.790043  48.103064   \n3           1988-01-05            0  Miskolc   20.790043  48.103064   \n4                  NaN            0  Miskolc   20.790043  48.103064   \n\n   Unnamed: 0       0_y Longitude_y  Latitude_y  \n0           0  Budapest   19.040359   47.497994  \n1           0  Budapest   19.040359   47.497994  \n2           0  Budapest   19.040359   47.497994  \n3           0  Budapest   19.040359   47.497994  \n4           0  Budapest   19.040359   47.497994  \n\n[5 rows x 38 columns]",
      "text/html": "<div>\n<style scoped>\n    .dataframe tbody tr th:only-of-type {\n        vertical-align: middle;\n    }\n\n    .dataframe tbody tr th {\n        vertical-align: top;\n    }\n\n    .dataframe thead th {\n        text-align: right;\n    }\n</style>\n<table border=\"1\" class=\"dataframe\">\n  <thead>\n    <tr style=\"text-align: right;\">\n      <th></th>\n      <th>Unnamed: 0.1</th>\n      <th>Unnamed: 0_x</th>\n      <th>Azonosito</th>\n      <th>autosajanlatID</th>\n      <th>no_reserver_seats</th>\n      <th>passenger_gender</th>\n      <th>passenger_registration_date</th>\n      <th>passenger_age</th>\n      <th>passenger_job</th>\n      <th>segedID</th>\n      <th>...</th>\n      <th>journey_start_time</th>\n      <th>passenger_birth_date</th>\n      <th>Unnamed: 0_y</th>\n      <th>0_x</th>\n      <th>Longitude_x</th>\n      <th>Latitude_x</th>\n      <th>Unnamed: 0</th>\n      <th>0_y</th>\n      <th>Longitude_y</th>\n      <th>Latitude_y</th>\n    </tr>\n  </thead>\n  <tbody>\n    <tr>\n      <th>0</th>\n      <td>0</td>\n      <td>0</td>\n      <td>3</td>\n      <td>293</td>\n      <td>1</td>\n      <td>no</td>\n      <td>2007-12-29</td>\n      <td>36</td>\n      <td>NaN</td>\n      <td>121</td>\n      <td>...</td>\n      <td>2008.01.06 17:30:00.0000000</td>\n      <td>1982-10-01</td>\n      <td>0</td>\n      <td>Miskolc</td>\n      <td>20.790043</td>\n      <td>48.103064</td>\n      <td>0</td>\n      <td>Budapest</td>\n      <td>19.040359</td>\n      <td>47.497994</td>\n    </tr>\n    <tr>\n      <th>1</th>\n      <td>1</td>\n      <td>64</td>\n      <td>82</td>\n      <td>2030</td>\n      <td>1</td>\n      <td>no</td>\n      <td>2008-02-24</td>\n      <td>44</td>\n      <td>mÃ©rnÃ¶k</td>\n      <td>906</td>\n      <td>...</td>\n      <td>2008.02.25 14:30:00.0000000</td>\n      <td>1974-08-20</td>\n      <td>0</td>\n      <td>Miskolc</td>\n      <td>20.790043</td>\n      <td>48.103064</td>\n      <td>0</td>\n      <td>Budapest</td>\n      <td>19.040359</td>\n      <td>47.497994</td>\n    </tr>\n    <tr>\n      <th>2</th>\n      <td>2</td>\n      <td>71</td>\n      <td>32</td>\n      <td>1064</td>\n      <td>1</td>\n      <td>no</td>\n      <td>2007-12-11</td>\n      <td>34</td>\n      <td>hitoktatÃ³</td>\n      <td>427</td>\n      <td>...</td>\n      <td>2008.03.02 19:15:00.0000000</td>\n      <td>1984-12-18</td>\n      <td>0</td>\n      <td>Miskolc</td>\n      <td>20.790043</td>\n      <td>48.103064</td>\n      <td>0</td>\n      <td>Budapest</td>\n      <td>19.040359</td>\n      <td>47.497994</td>\n    </tr>\n    <tr>\n      <th>3</th>\n      <td>3</td>\n      <td>74</td>\n      <td>85</td>\n      <td>2184</td>\n      <td>1</td>\n      <td>no</td>\n      <td>2008-01-28</td>\n      <td>30</td>\n      <td>fÃµiskolai hallgatÃ³</td>\n      <td>984</td>\n      <td>...</td>\n      <td>2008.03.03 14:00:00.0000000</td>\n      <td>1988-01-05</td>\n      <td>0</td>\n      <td>Miskolc</td>\n      <td>20.790043</td>\n      <td>48.103064</td>\n      <td>0</td>\n      <td>Budapest</td>\n      <td>19.040359</td>\n      <td>47.497994</td>\n    </tr>\n    <tr>\n      <th>4</th>\n      <td>4</td>\n      <td>85</td>\n      <td>75</td>\n      <td>1886</td>\n      <td>1</td>\n      <td>no</td>\n      <td>2008-02-13</td>\n      <td>118</td>\n      <td>NaN</td>\n      <td>839</td>\n      <td>...</td>\n      <td>2008.03.09 16:00:00.0000000</td>\n      <td>NaN</td>\n      <td>0</td>\n      <td>Miskolc</td>\n      <td>20.790043</td>\n      <td>48.103064</td>\n      <td>0</td>\n      <td>Budapest</td>\n      <td>19.040359</td>\n      <td>47.497994</td>\n    </tr>\n  </tbody>\n</table>\n<p>5 rows × 38 columns</p>\n</div>"
     },
     "execution_count": 10,
     "metadata": {},
     "output_type": "execute_result"
    }
   ],
   "source": [
    "df.head()"
   ],
   "metadata": {
    "collapsed": false
   }
  },
  {
   "cell_type": "code",
   "execution_count": 11,
   "outputs": [],
   "source": [
    "df = df.drop('Unnamed: 0',axis=1)"
   ],
   "metadata": {
    "collapsed": false
   }
  },
  {
   "cell_type": "code",
   "execution_count": 12,
   "outputs": [],
   "source": [
    "df = df.drop('Unnamed: 0.1',axis=1)\n",
    "df = df.drop('Unnamed: 0_y',axis=1)"
   ],
   "metadata": {
    "collapsed": false
   }
  },
  {
   "cell_type": "code",
   "execution_count": 13,
   "outputs": [],
   "source": [
    "df = df.drop('Unnamed: 0_x',axis=1)"
   ],
   "metadata": {
    "collapsed": false
   }
  },
  {
   "cell_type": "code",
   "execution_count": 16,
   "outputs": [],
   "source": [
    "df = df.drop('origin_city',axis=1)"
   ],
   "metadata": {
    "collapsed": false
   }
  },
  {
   "cell_type": "code",
   "execution_count": 17,
   "outputs": [],
   "source": [
    "df.rename(columns={'0_x':'origin_city'},inplace=True)"
   ],
   "metadata": {
    "collapsed": false
   }
  },
  {
   "cell_type": "code",
   "execution_count": 18,
   "outputs": [],
   "source": [
    "df = df.drop('destination_city',axis=1)"
   ],
   "metadata": {
    "collapsed": false
   }
  },
  {
   "cell_type": "code",
   "execution_count": 19,
   "outputs": [],
   "source": [
    "df.rename(columns={'0_y':'destination_city'},inplace=True)"
   ],
   "metadata": {
    "collapsed": false
   }
  },
  {
   "cell_type": "code",
   "execution_count": 20,
   "outputs": [
    {
     "data": {
      "text/plain": "   Azonosito  autosajanlatID  no_reserver_seats passenger_gender  \\\n0          3             293                  1               no   \n1         82            2030                  1               no   \n2         32            1064                  1               no   \n3         85            2184                  1               no   \n4         75            1886                  1               no   \n\n  passenger_registration_date  passenger_age         passenger_job  segedID  \\\n0                  2007-12-29             36                   NaN      121   \n1                  2008-02-24             44              mÃ©rnÃ¶k      906   \n2                  2007-12-11             34            hitoktatÃ³      427   \n3                  2008-01-28             30  fÃµiskolai hallgatÃ³      984   \n4                  2008-02-13            118                   NaN      839   \n\n   year_of_trip origin_country  ... driver_registration_date  \\\n0          2008             hu  ...               2008-01-04   \n1          2008             hu  ...               2007-12-11   \n2          2008             hu  ...               2008-01-04   \n3          2008             hu  ...               2008-01-28   \n4          2008             hu  ...               2008-01-29   \n\n          reservation_time           journey_start_time passenger_birth_date  \\\n0  2008.01.05 22:17:59.000  2008.01.06 17:30:00.0000000           1982-10-01   \n1  2008.02.25 08:25:26.000  2008.02.25 14:30:00.0000000           1974-08-20   \n2  2008.02.29 19:14:58.000  2008.03.02 19:15:00.0000000           1984-12-18   \n3  2008.03.03 07:51:17.000  2008.03.03 14:00:00.0000000           1988-01-05   \n4  2008.03.07 12:32:32.000  2008.03.09 16:00:00.0000000                  NaN   \n\n  origin_city  Longitude_x Latitude_x  destination_city  Longitude_y  \\\n0     Miskolc    20.790043  48.103064          Budapest    19.040359   \n1     Miskolc    20.790043  48.103064          Budapest    19.040359   \n2     Miskolc    20.790043  48.103064          Budapest    19.040359   \n3     Miskolc    20.790043  48.103064          Budapest    19.040359   \n4     Miskolc    20.790043  48.103064          Budapest    19.040359   \n\n  Latitude_y  \n0  47.497994  \n1  47.497994  \n2  47.497994  \n3  47.497994  \n4  47.497994  \n\n[5 rows x 32 columns]",
      "text/html": "<div>\n<style scoped>\n    .dataframe tbody tr th:only-of-type {\n        vertical-align: middle;\n    }\n\n    .dataframe tbody tr th {\n        vertical-align: top;\n    }\n\n    .dataframe thead th {\n        text-align: right;\n    }\n</style>\n<table border=\"1\" class=\"dataframe\">\n  <thead>\n    <tr style=\"text-align: right;\">\n      <th></th>\n      <th>Azonosito</th>\n      <th>autosajanlatID</th>\n      <th>no_reserver_seats</th>\n      <th>passenger_gender</th>\n      <th>passenger_registration_date</th>\n      <th>passenger_age</th>\n      <th>passenger_job</th>\n      <th>segedID</th>\n      <th>year_of_trip</th>\n      <th>origin_country</th>\n      <th>...</th>\n      <th>driver_registration_date</th>\n      <th>reservation_time</th>\n      <th>journey_start_time</th>\n      <th>passenger_birth_date</th>\n      <th>origin_city</th>\n      <th>Longitude_x</th>\n      <th>Latitude_x</th>\n      <th>destination_city</th>\n      <th>Longitude_y</th>\n      <th>Latitude_y</th>\n    </tr>\n  </thead>\n  <tbody>\n    <tr>\n      <th>0</th>\n      <td>3</td>\n      <td>293</td>\n      <td>1</td>\n      <td>no</td>\n      <td>2007-12-29</td>\n      <td>36</td>\n      <td>NaN</td>\n      <td>121</td>\n      <td>2008</td>\n      <td>hu</td>\n      <td>...</td>\n      <td>2008-01-04</td>\n      <td>2008.01.05 22:17:59.000</td>\n      <td>2008.01.06 17:30:00.0000000</td>\n      <td>1982-10-01</td>\n      <td>Miskolc</td>\n      <td>20.790043</td>\n      <td>48.103064</td>\n      <td>Budapest</td>\n      <td>19.040359</td>\n      <td>47.497994</td>\n    </tr>\n    <tr>\n      <th>1</th>\n      <td>82</td>\n      <td>2030</td>\n      <td>1</td>\n      <td>no</td>\n      <td>2008-02-24</td>\n      <td>44</td>\n      <td>mÃ©rnÃ¶k</td>\n      <td>906</td>\n      <td>2008</td>\n      <td>hu</td>\n      <td>...</td>\n      <td>2007-12-11</td>\n      <td>2008.02.25 08:25:26.000</td>\n      <td>2008.02.25 14:30:00.0000000</td>\n      <td>1974-08-20</td>\n      <td>Miskolc</td>\n      <td>20.790043</td>\n      <td>48.103064</td>\n      <td>Budapest</td>\n      <td>19.040359</td>\n      <td>47.497994</td>\n    </tr>\n    <tr>\n      <th>2</th>\n      <td>32</td>\n      <td>1064</td>\n      <td>1</td>\n      <td>no</td>\n      <td>2007-12-11</td>\n      <td>34</td>\n      <td>hitoktatÃ³</td>\n      <td>427</td>\n      <td>2008</td>\n      <td>hu</td>\n      <td>...</td>\n      <td>2008-01-04</td>\n      <td>2008.02.29 19:14:58.000</td>\n      <td>2008.03.02 19:15:00.0000000</td>\n      <td>1984-12-18</td>\n      <td>Miskolc</td>\n      <td>20.790043</td>\n      <td>48.103064</td>\n      <td>Budapest</td>\n      <td>19.040359</td>\n      <td>47.497994</td>\n    </tr>\n    <tr>\n      <th>3</th>\n      <td>85</td>\n      <td>2184</td>\n      <td>1</td>\n      <td>no</td>\n      <td>2008-01-28</td>\n      <td>30</td>\n      <td>fÃµiskolai hallgatÃ³</td>\n      <td>984</td>\n      <td>2008</td>\n      <td>hu</td>\n      <td>...</td>\n      <td>2008-01-28</td>\n      <td>2008.03.03 07:51:17.000</td>\n      <td>2008.03.03 14:00:00.0000000</td>\n      <td>1988-01-05</td>\n      <td>Miskolc</td>\n      <td>20.790043</td>\n      <td>48.103064</td>\n      <td>Budapest</td>\n      <td>19.040359</td>\n      <td>47.497994</td>\n    </tr>\n    <tr>\n      <th>4</th>\n      <td>75</td>\n      <td>1886</td>\n      <td>1</td>\n      <td>no</td>\n      <td>2008-02-13</td>\n      <td>118</td>\n      <td>NaN</td>\n      <td>839</td>\n      <td>2008</td>\n      <td>hu</td>\n      <td>...</td>\n      <td>2008-01-29</td>\n      <td>2008.03.07 12:32:32.000</td>\n      <td>2008.03.09 16:00:00.0000000</td>\n      <td>NaN</td>\n      <td>Miskolc</td>\n      <td>20.790043</td>\n      <td>48.103064</td>\n      <td>Budapest</td>\n      <td>19.040359</td>\n      <td>47.497994</td>\n    </tr>\n  </tbody>\n</table>\n<p>5 rows × 32 columns</p>\n</div>"
     },
     "execution_count": 20,
     "metadata": {},
     "output_type": "execute_result"
    }
   ],
   "source": [
    "df.head()"
   ],
   "metadata": {
    "collapsed": false
   }
  },
  {
   "cell_type": "code",
   "execution_count": 21,
   "outputs": [
    {
     "name": "stdout",
     "output_type": "stream",
     "text": [
      "<class 'pandas.core.frame.DataFrame'>\n",
      "RangeIndex: 863638 entries, 0 to 863637\n",
      "Data columns (total 32 columns):\n",
      " #   Column                       Non-Null Count   Dtype  \n",
      "---  ------                       --------------   -----  \n",
      " 0   Azonosito                    863638 non-null  int64  \n",
      " 1   autosajanlatID               863638 non-null  int64  \n",
      " 2   no_reserver_seats            863638 non-null  int64  \n",
      " 3   passenger_gender             863638 non-null  object \n",
      " 4   passenger_registration_date  858840 non-null  object \n",
      " 5   passenger_age                863638 non-null  int64  \n",
      " 6   passenger_job                215863 non-null  object \n",
      " 7   segedID                      863638 non-null  int64  \n",
      " 8   year_of_trip                 863638 non-null  int64  \n",
      " 9   origin_country               863638 non-null  object \n",
      " 10  erkezesi ido                 863638 non-null  object \n",
      " 11  destination_country          863638 non-null  object \n",
      " 12  trip_fee                     863638 non-null  int64  \n",
      " 13  currency                     863638 non-null  object \n",
      " 14  national_or_international    863638 non-null  object \n",
      " 15  booking_interval             863638 non-null  int64  \n",
      " 16  business_or_non_business     863638 non-null  object \n",
      " 17  car_year_of_production       863638 non-null  int64  \n",
      " 18  car_age                      863638 non-null  int64  \n",
      " 19  driver_gender                863638 non-null  object \n",
      " 20  date_of_offer                863638 non-null  object \n",
      " 21  max_no_of_passengers         863638 non-null  int64  \n",
      " 22  driver_registration_date     832029 non-null  object \n",
      " 23  reservation_time             863638 non-null  object \n",
      " 24  journey_start_time           863638 non-null  object \n",
      " 25  passenger_birth_date         420203 non-null  object \n",
      " 26  origin_city                  863638 non-null  object \n",
      " 27  Longitude_x                  863532 non-null  float64\n",
      " 28  Latitude_x                   863532 non-null  float64\n",
      " 29  destination_city             863638 non-null  object \n",
      " 30  Longitude_y                  863462 non-null  float64\n",
      " 31  Latitude_y                   863462 non-null  float64\n",
      "dtypes: float64(4), int64(11), object(17)\n",
      "memory usage: 210.8+ MB\n"
     ]
    }
   ],
   "source": [
    "df.info()"
   ],
   "metadata": {
    "collapsed": false
   }
  },
  {
   "cell_type": "code",
   "execution_count": 22,
   "outputs": [],
   "source": [
    "# dataframe split to spatial analysis\n",
    "df_spatial = df[['no_reserver_seats','max_no_of_passengers','origin_country','origin_city','Longitude_x','Latitude_x','destination_country','destination_city','Longitude_y','Latitude_y','trip_fee','currency','business_or_non_business','date_of_offer','booking_interval','reservation_time','journey_start_time','erkezesi ido']].copy()"
   ],
   "metadata": {
    "collapsed": false
   }
  },
  {
   "cell_type": "code",
   "execution_count": 23,
   "outputs": [
    {
     "name": "stdout",
     "output_type": "stream",
     "text": [
      "<class 'pandas.core.frame.DataFrame'>\n",
      "RangeIndex: 863638 entries, 0 to 863637\n",
      "Data columns (total 18 columns):\n",
      " #   Column                    Non-Null Count   Dtype  \n",
      "---  ------                    --------------   -----  \n",
      " 0   no_reserver_seats         863638 non-null  int64  \n",
      " 1   max_no_of_passengers      863638 non-null  int64  \n",
      " 2   origin_country            863638 non-null  object \n",
      " 3   origin_city               863638 non-null  object \n",
      " 4   Longitude_x               863532 non-null  float64\n",
      " 5   Latitude_x                863532 non-null  float64\n",
      " 6   destination_country       863638 non-null  object \n",
      " 7   destination_city          863638 non-null  object \n",
      " 8   Longitude_y               863462 non-null  float64\n",
      " 9   Latitude_y                863462 non-null  float64\n",
      " 10  trip_fee                  863638 non-null  int64  \n",
      " 11  currency                  863638 non-null  object \n",
      " 12  business_or_non_business  863638 non-null  object \n",
      " 13  date_of_offer             863638 non-null  object \n",
      " 14  booking_interval          863638 non-null  int64  \n",
      " 15  reservation_time          863638 non-null  object \n",
      " 16  journey_start_time        863638 non-null  object \n",
      " 17  erkezesi ido              863638 non-null  object \n",
      "dtypes: float64(4), int64(4), object(10)\n",
      "memory usage: 118.6+ MB\n"
     ]
    }
   ],
   "source": [
    "df_spatial.info()"
   ],
   "metadata": {
    "collapsed": false
   }
  },
  {
   "cell_type": "code",
   "execution_count": 24,
   "outputs": [
    {
     "data": {
      "text/plain": "        no_reserver_seats  max_no_of_passengers origin_country  \\\n0                       1                     3             hu   \n1                       1                     3             hu   \n2                       1                     2             hu   \n3                       1                     3             hu   \n4                       1                     2             hu   \n...                   ...                   ...            ...   \n863633                  1                     4             hu   \n863634                  1                     3             hu   \n863635                  1                     4             de   \n863636                  1                     1             hu   \n863637                  1                     1             hu   \n\n           origin_city  Longitude_x  Latitude_x destination_country  \\\n0              Miskolc    20.790043   48.103064                  hu   \n1              Miskolc    20.790043   48.103064                  hu   \n2              Miskolc    20.790043   48.103064                  hu   \n3              Miskolc    20.790043   48.103064                  hu   \n4              Miskolc    20.790043   48.103064                  hu   \n...                ...          ...         ...                 ...   \n863633         KisdÃ©r    18.128050   45.939838                  hu   \n863634  Pusztaszabolcs    18.757609   47.138578                  de   \n863635         Fischen    11.154830   47.928486                  hu   \n863636         KislÃµd    17.621727   47.144669                  hu   \n863637         KislÃµd    17.621727   47.144669                  hu   \n\n           destination_city  Longitude_y  Latitude_y  trip_fee currency  \\\n0                  Budapest    19.040359   47.497994         0      HUF   \n1                  Budapest    19.040359   47.497994         0      HUF   \n2                  Budapest    19.040359   47.497994         0      HUF   \n3                  Budapest    19.040359   47.497994      1000      HUF   \n4                  Budapest    19.040359   47.497994      1000      HUF   \n...                     ...          ...         ...       ...      ...   \n863633       AranyosgadÃ¡ny    18.119162   46.007912       200      HUF   \n863634                Oyten     9.018866   53.059451     18000      HUF   \n863635              NyirÃ¡d    17.454559   47.005442      8400      HUF   \n863636  BakonyszentlÃ¡szlÃ³    17.804337   47.390744       700      HUF   \n863637  BakonyszentlÃ¡szlÃ³    17.804337   47.390744       700      HUF   \n\n       business_or_non_business date_of_offer  booking_interval  \\\n0                         magan    2008-01-04                 1   \n1                         magan    2008-02-24                 0   \n2                         magan    2008-02-01                 2   \n3                         magan    2008-03-01                 0   \n4                         magan    2008-02-20                 2   \n...                         ...           ...               ...   \n863633                    magan    2015-09-24                 0   \n863634                    magan    2015-09-17                 2   \n863635                    magan    2015-08-04                 2   \n863636                    magan    2015-08-13                 4   \n863637                    magan    2015-09-03                 6   \n\n               reservation_time           journey_start_time      erkezesi ido  \n0       2008.01.05 22:17:59.000  2008.01.06 17:30:00.0000000  19:30:00.0000000  \n1       2008.02.25 08:25:26.000  2008.02.25 14:30:00.0000000  16:30:00.0000000  \n2       2008.02.29 19:14:58.000  2008.03.02 19:15:00.0000000  21:00:00.0000000  \n3       2008.03.03 07:51:17.000  2008.03.03 14:00:00.0000000  17:00:00.0000000  \n4       2008.03.07 12:32:32.000  2008.03.09 16:00:00.0000000  18:00:00.0000000  \n...                         ...                          ...               ...  \n863633  2015.09.24 17:17:22.000  2015.09.24 17:20:00.0000000  17:42:00.0000000  \n863634  2015.09.23 13:49:53.000  2015.09.25 05:00:00.0000000  15:45:00.0000000  \n863635  2015.09.29 18:37:22.000  2015.10.01 15:15:00.0000000  22:00:00.0000000  \n863636  2015.10.08 23:13:13.000  2015.10.12 10:00:00.0000000  11:00:00.0000000  \n863637  2015.10.27 22:48:18.000  2015.11.02 10:00:00.0000000  11:00:00.0000000  \n\n[863638 rows x 18 columns]",
      "text/html": "<div>\n<style scoped>\n    .dataframe tbody tr th:only-of-type {\n        vertical-align: middle;\n    }\n\n    .dataframe tbody tr th {\n        vertical-align: top;\n    }\n\n    .dataframe thead th {\n        text-align: right;\n    }\n</style>\n<table border=\"1\" class=\"dataframe\">\n  <thead>\n    <tr style=\"text-align: right;\">\n      <th></th>\n      <th>no_reserver_seats</th>\n      <th>max_no_of_passengers</th>\n      <th>origin_country</th>\n      <th>origin_city</th>\n      <th>Longitude_x</th>\n      <th>Latitude_x</th>\n      <th>destination_country</th>\n      <th>destination_city</th>\n      <th>Longitude_y</th>\n      <th>Latitude_y</th>\n      <th>trip_fee</th>\n      <th>currency</th>\n      <th>business_or_non_business</th>\n      <th>date_of_offer</th>\n      <th>booking_interval</th>\n      <th>reservation_time</th>\n      <th>journey_start_time</th>\n      <th>erkezesi ido</th>\n    </tr>\n  </thead>\n  <tbody>\n    <tr>\n      <th>0</th>\n      <td>1</td>\n      <td>3</td>\n      <td>hu</td>\n      <td>Miskolc</td>\n      <td>20.790043</td>\n      <td>48.103064</td>\n      <td>hu</td>\n      <td>Budapest</td>\n      <td>19.040359</td>\n      <td>47.497994</td>\n      <td>0</td>\n      <td>HUF</td>\n      <td>magan</td>\n      <td>2008-01-04</td>\n      <td>1</td>\n      <td>2008.01.05 22:17:59.000</td>\n      <td>2008.01.06 17:30:00.0000000</td>\n      <td>19:30:00.0000000</td>\n    </tr>\n    <tr>\n      <th>1</th>\n      <td>1</td>\n      <td>3</td>\n      <td>hu</td>\n      <td>Miskolc</td>\n      <td>20.790043</td>\n      <td>48.103064</td>\n      <td>hu</td>\n      <td>Budapest</td>\n      <td>19.040359</td>\n      <td>47.497994</td>\n      <td>0</td>\n      <td>HUF</td>\n      <td>magan</td>\n      <td>2008-02-24</td>\n      <td>0</td>\n      <td>2008.02.25 08:25:26.000</td>\n      <td>2008.02.25 14:30:00.0000000</td>\n      <td>16:30:00.0000000</td>\n    </tr>\n    <tr>\n      <th>2</th>\n      <td>1</td>\n      <td>2</td>\n      <td>hu</td>\n      <td>Miskolc</td>\n      <td>20.790043</td>\n      <td>48.103064</td>\n      <td>hu</td>\n      <td>Budapest</td>\n      <td>19.040359</td>\n      <td>47.497994</td>\n      <td>0</td>\n      <td>HUF</td>\n      <td>magan</td>\n      <td>2008-02-01</td>\n      <td>2</td>\n      <td>2008.02.29 19:14:58.000</td>\n      <td>2008.03.02 19:15:00.0000000</td>\n      <td>21:00:00.0000000</td>\n    </tr>\n    <tr>\n      <th>3</th>\n      <td>1</td>\n      <td>3</td>\n      <td>hu</td>\n      <td>Miskolc</td>\n      <td>20.790043</td>\n      <td>48.103064</td>\n      <td>hu</td>\n      <td>Budapest</td>\n      <td>19.040359</td>\n      <td>47.497994</td>\n      <td>1000</td>\n      <td>HUF</td>\n      <td>magan</td>\n      <td>2008-03-01</td>\n      <td>0</td>\n      <td>2008.03.03 07:51:17.000</td>\n      <td>2008.03.03 14:00:00.0000000</td>\n      <td>17:00:00.0000000</td>\n    </tr>\n    <tr>\n      <th>4</th>\n      <td>1</td>\n      <td>2</td>\n      <td>hu</td>\n      <td>Miskolc</td>\n      <td>20.790043</td>\n      <td>48.103064</td>\n      <td>hu</td>\n      <td>Budapest</td>\n      <td>19.040359</td>\n      <td>47.497994</td>\n      <td>1000</td>\n      <td>HUF</td>\n      <td>magan</td>\n      <td>2008-02-20</td>\n      <td>2</td>\n      <td>2008.03.07 12:32:32.000</td>\n      <td>2008.03.09 16:00:00.0000000</td>\n      <td>18:00:00.0000000</td>\n    </tr>\n    <tr>\n      <th>...</th>\n      <td>...</td>\n      <td>...</td>\n      <td>...</td>\n      <td>...</td>\n      <td>...</td>\n      <td>...</td>\n      <td>...</td>\n      <td>...</td>\n      <td>...</td>\n      <td>...</td>\n      <td>...</td>\n      <td>...</td>\n      <td>...</td>\n      <td>...</td>\n      <td>...</td>\n      <td>...</td>\n      <td>...</td>\n      <td>...</td>\n    </tr>\n    <tr>\n      <th>863633</th>\n      <td>1</td>\n      <td>4</td>\n      <td>hu</td>\n      <td>KisdÃ©r</td>\n      <td>18.128050</td>\n      <td>45.939838</td>\n      <td>hu</td>\n      <td>AranyosgadÃ¡ny</td>\n      <td>18.119162</td>\n      <td>46.007912</td>\n      <td>200</td>\n      <td>HUF</td>\n      <td>magan</td>\n      <td>2015-09-24</td>\n      <td>0</td>\n      <td>2015.09.24 17:17:22.000</td>\n      <td>2015.09.24 17:20:00.0000000</td>\n      <td>17:42:00.0000000</td>\n    </tr>\n    <tr>\n      <th>863634</th>\n      <td>1</td>\n      <td>3</td>\n      <td>hu</td>\n      <td>Pusztaszabolcs</td>\n      <td>18.757609</td>\n      <td>47.138578</td>\n      <td>de</td>\n      <td>Oyten</td>\n      <td>9.018866</td>\n      <td>53.059451</td>\n      <td>18000</td>\n      <td>HUF</td>\n      <td>magan</td>\n      <td>2015-09-17</td>\n      <td>2</td>\n      <td>2015.09.23 13:49:53.000</td>\n      <td>2015.09.25 05:00:00.0000000</td>\n      <td>15:45:00.0000000</td>\n    </tr>\n    <tr>\n      <th>863635</th>\n      <td>1</td>\n      <td>4</td>\n      <td>de</td>\n      <td>Fischen</td>\n      <td>11.154830</td>\n      <td>47.928486</td>\n      <td>hu</td>\n      <td>NyirÃ¡d</td>\n      <td>17.454559</td>\n      <td>47.005442</td>\n      <td>8400</td>\n      <td>HUF</td>\n      <td>magan</td>\n      <td>2015-08-04</td>\n      <td>2</td>\n      <td>2015.09.29 18:37:22.000</td>\n      <td>2015.10.01 15:15:00.0000000</td>\n      <td>22:00:00.0000000</td>\n    </tr>\n    <tr>\n      <th>863636</th>\n      <td>1</td>\n      <td>1</td>\n      <td>hu</td>\n      <td>KislÃµd</td>\n      <td>17.621727</td>\n      <td>47.144669</td>\n      <td>hu</td>\n      <td>BakonyszentlÃ¡szlÃ³</td>\n      <td>17.804337</td>\n      <td>47.390744</td>\n      <td>700</td>\n      <td>HUF</td>\n      <td>magan</td>\n      <td>2015-08-13</td>\n      <td>4</td>\n      <td>2015.10.08 23:13:13.000</td>\n      <td>2015.10.12 10:00:00.0000000</td>\n      <td>11:00:00.0000000</td>\n    </tr>\n    <tr>\n      <th>863637</th>\n      <td>1</td>\n      <td>1</td>\n      <td>hu</td>\n      <td>KislÃµd</td>\n      <td>17.621727</td>\n      <td>47.144669</td>\n      <td>hu</td>\n      <td>BakonyszentlÃ¡szlÃ³</td>\n      <td>17.804337</td>\n      <td>47.390744</td>\n      <td>700</td>\n      <td>HUF</td>\n      <td>magan</td>\n      <td>2015-09-03</td>\n      <td>6</td>\n      <td>2015.10.27 22:48:18.000</td>\n      <td>2015.11.02 10:00:00.0000000</td>\n      <td>11:00:00.0000000</td>\n    </tr>\n  </tbody>\n</table>\n<p>863638 rows × 18 columns</p>\n</div>"
     },
     "execution_count": 24,
     "metadata": {},
     "output_type": "execute_result"
    }
   ],
   "source": [
    "df_spatial # export dataframe into csv"
   ],
   "metadata": {
    "collapsed": false
   }
  }
 ],
 "metadata": {
  "kernelspec": {
   "display_name": "Python 3",
   "language": "python",
   "name": "python3"
  },
  "language_info": {
   "codemirror_mode": {
    "name": "ipython",
    "version": 2
   },
   "file_extension": ".py",
   "mimetype": "text/x-python",
   "name": "python",
   "nbconvert_exporter": "python",
   "pygments_lexer": "ipython2",
   "version": "2.7.6"
  }
 },
 "nbformat": 4,
 "nbformat_minor": 0
}
