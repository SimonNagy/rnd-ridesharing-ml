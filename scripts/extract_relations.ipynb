{
 "cells": [
  {
   "cell_type": "code",
   "execution_count": 1,
   "metadata": {
    "collapsed": true
   },
   "outputs": [],
   "source": [
    "import pandas as pd"
   ]
  },
  {
   "cell_type": "code",
   "execution_count": 2,
   "outputs": [],
   "source": [
    "df = pd.read_csv('../data/data_preprocessed_v02_working')"
   ],
   "metadata": {
    "collapsed": false
   }
  },
  {
   "cell_type": "code",
   "execution_count": 3,
   "outputs": [
    {
     "data": {
      "text/plain": "                                                       0  \\\nUnnamed: 0                                             0   \nAzonosito                                              3   \nautosajanlatID                                       293   \nno_reserver_seats                                      1   \npassenger_gender                                      no   \npassenger_registration_date                   2007-12-29   \npassenger_age                                         36   \npassenger_job                                        NaN   \nsegedID                                              121   \nyear_of_trip                                        2008   \norigin_city                                      Miskolc   \norigin_country                                        hu   \nerkezesi ido                            19:30:00.0000000   \ndestination_city                                Budapest   \ndestination_country                                   hu   \ntrip_fee                                               0   \ncurrency                                             HUF   \nnational_or_international                          hazai   \nbooking_interval                                       1   \nbusiness_or_non_business                           magan   \ncar_year_of_production                              2007   \ncar_age                                               11   \ndriver_gender                                         no   \ndate_of_offer                                 2008-01-04   \nmax_no_of_passengers                                   3   \ndriver_registration_date                      2008-01-04   \nreservation_time                 2008.01.05 22:17:59.000   \njourney_start_time           2008.01.06 17:30:00.0000000   \npassenger_birth_date                          1982-10-01   \n\n                                                       1  \\\nUnnamed: 0                                             1   \nAzonosito                                              7   \nautosajanlatID                                       405   \nno_reserver_seats                                      1   \npassenger_gender                                     ffi   \npassenger_registration_date                   2007-11-28   \npassenger_age                                         34   \npassenger_job                               Gépészmérnök   \nsegedID                                              164   \nyear_of_trip                                        2008   \norigin_city                                     Budapest   \norigin_country                                        hu   \nerkezesi ido                            09:00:00.0000000   \ndestination_city                                 Szolnok   \ndestination_country                                   hu   \ntrip_fee                                               0   \ncurrency                                             HUF   \nnational_or_international                          hazai   \nbooking_interval                                       5   \nbusiness_or_non_business                           magan   \ncar_year_of_production                              2007   \ncar_age                                               11   \ndriver_gender                                        ffi   \ndate_of_offer                                 2008-01-11   \nmax_no_of_passengers                                   3   \ndriver_registration_date                      2007-12-21   \nreservation_time                 2008.01.11 19:00:16.000   \njourney_start_time           2008.01.16 07:00:00.0000000   \npassenger_birth_date                          1984-08-16   \n\n                                                       2  \\\nUnnamed: 0                                             2   \nAzonosito                                              8   \nautosajanlatID                                       440   \nno_reserver_seats                                      1   \npassenger_gender                                     ffi   \npassenger_registration_date                   2008-01-02   \npassenger_age                                         33   \npassenger_job                                        NaN   \nsegedID                                              180   \nyear_of_trip                                        2008   \norigin_city                                     Budapest   \norigin_country                                        hu   \nerkezesi ido                            22:45:00.0000000   \ndestination_city                                    Gyõr   \ndestination_country                                   hu   \ntrip_fee                                               0   \ncurrency                                             HUF   \nnational_or_international                          hazai   \nbooking_interval                                       1   \nbusiness_or_non_business                           magan   \ncar_year_of_production                              2006   \ncar_age                                               12   \ndriver_gender                                        ffi   \ndate_of_offer                                 2008-01-15   \nmax_no_of_passengers                                   4   \ndriver_registration_date                      2007-11-26   \nreservation_time                 2008.01.16 00:01:00.000   \njourney_start_time           2008.01.17 21:30:00.0000000   \npassenger_birth_date                          1985-01-11   \n\n                                                       3  \\\nUnnamed: 0                                             3   \nAzonosito                                              9   \nautosajanlatID                                       442   \nno_reserver_seats                                      1   \npassenger_gender                                      no   \npassenger_registration_date                   2007-11-27   \npassenger_age                                         36   \npassenger_job                                      árazó   \nsegedID                                              180   \nyear_of_trip                                        2008   \norigin_city                                     Budapest   \norigin_country                                        hu   \nerkezesi ido                            00:00:00.0000000   \ndestination_city                             Szombathely   \ndestination_country                                   hu   \ntrip_fee                                               0   \ncurrency                                             HUF   \nnational_or_international                          hazai   \nbooking_interval                                       1   \nbusiness_or_non_business                           magan   \ncar_year_of_production                              2006   \ncar_age                                               12   \ndriver_gender                                        ffi   \ndate_of_offer                                 2008-01-15   \nmax_no_of_passengers                                   4   \ndriver_registration_date                      2007-11-26   \nreservation_time                 2008.01.16 09:34:21.000   \njourney_start_time           2008.01.17 21:30:00.0000000   \npassenger_birth_date                          1982-09-04   \n\n                                                       4  \nUnnamed: 0                                             4  \nAzonosito                                             10  \nautosajanlatID                                       442  \nno_reserver_seats                                      1  \npassenger_gender                                     ffi  \npassenger_registration_date                   2007-11-26  \npassenger_age                                         34  \npassenger_job                                     mérnök  \nsegedID                                              180  \nyear_of_trip                                        2008  \norigin_city                                     Budapest  \norigin_country                                        hu  \nerkezesi ido                            00:00:00.0000000  \ndestination_city                             Szombathely  \ndestination_country                                   hu  \ntrip_fee                                               0  \ncurrency                                             HUF  \nnational_or_international                          hazai  \nbooking_interval                                       1  \nbusiness_or_non_business                           magan  \ncar_year_of_production                              2006  \ncar_age                                               12  \ndriver_gender                                        ffi  \ndate_of_offer                                 2008-01-15  \nmax_no_of_passengers                                   4  \ndriver_registration_date                      2007-11-26  \nreservation_time                 2008.01.16 09:46:36.000  \njourney_start_time           2008.01.17 21:30:00.0000000  \npassenger_birth_date                          1984-07-17  ",
      "text/html": "<div>\n<style scoped>\n    .dataframe tbody tr th:only-of-type {\n        vertical-align: middle;\n    }\n\n    .dataframe tbody tr th {\n        vertical-align: top;\n    }\n\n    .dataframe thead th {\n        text-align: right;\n    }\n</style>\n<table border=\"1\" class=\"dataframe\">\n  <thead>\n    <tr style=\"text-align: right;\">\n      <th></th>\n      <th>0</th>\n      <th>1</th>\n      <th>2</th>\n      <th>3</th>\n      <th>4</th>\n    </tr>\n  </thead>\n  <tbody>\n    <tr>\n      <th>Unnamed: 0</th>\n      <td>0</td>\n      <td>1</td>\n      <td>2</td>\n      <td>3</td>\n      <td>4</td>\n    </tr>\n    <tr>\n      <th>Azonosito</th>\n      <td>3</td>\n      <td>7</td>\n      <td>8</td>\n      <td>9</td>\n      <td>10</td>\n    </tr>\n    <tr>\n      <th>autosajanlatID</th>\n      <td>293</td>\n      <td>405</td>\n      <td>440</td>\n      <td>442</td>\n      <td>442</td>\n    </tr>\n    <tr>\n      <th>no_reserver_seats</th>\n      <td>1</td>\n      <td>1</td>\n      <td>1</td>\n      <td>1</td>\n      <td>1</td>\n    </tr>\n    <tr>\n      <th>passenger_gender</th>\n      <td>no</td>\n      <td>ffi</td>\n      <td>ffi</td>\n      <td>no</td>\n      <td>ffi</td>\n    </tr>\n    <tr>\n      <th>passenger_registration_date</th>\n      <td>2007-12-29</td>\n      <td>2007-11-28</td>\n      <td>2008-01-02</td>\n      <td>2007-11-27</td>\n      <td>2007-11-26</td>\n    </tr>\n    <tr>\n      <th>passenger_age</th>\n      <td>36</td>\n      <td>34</td>\n      <td>33</td>\n      <td>36</td>\n      <td>34</td>\n    </tr>\n    <tr>\n      <th>passenger_job</th>\n      <td>NaN</td>\n      <td>Gépészmérnök</td>\n      <td>NaN</td>\n      <td>árazó</td>\n      <td>mérnök</td>\n    </tr>\n    <tr>\n      <th>segedID</th>\n      <td>121</td>\n      <td>164</td>\n      <td>180</td>\n      <td>180</td>\n      <td>180</td>\n    </tr>\n    <tr>\n      <th>year_of_trip</th>\n      <td>2008</td>\n      <td>2008</td>\n      <td>2008</td>\n      <td>2008</td>\n      <td>2008</td>\n    </tr>\n    <tr>\n      <th>origin_city</th>\n      <td>Miskolc</td>\n      <td>Budapest</td>\n      <td>Budapest</td>\n      <td>Budapest</td>\n      <td>Budapest</td>\n    </tr>\n    <tr>\n      <th>origin_country</th>\n      <td>hu</td>\n      <td>hu</td>\n      <td>hu</td>\n      <td>hu</td>\n      <td>hu</td>\n    </tr>\n    <tr>\n      <th>erkezesi ido</th>\n      <td>19:30:00.0000000</td>\n      <td>09:00:00.0000000</td>\n      <td>22:45:00.0000000</td>\n      <td>00:00:00.0000000</td>\n      <td>00:00:00.0000000</td>\n    </tr>\n    <tr>\n      <th>destination_city</th>\n      <td>Budapest</td>\n      <td>Szolnok</td>\n      <td>Gyõr</td>\n      <td>Szombathely</td>\n      <td>Szombathely</td>\n    </tr>\n    <tr>\n      <th>destination_country</th>\n      <td>hu</td>\n      <td>hu</td>\n      <td>hu</td>\n      <td>hu</td>\n      <td>hu</td>\n    </tr>\n    <tr>\n      <th>trip_fee</th>\n      <td>0</td>\n      <td>0</td>\n      <td>0</td>\n      <td>0</td>\n      <td>0</td>\n    </tr>\n    <tr>\n      <th>currency</th>\n      <td>HUF</td>\n      <td>HUF</td>\n      <td>HUF</td>\n      <td>HUF</td>\n      <td>HUF</td>\n    </tr>\n    <tr>\n      <th>national_or_international</th>\n      <td>hazai</td>\n      <td>hazai</td>\n      <td>hazai</td>\n      <td>hazai</td>\n      <td>hazai</td>\n    </tr>\n    <tr>\n      <th>booking_interval</th>\n      <td>1</td>\n      <td>5</td>\n      <td>1</td>\n      <td>1</td>\n      <td>1</td>\n    </tr>\n    <tr>\n      <th>business_or_non_business</th>\n      <td>magan</td>\n      <td>magan</td>\n      <td>magan</td>\n      <td>magan</td>\n      <td>magan</td>\n    </tr>\n    <tr>\n      <th>car_year_of_production</th>\n      <td>2007</td>\n      <td>2007</td>\n      <td>2006</td>\n      <td>2006</td>\n      <td>2006</td>\n    </tr>\n    <tr>\n      <th>car_age</th>\n      <td>11</td>\n      <td>11</td>\n      <td>12</td>\n      <td>12</td>\n      <td>12</td>\n    </tr>\n    <tr>\n      <th>driver_gender</th>\n      <td>no</td>\n      <td>ffi</td>\n      <td>ffi</td>\n      <td>ffi</td>\n      <td>ffi</td>\n    </tr>\n    <tr>\n      <th>date_of_offer</th>\n      <td>2008-01-04</td>\n      <td>2008-01-11</td>\n      <td>2008-01-15</td>\n      <td>2008-01-15</td>\n      <td>2008-01-15</td>\n    </tr>\n    <tr>\n      <th>max_no_of_passengers</th>\n      <td>3</td>\n      <td>3</td>\n      <td>4</td>\n      <td>4</td>\n      <td>4</td>\n    </tr>\n    <tr>\n      <th>driver_registration_date</th>\n      <td>2008-01-04</td>\n      <td>2007-12-21</td>\n      <td>2007-11-26</td>\n      <td>2007-11-26</td>\n      <td>2007-11-26</td>\n    </tr>\n    <tr>\n      <th>reservation_time</th>\n      <td>2008.01.05 22:17:59.000</td>\n      <td>2008.01.11 19:00:16.000</td>\n      <td>2008.01.16 00:01:00.000</td>\n      <td>2008.01.16 09:34:21.000</td>\n      <td>2008.01.16 09:46:36.000</td>\n    </tr>\n    <tr>\n      <th>journey_start_time</th>\n      <td>2008.01.06 17:30:00.0000000</td>\n      <td>2008.01.16 07:00:00.0000000</td>\n      <td>2008.01.17 21:30:00.0000000</td>\n      <td>2008.01.17 21:30:00.0000000</td>\n      <td>2008.01.17 21:30:00.0000000</td>\n    </tr>\n    <tr>\n      <th>passenger_birth_date</th>\n      <td>1982-10-01</td>\n      <td>1984-08-16</td>\n      <td>1985-01-11</td>\n      <td>1982-09-04</td>\n      <td>1984-07-17</td>\n    </tr>\n  </tbody>\n</table>\n</div>"
     },
     "execution_count": 3,
     "metadata": {},
     "output_type": "execute_result"
    }
   ],
   "source": [
    "df.head().transpose()"
   ],
   "metadata": {
    "collapsed": false
   }
  },
  {
   "cell_type": "code",
   "execution_count": 4,
   "outputs": [],
   "source": [
    "origins = df['origin_city']\n",
    "destinations = df['destination_city']"
   ],
   "metadata": {
    "collapsed": false
   }
  },
  {
   "cell_type": "code",
   "execution_count": 7,
   "outputs": [],
   "source": [
    "origins = pd.DataFrame(origins)"
   ],
   "metadata": {
    "collapsed": false
   }
  },
  {
   "cell_type": "code",
   "execution_count": 8,
   "outputs": [],
   "source": [
    "destinations = pd.DataFrame(destinations)"
   ],
   "metadata": {
    "collapsed": false
   }
  },
  {
   "cell_type": "code",
   "execution_count": 9,
   "outputs": [],
   "source": [
    "relations = origins.join(destinations)"
   ],
   "metadata": {
    "collapsed": false
   }
  },
  {
   "cell_type": "code",
   "execution_count": 10,
   "outputs": [
    {
     "data": {
      "text/plain": "       origin_city destination_city\n0          Miskolc         Budapest\n1         Budapest          Szolnok\n2         Budapest             Gyõr\n3         Budapest      Szombathely\n4         Budapest      Szombathely\n...            ...              ...\n863633      Szeged         Budapest\n863634      Szeged         Budapest\n863635     Miskolc         Budapest\n863636   Szekszárd           Mohács\n863637    Budapest             Eger\n\n[863638 rows x 2 columns]",
      "text/html": "<div>\n<style scoped>\n    .dataframe tbody tr th:only-of-type {\n        vertical-align: middle;\n    }\n\n    .dataframe tbody tr th {\n        vertical-align: top;\n    }\n\n    .dataframe thead th {\n        text-align: right;\n    }\n</style>\n<table border=\"1\" class=\"dataframe\">\n  <thead>\n    <tr style=\"text-align: right;\">\n      <th></th>\n      <th>origin_city</th>\n      <th>destination_city</th>\n    </tr>\n  </thead>\n  <tbody>\n    <tr>\n      <th>0</th>\n      <td>Miskolc</td>\n      <td>Budapest</td>\n    </tr>\n    <tr>\n      <th>1</th>\n      <td>Budapest</td>\n      <td>Szolnok</td>\n    </tr>\n    <tr>\n      <th>2</th>\n      <td>Budapest</td>\n      <td>Gyõr</td>\n    </tr>\n    <tr>\n      <th>3</th>\n      <td>Budapest</td>\n      <td>Szombathely</td>\n    </tr>\n    <tr>\n      <th>4</th>\n      <td>Budapest</td>\n      <td>Szombathely</td>\n    </tr>\n    <tr>\n      <th>...</th>\n      <td>...</td>\n      <td>...</td>\n    </tr>\n    <tr>\n      <th>863633</th>\n      <td>Szeged</td>\n      <td>Budapest</td>\n    </tr>\n    <tr>\n      <th>863634</th>\n      <td>Szeged</td>\n      <td>Budapest</td>\n    </tr>\n    <tr>\n      <th>863635</th>\n      <td>Miskolc</td>\n      <td>Budapest</td>\n    </tr>\n    <tr>\n      <th>863636</th>\n      <td>Szekszárd</td>\n      <td>Mohács</td>\n    </tr>\n    <tr>\n      <th>863637</th>\n      <td>Budapest</td>\n      <td>Eger</td>\n    </tr>\n  </tbody>\n</table>\n<p>863638 rows × 2 columns</p>\n</div>"
     },
     "execution_count": 10,
     "metadata": {},
     "output_type": "execute_result"
    }
   ],
   "source": [
    "relations"
   ],
   "metadata": {
    "collapsed": false
   }
  },
  {
   "cell_type": "code",
   "execution_count": 11,
   "outputs": [],
   "source": [
    "origins_geocoded = pd.read_csv('../results/origins_geocoded.csv')"
   ],
   "metadata": {
    "collapsed": false
   }
  },
  {
   "cell_type": "code",
   "execution_count": 14,
   "outputs": [
    {
     "data": {
      "text/plain": "      Unnamed: 0           0  Longitude   Latitude\n0              0     Miskolc  20.790043  48.103064\n1              1    Budapest  19.040359  47.497994\n2              2   Kecskemét  19.692807  46.908079\n3              3    Debrecen  21.625978  47.531399\n4              4        Eger  20.374367  47.898989\n...          ...         ...        ...        ...\n1570        1570       Gelej  20.773319  47.829957\n1571        1571  Nordhausen  10.792532  51.505157\n1572        1572   Hajmáskér  18.014268  47.144469\n1573        1573      Trento  11.129742  46.102954\n1574        1574      Gemzse  22.194257  48.139532\n\n[1575 rows x 4 columns]",
      "text/html": "<div>\n<style scoped>\n    .dataframe tbody tr th:only-of-type {\n        vertical-align: middle;\n    }\n\n    .dataframe tbody tr th {\n        vertical-align: top;\n    }\n\n    .dataframe thead th {\n        text-align: right;\n    }\n</style>\n<table border=\"1\" class=\"dataframe\">\n  <thead>\n    <tr style=\"text-align: right;\">\n      <th></th>\n      <th>Unnamed: 0</th>\n      <th>0</th>\n      <th>Longitude</th>\n      <th>Latitude</th>\n    </tr>\n  </thead>\n  <tbody>\n    <tr>\n      <th>0</th>\n      <td>0</td>\n      <td>Miskolc</td>\n      <td>20.790043</td>\n      <td>48.103064</td>\n    </tr>\n    <tr>\n      <th>1</th>\n      <td>1</td>\n      <td>Budapest</td>\n      <td>19.040359</td>\n      <td>47.497994</td>\n    </tr>\n    <tr>\n      <th>2</th>\n      <td>2</td>\n      <td>Kecskemét</td>\n      <td>19.692807</td>\n      <td>46.908079</td>\n    </tr>\n    <tr>\n      <th>3</th>\n      <td>3</td>\n      <td>Debrecen</td>\n      <td>21.625978</td>\n      <td>47.531399</td>\n    </tr>\n    <tr>\n      <th>4</th>\n      <td>4</td>\n      <td>Eger</td>\n      <td>20.374367</td>\n      <td>47.898989</td>\n    </tr>\n    <tr>\n      <th>...</th>\n      <td>...</td>\n      <td>...</td>\n      <td>...</td>\n      <td>...</td>\n    </tr>\n    <tr>\n      <th>1570</th>\n      <td>1570</td>\n      <td>Gelej</td>\n      <td>20.773319</td>\n      <td>47.829957</td>\n    </tr>\n    <tr>\n      <th>1571</th>\n      <td>1571</td>\n      <td>Nordhausen</td>\n      <td>10.792532</td>\n      <td>51.505157</td>\n    </tr>\n    <tr>\n      <th>1572</th>\n      <td>1572</td>\n      <td>Hajmáskér</td>\n      <td>18.014268</td>\n      <td>47.144469</td>\n    </tr>\n    <tr>\n      <th>1573</th>\n      <td>1573</td>\n      <td>Trento</td>\n      <td>11.129742</td>\n      <td>46.102954</td>\n    </tr>\n    <tr>\n      <th>1574</th>\n      <td>1574</td>\n      <td>Gemzse</td>\n      <td>22.194257</td>\n      <td>48.139532</td>\n    </tr>\n  </tbody>\n</table>\n<p>1575 rows × 4 columns</p>\n</div>"
     },
     "execution_count": 14,
     "metadata": {},
     "output_type": "execute_result"
    }
   ],
   "source": [
    "origins_geocoded"
   ],
   "metadata": {
    "collapsed": false
   }
  },
  {
   "cell_type": "code",
   "execution_count": 12,
   "outputs": [],
   "source": [
    "destinations_geocoded = pd.read_csv('../results/destinations_geocoded.csv')"
   ],
   "metadata": {
    "collapsed": false
   }
  },
  {
   "cell_type": "code",
   "execution_count": 15,
   "outputs": [],
   "source": [
    "merged_df = pd.merge(df,origins_geocoded,left_on='origin_city',right_on='0')"
   ],
   "metadata": {
    "collapsed": false
   }
  },
  {
   "cell_type": "code",
   "execution_count": 17,
   "outputs": [],
   "source": [
    "data_with_relations = pd.merge(merged_df,destinations_geocoded,left_on='destination_city',right_on='0')"
   ],
   "metadata": {
    "collapsed": false
   }
  },
  {
   "cell_type": "code",
   "execution_count": 21,
   "outputs": [
    {
     "name": "stdout",
     "output_type": "stream",
     "text": [
      "<class 'pandas.core.frame.DataFrame'>\n",
      "Int64Index: 863638 entries, 0 to 863637\n",
      "Data columns (total 37 columns):\n",
      " #   Column                       Non-Null Count   Dtype  \n",
      "---  ------                       --------------   -----  \n",
      " 0   Unnamed: 0_x                 863638 non-null  int64  \n",
      " 1   Azonosito                    863638 non-null  int64  \n",
      " 2   autosajanlatID               863638 non-null  int64  \n",
      " 3   no_reserver_seats            863638 non-null  int64  \n",
      " 4   passenger_gender             863638 non-null  object \n",
      " 5   passenger_registration_date  858840 non-null  object \n",
      " 6   passenger_age                863638 non-null  int64  \n",
      " 7   passenger_job                215863 non-null  object \n",
      " 8   segedID                      863638 non-null  int64  \n",
      " 9   year_of_trip                 863638 non-null  int64  \n",
      " 10  origin_city                  863638 non-null  object \n",
      " 11  origin_country               863638 non-null  object \n",
      " 12  erkezesi ido                 863638 non-null  object \n",
      " 13  destination_city             863638 non-null  object \n",
      " 14  destination_country          863638 non-null  object \n",
      " 15  trip_fee                     863638 non-null  int64  \n",
      " 16  currency                     863638 non-null  object \n",
      " 17  national_or_international    863638 non-null  object \n",
      " 18  booking_interval             863638 non-null  int64  \n",
      " 19  business_or_non_business     863638 non-null  object \n",
      " 20  car_year_of_production       863638 non-null  int64  \n",
      " 21  car_age                      863638 non-null  int64  \n",
      " 22  driver_gender                863638 non-null  object \n",
      " 23  date_of_offer                863638 non-null  object \n",
      " 24  max_no_of_passengers         863638 non-null  int64  \n",
      " 25  driver_registration_date     832029 non-null  object \n",
      " 26  reservation_time             863638 non-null  object \n",
      " 27  journey_start_time           863638 non-null  object \n",
      " 28  passenger_birth_date         420203 non-null  object \n",
      " 29  Unnamed: 0_y                 863638 non-null  int64  \n",
      " 30  0_x                          863638 non-null  object \n",
      " 31  Longitude_x                  863532 non-null  float64\n",
      " 32  Latitude_x                   863532 non-null  float64\n",
      " 33  Unnamed: 0                   863638 non-null  int64  \n",
      " 34  0_y                          863638 non-null  object \n",
      " 35  Longitude_y                  863462 non-null  float64\n",
      " 36  Latitude_y                   863462 non-null  float64\n",
      "dtypes: float64(4), int64(14), object(19)\n",
      "memory usage: 250.4+ MB\n"
     ]
    }
   ],
   "source": [
    "data_with_relations.info()"
   ],
   "metadata": {
    "collapsed": false
   }
  },
  {
   "cell_type": "code",
   "execution_count": 22,
   "outputs": [],
   "source": [
    "data_with_relations.to_csv()"
   ],
   "metadata": {
    "collapsed": false
   }
  },
  {
   "cell_type": "code",
   "execution_count": null,
   "outputs": [],
   "source": [],
   "metadata": {
    "collapsed": false
   }
  }
 ],
 "metadata": {
  "kernelspec": {
   "display_name": "Python 3",
   "language": "python",
   "name": "python3"
  },
  "language_info": {
   "codemirror_mode": {
    "name": "ipython",
    "version": 2
   },
   "file_extension": ".py",
   "mimetype": "text/x-python",
   "name": "python",
   "nbconvert_exporter": "python",
   "pygments_lexer": "ipython2",
   "version": "2.7.6"
  }
 },
 "nbformat": 4,
 "nbformat_minor": 0
}
