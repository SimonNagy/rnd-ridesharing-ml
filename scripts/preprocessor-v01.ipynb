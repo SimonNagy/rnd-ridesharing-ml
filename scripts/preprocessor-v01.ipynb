{
 "cells": [
  {
   "cell_type": "code",
   "execution_count": 2,
   "metadata": {
    "collapsed": true
   },
   "outputs": [],
   "source": [
    "import pandas as pd\n",
    "import numpy as np\n",
    "import seaborn as sns\n",
    "import matplotlib.pyplot as plt\n",
    "from pathlib import Path"
   ]
  },
  {
   "cell_type": "code",
   "execution_count": 3,
   "outputs": [],
   "source": [
    "df = pd.read_csv('../data/raw_data.csv',encoding='ISO-8859-1', on_bad_lines='skip',delimiter=';',low_memory=False)"
   ],
   "metadata": {
    "collapsed": false
   }
  },
  {
   "cell_type": "code",
   "execution_count": 17,
   "outputs": [
    {
     "name": "stdout",
     "output_type": "stream",
     "text": [
      "<class 'pandas.core.frame.DataFrame'>\n",
      "RangeIndex: 863652 entries, 0 to 863651\n",
      "Data columns (total 32 columns):\n",
      " #   Column                                         Non-Null Count   Dtype         \n",
      "---  ------                                         --------------   -----         \n",
      " 0   Azonosito                                      863652 non-null  int64         \n",
      " 1   autosajanlatID                                 863652 non-null  int64         \n",
      " 2   foglalt helyek szama                           863652 non-null  int64         \n",
      " 3   foglalas napja                                 863652 non-null  datetime64[ns]\n",
      " 4   foglalas ideje_oraperc                         863652 non-null  object        \n",
      " 5   utas neme                                      863652 non-null  object        \n",
      " 6   utas regisztracios datuma                      858854 non-null  datetime64[ns]\n",
      " 7   utas szuletesi datuma                          420208 non-null  datetime64[ns]\n",
      " 8   utas kora                                      863652 non-null  int64         \n",
      " 9   utas foglalkozasa                              215865 non-null  object        \n",
      " 10  utazas tipusa                                  863652 non-null  object        \n",
      " 11  segedID                                        863652 non-null  int64         \n",
      " 12  utazas eve                                     863652 non-null  int64         \n",
      " 13  indulas napja                                  863652 non-null  datetime64[ns]\n",
      " 14  indulasi ido                                   863652 non-null  object        \n",
      " 15  indulas varosa                                 863652 non-null  object        \n",
      " 16  indulas orszaga                                863652 non-null  object        \n",
      " 17  erkezesi ido                                   863652 non-null  object        \n",
      " 18  erkezes varosa                                 863652 non-null  object        \n",
      " 19  erkezes orszaga                                863652 non-null  object        \n",
      " 20  utdij                                          863652 non-null  int64         \n",
      " 21  pénznem                                        863652 non-null  object        \n",
      " 22  hazai vagy nemzetkozi                          863652 non-null  object        \n",
      " 23  foglalási napok (utazas napja-foglalas napja)  863652 non-null  int64         \n",
      " 24  magan vagy uzleti                              863652 non-null  object        \n",
      " 25  autok gyartasi eve                             863652 non-null  object        \n",
      " 26  autok életkora                                 863652 non-null  object        \n",
      " 27  sofor neme                                     863652 non-null  object        \n",
      " 28  sofõr szuletesi ideje                          489253 non-null  object        \n",
      " 29  ajanlat datuma                                 863652 non-null  object        \n",
      " 30  max utasszám                                   863652 non-null  int64         \n",
      " 31  sofor reg datuma                               832042 non-null  object        \n",
      "dtypes: datetime64[ns](4), int64(9), object(19)\n",
      "memory usage: 210.9+ MB\n"
     ]
    }
   ],
   "source": [
    "df.info()"
   ],
   "metadata": {
    "collapsed": false
   }
  },
  {
   "cell_type": "code",
   "execution_count": 22,
   "outputs": [
    {
     "data": {
      "text/plain": "   Azonosito  autosajanlatID  foglalt helyek szama foglalas napja  \\\n0          3             293                     1     2008-01-05   \n1          7             405                     1     2008-01-11   \n2          8             440                     1     2008-01-16   \n3          9             442                     1     2008-01-16   \n4         10             442                     1     2008-01-16   \n\n  foglalas ideje_oraperc utas neme utas regisztracios datuma  \\\n0           22:17:59.000        no                2007-12-29   \n1           19:00:16.000       ffi                2007-11-28   \n2           00:01:00.000       ffi                2008-01-02   \n3           09:34:21.000        no                2007-11-27   \n4           09:46:36.000       ffi                2007-11-26   \n\n  utas szuletesi datuma  utas kora utas foglalkozasa  ...  \\\n0            1982-10-01         36               NaN  ...   \n1            1984-08-16         34      Gépészmérnök  ...   \n2            1985-01-11         33               NaN  ...   \n3            1982-09-04         36             árazó  ...   \n4            1984-07-17         34            mérnök  ...   \n\n  hazai vagy nemzetkozi  foglalási napok (utazas napja-foglalas napja)  \\\n0                 hazai                                              1   \n1                 hazai                                              5   \n2                 hazai                                              1   \n3                 hazai                                              1   \n4                 hazai                                              1   \n\n   magan vagy uzleti autok gyartasi eve autok életkora sofor neme  \\\n0              magan               2007             11         no   \n1              magan               2007             11        ffi   \n2              magan               2006             12        ffi   \n3              magan               2006             12        ffi   \n4              magan               2006             12        ffi   \n\n  sofõr szuletesi ideje ajanlat datuma max utasszám sofor reg datuma  \n0            1979.07.04     2008.01.04            3       2008-01-04  \n1            1976.06.19     2008.01.11            3       2007-12-21  \n2            1985.03.27     2008.01.15            4       2007-11-26  \n3            1985.03.27     2008.01.15            4       2007-11-26  \n4            1985.03.27     2008.01.15            4       2007-11-26  \n\n[5 rows x 32 columns]",
      "text/html": "<div>\n<style scoped>\n    .dataframe tbody tr th:only-of-type {\n        vertical-align: middle;\n    }\n\n    .dataframe tbody tr th {\n        vertical-align: top;\n    }\n\n    .dataframe thead th {\n        text-align: right;\n    }\n</style>\n<table border=\"1\" class=\"dataframe\">\n  <thead>\n    <tr style=\"text-align: right;\">\n      <th></th>\n      <th>Azonosito</th>\n      <th>autosajanlatID</th>\n      <th>foglalt helyek szama</th>\n      <th>foglalas napja</th>\n      <th>foglalas ideje_oraperc</th>\n      <th>utas neme</th>\n      <th>utas regisztracios datuma</th>\n      <th>utas szuletesi datuma</th>\n      <th>utas kora</th>\n      <th>utas foglalkozasa</th>\n      <th>...</th>\n      <th>hazai vagy nemzetkozi</th>\n      <th>foglalási napok (utazas napja-foglalas napja)</th>\n      <th>magan vagy uzleti</th>\n      <th>autok gyartasi eve</th>\n      <th>autok életkora</th>\n      <th>sofor neme</th>\n      <th>sofõr szuletesi ideje</th>\n      <th>ajanlat datuma</th>\n      <th>max utasszám</th>\n      <th>sofor reg datuma</th>\n    </tr>\n  </thead>\n  <tbody>\n    <tr>\n      <th>0</th>\n      <td>3</td>\n      <td>293</td>\n      <td>1</td>\n      <td>2008-01-05</td>\n      <td>22:17:59.000</td>\n      <td>no</td>\n      <td>2007-12-29</td>\n      <td>1982-10-01</td>\n      <td>36</td>\n      <td>NaN</td>\n      <td>...</td>\n      <td>hazai</td>\n      <td>1</td>\n      <td>magan</td>\n      <td>2007</td>\n      <td>11</td>\n      <td>no</td>\n      <td>1979.07.04</td>\n      <td>2008.01.04</td>\n      <td>3</td>\n      <td>2008-01-04</td>\n    </tr>\n    <tr>\n      <th>1</th>\n      <td>7</td>\n      <td>405</td>\n      <td>1</td>\n      <td>2008-01-11</td>\n      <td>19:00:16.000</td>\n      <td>ffi</td>\n      <td>2007-11-28</td>\n      <td>1984-08-16</td>\n      <td>34</td>\n      <td>Gépészmérnök</td>\n      <td>...</td>\n      <td>hazai</td>\n      <td>5</td>\n      <td>magan</td>\n      <td>2007</td>\n      <td>11</td>\n      <td>ffi</td>\n      <td>1976.06.19</td>\n      <td>2008.01.11</td>\n      <td>3</td>\n      <td>2007-12-21</td>\n    </tr>\n    <tr>\n      <th>2</th>\n      <td>8</td>\n      <td>440</td>\n      <td>1</td>\n      <td>2008-01-16</td>\n      <td>00:01:00.000</td>\n      <td>ffi</td>\n      <td>2008-01-02</td>\n      <td>1985-01-11</td>\n      <td>33</td>\n      <td>NaN</td>\n      <td>...</td>\n      <td>hazai</td>\n      <td>1</td>\n      <td>magan</td>\n      <td>2006</td>\n      <td>12</td>\n      <td>ffi</td>\n      <td>1985.03.27</td>\n      <td>2008.01.15</td>\n      <td>4</td>\n      <td>2007-11-26</td>\n    </tr>\n    <tr>\n      <th>3</th>\n      <td>9</td>\n      <td>442</td>\n      <td>1</td>\n      <td>2008-01-16</td>\n      <td>09:34:21.000</td>\n      <td>no</td>\n      <td>2007-11-27</td>\n      <td>1982-09-04</td>\n      <td>36</td>\n      <td>árazó</td>\n      <td>...</td>\n      <td>hazai</td>\n      <td>1</td>\n      <td>magan</td>\n      <td>2006</td>\n      <td>12</td>\n      <td>ffi</td>\n      <td>1985.03.27</td>\n      <td>2008.01.15</td>\n      <td>4</td>\n      <td>2007-11-26</td>\n    </tr>\n    <tr>\n      <th>4</th>\n      <td>10</td>\n      <td>442</td>\n      <td>1</td>\n      <td>2008-01-16</td>\n      <td>09:46:36.000</td>\n      <td>ffi</td>\n      <td>2007-11-26</td>\n      <td>1984-07-17</td>\n      <td>34</td>\n      <td>mérnök</td>\n      <td>...</td>\n      <td>hazai</td>\n      <td>1</td>\n      <td>magan</td>\n      <td>2006</td>\n      <td>12</td>\n      <td>ffi</td>\n      <td>1985.03.27</td>\n      <td>2008.01.15</td>\n      <td>4</td>\n      <td>2007-11-26</td>\n    </tr>\n  </tbody>\n</table>\n<p>5 rows × 32 columns</p>\n</div>"
     },
     "execution_count": 22,
     "metadata": {},
     "output_type": "execute_result"
    }
   ],
   "source": [
    "df.head(5)"
   ],
   "metadata": {
    "collapsed": false
   }
  },
  {
   "cell_type": "code",
   "execution_count": 6,
   "outputs": [
    {
     "data": {
      "text/plain": "                                                  count          mean  \\\nAzonosito                                      863652.0  4.344416e+05   \nautosajanlatID                                 863652.0  9.204739e+06   \nfoglalt helyek szama                           863652.0  1.147033e+00   \nutas kora                                      863652.0  7.759632e+01   \nsegedID                                        863652.0  1.512057e+06   \nutazas eve                                     863652.0  2.014229e+03   \nutdij                                          863652.0  2.555882e+03   \nfoglalási napok (utazas napja-foglalas napja)  863652.0  1.948193e+00   \nmax utasszám                                   863652.0  3.562845e+00   \n\n                                                        std     min  \\\nAzonosito                                      2.506017e+05     1.0   \nautosajanlatID                                 6.134876e+06    97.0   \nfoglalt helyek szama                           4.102404e-01     0.0   \nutas kora                                      4.203160e+01    14.0   \nsegedID                                        7.290157e+05     8.0   \nutazas eve                                     1.001625e+00  2008.0   \nutdij                                          3.296993e+03     0.0   \nfoglalási napok (utazas napja-foglalas napja)  3.196422e+00     0.0   \nmax utasszám                                   1.653165e+00    -1.0   \n\n                                                      25%        50%  \\\nAzonosito                                       217566.75   434635.5   \nautosajanlatID                                 3805728.75  8277693.5   \nfoglalt helyek szama                                 1.00        1.0   \nutas kora                                           32.00      118.0   \nsegedID                                         923983.75  1554792.0   \nutazas eve                                        2014.00     2015.0   \nutdij                                             1800.00     2000.0   \nfoglalási napok (utazas napja-foglalas napja)        1.00        1.0   \nmax utasszám                                         3.00        3.0   \n\n                                                       75%         max  \nAzonosito                                        651463.25    868222.0  \nautosajanlatID                                 14279401.00  23074756.0  \nfoglalt helyek szama                                  1.00        12.0  \nutas kora                                           118.00       118.0  \nsegedID                                         2137162.00   2820961.0  \nutazas eve                                         2015.00      2015.0  \nutdij                                              2500.00    391500.0  \nfoglalási napok (utazas napja-foglalas napja)         2.00       384.0  \nmax utasszám                                          4.00        52.0  ",
      "text/html": "<div>\n<style scoped>\n    .dataframe tbody tr th:only-of-type {\n        vertical-align: middle;\n    }\n\n    .dataframe tbody tr th {\n        vertical-align: top;\n    }\n\n    .dataframe thead th {\n        text-align: right;\n    }\n</style>\n<table border=\"1\" class=\"dataframe\">\n  <thead>\n    <tr style=\"text-align: right;\">\n      <th></th>\n      <th>count</th>\n      <th>mean</th>\n      <th>std</th>\n      <th>min</th>\n      <th>25%</th>\n      <th>50%</th>\n      <th>75%</th>\n      <th>max</th>\n    </tr>\n  </thead>\n  <tbody>\n    <tr>\n      <th>Azonosito</th>\n      <td>863652.0</td>\n      <td>4.344416e+05</td>\n      <td>2.506017e+05</td>\n      <td>1.0</td>\n      <td>217566.75</td>\n      <td>434635.5</td>\n      <td>651463.25</td>\n      <td>868222.0</td>\n    </tr>\n    <tr>\n      <th>autosajanlatID</th>\n      <td>863652.0</td>\n      <td>9.204739e+06</td>\n      <td>6.134876e+06</td>\n      <td>97.0</td>\n      <td>3805728.75</td>\n      <td>8277693.5</td>\n      <td>14279401.00</td>\n      <td>23074756.0</td>\n    </tr>\n    <tr>\n      <th>foglalt helyek szama</th>\n      <td>863652.0</td>\n      <td>1.147033e+00</td>\n      <td>4.102404e-01</td>\n      <td>0.0</td>\n      <td>1.00</td>\n      <td>1.0</td>\n      <td>1.00</td>\n      <td>12.0</td>\n    </tr>\n    <tr>\n      <th>utas kora</th>\n      <td>863652.0</td>\n      <td>7.759632e+01</td>\n      <td>4.203160e+01</td>\n      <td>14.0</td>\n      <td>32.00</td>\n      <td>118.0</td>\n      <td>118.00</td>\n      <td>118.0</td>\n    </tr>\n    <tr>\n      <th>segedID</th>\n      <td>863652.0</td>\n      <td>1.512057e+06</td>\n      <td>7.290157e+05</td>\n      <td>8.0</td>\n      <td>923983.75</td>\n      <td>1554792.0</td>\n      <td>2137162.00</td>\n      <td>2820961.0</td>\n    </tr>\n    <tr>\n      <th>utazas eve</th>\n      <td>863652.0</td>\n      <td>2.014229e+03</td>\n      <td>1.001625e+00</td>\n      <td>2008.0</td>\n      <td>2014.00</td>\n      <td>2015.0</td>\n      <td>2015.00</td>\n      <td>2015.0</td>\n    </tr>\n    <tr>\n      <th>utdij</th>\n      <td>863652.0</td>\n      <td>2.555882e+03</td>\n      <td>3.296993e+03</td>\n      <td>0.0</td>\n      <td>1800.00</td>\n      <td>2000.0</td>\n      <td>2500.00</td>\n      <td>391500.0</td>\n    </tr>\n    <tr>\n      <th>foglalási napok (utazas napja-foglalas napja)</th>\n      <td>863652.0</td>\n      <td>1.948193e+00</td>\n      <td>3.196422e+00</td>\n      <td>0.0</td>\n      <td>1.00</td>\n      <td>1.0</td>\n      <td>2.00</td>\n      <td>384.0</td>\n    </tr>\n    <tr>\n      <th>max utasszám</th>\n      <td>863652.0</td>\n      <td>3.562845e+00</td>\n      <td>1.653165e+00</td>\n      <td>-1.0</td>\n      <td>3.00</td>\n      <td>3.0</td>\n      <td>4.00</td>\n      <td>52.0</td>\n    </tr>\n  </tbody>\n</table>\n</div>"
     },
     "execution_count": 6,
     "metadata": {},
     "output_type": "execute_result"
    }
   ],
   "source": [
    "df.describe().transpose()"
   ],
   "metadata": {
    "collapsed": false
   }
  },
  {
   "cell_type": "code",
   "execution_count": 9,
   "outputs": [],
   "source": [
    "df['foglalas napja'] = pd.to_datetime(df['foglalas napja'])"
   ],
   "metadata": {
    "collapsed": false
   }
  },
  {
   "cell_type": "code",
   "execution_count": 10,
   "outputs": [
    {
     "data": {
      "text/plain": "0        2008-01-05\n1        2008-01-11\n2        2008-01-16\n3        2008-01-16\n4        2008-01-16\n            ...    \n863647   2015-12-30\n863648   2015-12-31\n863649   2015-12-31\n863650   2015-12-31\n863651   2015-12-31\nName: foglalas napja, Length: 863652, dtype: datetime64[ns]"
     },
     "execution_count": 10,
     "metadata": {},
     "output_type": "execute_result"
    }
   ],
   "source": [
    "df['foglalas napja']"
   ],
   "metadata": {
    "collapsed": false
   }
  },
  {
   "cell_type": "code",
   "execution_count": 11,
   "outputs": [],
   "source": [
    "df['utas regisztracios datuma'] = pd.to_datetime(df['utas regisztracios datuma'])"
   ],
   "metadata": {
    "collapsed": false
   }
  },
  {
   "cell_type": "code",
   "execution_count": 12,
   "outputs": [
    {
     "data": {
      "text/plain": "0        2007-12-29\n1        2007-11-28\n2        2008-01-02\n3        2007-11-27\n4        2007-11-26\n            ...    \n863647   2013-12-04\n863648   2015-10-29\n863649   2015-09-27\n863650   2015-03-04\n863651   2015-12-31\nName: utas regisztracios datuma, Length: 863652, dtype: datetime64[ns]"
     },
     "execution_count": 12,
     "metadata": {},
     "output_type": "execute_result"
    }
   ],
   "source": [
    "df['utas regisztracios datuma']"
   ],
   "metadata": {
    "collapsed": false
   }
  },
  {
   "cell_type": "code",
   "execution_count": 13,
   "outputs": [],
   "source": [
    "df['utas szuletesi datuma'] = pd.to_datetime(df['utas szuletesi datuma'])"
   ],
   "metadata": {
    "collapsed": false
   }
  },
  {
   "cell_type": "code",
   "execution_count": 14,
   "outputs": [
    {
     "data": {
      "text/plain": "0        1982-10-01\n1        1984-08-16\n2        1985-01-11\n3        1982-09-04\n4        1984-07-17\n            ...    \n863647          NaT\n863648          NaT\n863649   1988-01-14\n863650          NaT\n863651          NaT\nName: utas szuletesi datuma, Length: 863652, dtype: datetime64[ns]"
     },
     "execution_count": 14,
     "metadata": {},
     "output_type": "execute_result"
    }
   ],
   "source": [
    "df['utas szuletesi datuma']"
   ],
   "metadata": {
    "collapsed": false
   }
  },
  {
   "cell_type": "code",
   "execution_count": 16,
   "outputs": [],
   "source": [
    "df['indulas napja'] = pd.to_datetime(df['indulas napja'])"
   ],
   "metadata": {
    "collapsed": false
   }
  },
  {
   "cell_type": "code",
   "execution_count": 21,
   "outputs": [
    {
     "data": {
      "text/plain": "Timestamp('2023-01-26 17:30:00')"
     },
     "execution_count": 21,
     "metadata": {},
     "output_type": "execute_result"
    }
   ],
   "source": [
    "df['indulasi ido'].iloc[0]"
   ],
   "metadata": {
    "collapsed": false
   }
  },
  {
   "cell_type": "code",
   "execution_count": null,
   "outputs": [],
   "source": [],
   "metadata": {
    "collapsed": false
   }
  }
 ],
 "metadata": {
  "kernelspec": {
   "display_name": "Python 3",
   "language": "python",
   "name": "python3"
  },
  "language_info": {
   "codemirror_mode": {
    "name": "ipython",
    "version": 2
   },
   "file_extension": ".py",
   "mimetype": "text/x-python",
   "name": "python",
   "nbconvert_exporter": "python",
   "pygments_lexer": "ipython2",
   "version": "2.7.6"
  }
 },
 "nbformat": 4,
 "nbformat_minor": 0
}
