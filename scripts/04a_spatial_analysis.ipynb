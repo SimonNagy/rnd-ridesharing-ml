{
 "cells": [
  {
   "cell_type": "code",
   "execution_count": 1,
   "metadata": {
    "collapsed": true
   },
   "outputs": [],
   "source": [
    "import pandas as pd\n",
    "import seaborn as sns\n",
    "import matplotlib.pyplot as plt"
   ]
  },
  {
   "cell_type": "code",
   "execution_count": 3,
   "outputs": [],
   "source": [
    "df = pd.read_csv('../data/df_spatial.csv',sep=';',low_memory=False,encoding='iso-8859-1',on_bad_lines='skip')"
   ],
   "metadata": {
    "collapsed": false
   }
  },
  {
   "cell_type": "code",
   "execution_count": 4,
   "outputs": [
    {
     "name": "stdout",
     "output_type": "stream",
     "text": [
      "<class 'pandas.core.frame.DataFrame'>\n",
      "RangeIndex: 863638 entries, 0 to 863637\n",
      "Data columns (total 19 columns):\n",
      " #   Column                    Non-Null Count   Dtype  \n",
      "---  ------                    --------------   -----  \n",
      " 0   Unnamed: 0                863638 non-null  int64  \n",
      " 1   no_reserver_seats         863638 non-null  int64  \n",
      " 2   max_no_of_passengers      863638 non-null  int64  \n",
      " 3   origin_country            863638 non-null  object \n",
      " 4   origin_city               863638 non-null  object \n",
      " 5   Longitude_x               863532 non-null  float64\n",
      " 6   Latitude_x                863532 non-null  float64\n",
      " 7   destination_country       863638 non-null  object \n",
      " 8   destination_city          863638 non-null  object \n",
      " 9   Longitude_y               863462 non-null  float64\n",
      " 10  Latitude_y                863462 non-null  float64\n",
      " 11  trip_fee                  863638 non-null  int64  \n",
      " 12  currency                  863638 non-null  object \n",
      " 13  business_or_non_business  863638 non-null  object \n",
      " 14  date_of_offer             863638 non-null  object \n",
      " 15  booking_interval          863638 non-null  int64  \n",
      " 16  reservation_time          863638 non-null  object \n",
      " 17  journey_start_time        863638 non-null  object \n",
      " 18  erkezesi ido              863638 non-null  object \n",
      "dtypes: float64(4), int64(5), object(10)\n",
      "memory usage: 125.2+ MB\n"
     ]
    }
   ],
   "source": [
    "df.info()"
   ],
   "metadata": {
    "collapsed": false
   }
  },
  {
   "cell_type": "code",
   "execution_count": 5,
   "outputs": [],
   "source": [
    "relations = df[['origin_city','Longitude_x','Latitude_x','destination_city','Longitude_y','Latitude_y']].copy()"
   ],
   "metadata": {
    "collapsed": false
   }
  },
  {
   "cell_type": "code",
   "execution_count": 6,
   "outputs": [
    {
     "data": {
      "text/plain": "           origin_city  Longitude_x  Latitude_x         destination_city  \\\n0              Miskolc    20.790043   48.103064                 Budapest   \n1              Miskolc    20.790043   48.103064                 Budapest   \n2              Miskolc    20.790043   48.103064                 Budapest   \n3              Miskolc    20.790043   48.103064                 Budapest   \n4              Miskolc    20.790043   48.103064                 Budapest   \n...                ...          ...         ...                      ...   \n863633       KisdÃÂ©r    18.128050   45.939838         AranyosgadÃÂ¡ny   \n863634  Pusztaszabolcs    18.757609   47.138578                    Oyten   \n863635         Fischen    11.154830   47.928486                NyirÃÂ¡d   \n863636       KislÃÂµd    17.621727   47.144669  BakonyszentlÃÂ¡szlÃÂ³   \n863637       KislÃÂµd    17.621727   47.144669  BakonyszentlÃÂ¡szlÃÂ³   \n\n        Longitude_y  Latitude_y  \n0         19.040359   47.497994  \n1         19.040359   47.497994  \n2         19.040359   47.497994  \n3         19.040359   47.497994  \n4         19.040359   47.497994  \n...             ...         ...  \n863633    18.119162   46.007912  \n863634     9.018866   53.059451  \n863635    17.454559   47.005442  \n863636    17.804337   47.390744  \n863637    17.804337   47.390744  \n\n[863638 rows x 6 columns]",
      "text/html": "<div>\n<style scoped>\n    .dataframe tbody tr th:only-of-type {\n        vertical-align: middle;\n    }\n\n    .dataframe tbody tr th {\n        vertical-align: top;\n    }\n\n    .dataframe thead th {\n        text-align: right;\n    }\n</style>\n<table border=\"1\" class=\"dataframe\">\n  <thead>\n    <tr style=\"text-align: right;\">\n      <th></th>\n      <th>origin_city</th>\n      <th>Longitude_x</th>\n      <th>Latitude_x</th>\n      <th>destination_city</th>\n      <th>Longitude_y</th>\n      <th>Latitude_y</th>\n    </tr>\n  </thead>\n  <tbody>\n    <tr>\n      <th>0</th>\n      <td>Miskolc</td>\n      <td>20.790043</td>\n      <td>48.103064</td>\n      <td>Budapest</td>\n      <td>19.040359</td>\n      <td>47.497994</td>\n    </tr>\n    <tr>\n      <th>1</th>\n      <td>Miskolc</td>\n      <td>20.790043</td>\n      <td>48.103064</td>\n      <td>Budapest</td>\n      <td>19.040359</td>\n      <td>47.497994</td>\n    </tr>\n    <tr>\n      <th>2</th>\n      <td>Miskolc</td>\n      <td>20.790043</td>\n      <td>48.103064</td>\n      <td>Budapest</td>\n      <td>19.040359</td>\n      <td>47.497994</td>\n    </tr>\n    <tr>\n      <th>3</th>\n      <td>Miskolc</td>\n      <td>20.790043</td>\n      <td>48.103064</td>\n      <td>Budapest</td>\n      <td>19.040359</td>\n      <td>47.497994</td>\n    </tr>\n    <tr>\n      <th>4</th>\n      <td>Miskolc</td>\n      <td>20.790043</td>\n      <td>48.103064</td>\n      <td>Budapest</td>\n      <td>19.040359</td>\n      <td>47.497994</td>\n    </tr>\n    <tr>\n      <th>...</th>\n      <td>...</td>\n      <td>...</td>\n      <td>...</td>\n      <td>...</td>\n      <td>...</td>\n      <td>...</td>\n    </tr>\n    <tr>\n      <th>863633</th>\n      <td>KisdÃÂ©r</td>\n      <td>18.128050</td>\n      <td>45.939838</td>\n      <td>AranyosgadÃÂ¡ny</td>\n      <td>18.119162</td>\n      <td>46.007912</td>\n    </tr>\n    <tr>\n      <th>863634</th>\n      <td>Pusztaszabolcs</td>\n      <td>18.757609</td>\n      <td>47.138578</td>\n      <td>Oyten</td>\n      <td>9.018866</td>\n      <td>53.059451</td>\n    </tr>\n    <tr>\n      <th>863635</th>\n      <td>Fischen</td>\n      <td>11.154830</td>\n      <td>47.928486</td>\n      <td>NyirÃÂ¡d</td>\n      <td>17.454559</td>\n      <td>47.005442</td>\n    </tr>\n    <tr>\n      <th>863636</th>\n      <td>KislÃÂµd</td>\n      <td>17.621727</td>\n      <td>47.144669</td>\n      <td>BakonyszentlÃÂ¡szlÃÂ³</td>\n      <td>17.804337</td>\n      <td>47.390744</td>\n    </tr>\n    <tr>\n      <th>863637</th>\n      <td>KislÃÂµd</td>\n      <td>17.621727</td>\n      <td>47.144669</td>\n      <td>BakonyszentlÃÂ¡szlÃÂ³</td>\n      <td>17.804337</td>\n      <td>47.390744</td>\n    </tr>\n  </tbody>\n</table>\n<p>863638 rows × 6 columns</p>\n</div>"
     },
     "execution_count": 6,
     "metadata": {},
     "output_type": "execute_result"
    }
   ],
   "source": [
    "relations"
   ],
   "metadata": {
    "collapsed": false
   }
  },
  {
   "cell_type": "code",
   "execution_count": null,
   "outputs": [],
   "source": [],
   "metadata": {
    "collapsed": false
   }
  }
 ],
 "metadata": {
  "kernelspec": {
   "display_name": "Python 3",
   "language": "python",
   "name": "python3"
  },
  "language_info": {
   "codemirror_mode": {
    "name": "ipython",
    "version": 2
   },
   "file_extension": ".py",
   "mimetype": "text/x-python",
   "name": "python",
   "nbconvert_exporter": "python",
   "pygments_lexer": "ipython2",
   "version": "2.7.6"
  }
 },
 "nbformat": 4,
 "nbformat_minor": 0
}
